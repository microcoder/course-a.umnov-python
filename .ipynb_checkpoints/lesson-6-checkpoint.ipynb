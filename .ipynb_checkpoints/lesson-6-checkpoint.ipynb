{
 "cells": [
  {
   "cell_type": "markdown",
   "metadata": {},
   "source": [
    "# Работа с текстом. Декораторы\n",
    "\n",
    "Алексей Умнов https://www.youtube.com/watch?v=0sg15V669qM  \n",
    "Слайды доступны по адресу: http://parallels.nsu.ru/~fat/Python/\n",
    "\n",
    "## Работа с кодировками\n",
    "\n",
    "### Первая часть относится к Python версии 2.x\n",
    "\n",
    "Кодировка\n",
    "* Алгоритм кодирования E  \n",
    "  Символы ---> Байты\n",
    "* Алгоритм декодирования D  \n",
    "  Байты ---> Символы\n",
    "\n",
    "D = (E в степени -1)\n",
    "\n",
    "Обычно просто таблица Символ <---> Байты\n",
    "\n",
    "В Python есть тип `str` - последовательность байт:\n",
    "\n",
    "|symbol  | byte |\n",
    "|--------|------|\n",
    "| 'a'    | 0x61 |\n",
    "| '\\n'   | 0x0A |\n",
    "| '\\xff' | 0xff |"
   ]
  },
  {
   "cell_type": "code",
   "execution_count": 5,
   "metadata": {},
   "outputs": [
    {
     "name": "stdout",
     "output_type": "stream",
     "text": [
      "a a\n",
      "\n",
      "\n"
     ]
    }
   ],
   "source": [
    "print('a', '\\x61')\n",
    "print('\\x0a') # Символ новой строки"
   ]
  },
  {
   "cell_type": "markdown",
   "metadata": {},
   "source": [
    "В Python есть тип `unicode` - последовательность символов:\n",
    "\n",
    "|           |   |\n",
    "|-----------|   |\n",
    "| u'Q'      | Q |\n",
    "| u'щ'      | щ |\n",
    "| u'\\u0449' | щ |"
   ]
  },
  {
   "cell_type": "code",
   "execution_count": 6,
   "metadata": {},
   "outputs": [
    {
     "name": "stdout",
     "output_type": "stream",
     "text": [
      "привет\n"
     ]
    }
   ],
   "source": [
    "print(u'привет')"
   ]
  },
  {
   "cell_type": "markdown",
   "metadata": {},
   "source": [
    "#### unicode -> str:"
   ]
  },
  {
   "cell_type": "code",
   "execution_count": 7,
   "metadata": {},
   "outputs": [
    {
     "name": "stdout",
     "output_type": "stream",
     "text": [
      "<class 'str'>\n",
      "<class 'bytes'>\n",
      "b'\\xd1\\x8d\\xd1\\x8e\\xd1\\x8f'\n"
     ]
    }
   ],
   "source": [
    "u = u'эюя'\n",
    "\n",
    "print(type(u))         # <class 'str'>\n",
    "s = u.encode('utf-8')  # Кодирование в байты, кодировка UTF-8\n",
    "print(type(s))         # <class 'bytes'>\n",
    "print(s)               # b'\\xd1\\x8d\\xd1\\x8e\\xd1\\x8f'"
   ]
  },
  {
   "cell_type": "markdown",
   "metadata": {},
   "source": [
    "#### str -> unicode:"
   ]
  },
  {
   "cell_type": "code",
   "execution_count": 8,
   "metadata": {},
   "outputs": [
    {
     "name": "stdout",
     "output_type": "stream",
     "text": [
      "<class 'str'>\n",
      "эюя\n"
     ]
    }
   ],
   "source": [
    "u2 = s.decode('utf-8') # Раскодирование из байт в символы\n",
    "print(type(u))         # <class 'str'>\n",
    "print(u2)              # эюя"
   ]
  },
  {
   "cell_type": "markdown",
   "metadata": {},
   "source": [
    "Кодирование данных:\n",
    "\n",
    "````python\n",
    "with open('in.txt') as fin:\n",
    "  data_in = fin.read() # Получили из файла байты\n",
    "text_in = data_in.decode('utf-8') # Раскодировали байты в символы\n",
    "\n",
    "...\n",
    "\n",
    "text_out = ...\n",
    "\n",
    "data_out = text_out.encode('utf-8') # Текст кодируется в последовательность байт таблицы UTF-8\n",
    "with open('out.txt', 'w') as fout:\n",
    "  fout.write(data_out)    # Записывается последовательность байт\n",
    "````\n",
    "\n",
    "Эту схему можно упростить с помощью библиотеки `codecs`:\n",
    "\n",
    "````python\n",
    "import codecs\n",
    "\n",
    "with codecs.open('in.txt', encoding='utf-8') as fin:\n",
    "  text_in = fin.read()\n",
    "\n",
    "...\n",
    "\n",
    "text_out = ...\n",
    "\n",
    "with codecs.open('out.txt', 'w', encoding='utf-8') as fout:\n",
    "  fout.write(text_out)\n",
    "````\n",
    "\n",
    "### Строки в Python 3.x\n",
    "\n",
    "| Тип   | Запись     | Аналог в Python 2 |\n",
    "|-------|------------|-------------------|\n",
    "| str   | 'привет'   | unicode           |\n",
    "| bytes | b'abc\\xff' | str               |\n",
    "\n",
    "В Python 3 тип `str` превратился в `bytes`, а `unicode` в `str`.\n",
    "\n",
    "## Регулярные выражения"
   ]
  },
  {
   "cell_type": "code",
   "execution_count": 9,
   "metadata": {},
   "outputs": [
    {
     "name": "stdout",
     "output_type": "stream",
     "text": [
      "<_sre.SRE_Match object; span=(48, 49), match='i'>\n",
      "i 48 49\n"
     ]
    }
   ],
   "source": [
    "import re\n",
    "\n",
    "text = \"\"\"In September 1769 she reached New\n",
    "Zealand, the first European vessel to visit\n",
    "in 127 years.\"\"\"\n",
    "\n",
    "m = re.search('i', text)             # Возвращает первое вхождение\n",
    "print(m)                             # Возвращает некий объект у которого есть методы:\n",
    "print(m.group(), m.start(), m.end()) # Получаем вхождение по шаблону, начало и конец номера символа"
   ]
  },
  {
   "cell_type": "markdown",
   "metadata": {},
   "source": [
    "Функция с форматированием результата:"
   ]
  },
  {
   "cell_type": "code",
   "execution_count": 11,
   "metadata": {},
   "outputs": [
    {
     "name": "stdout",
     "output_type": "stream",
     "text": [
      "RE pattern: i\n",
      "Найдена группа 'i', диапазон символов: 48-49\n",
      "Найдена группа 'i', диапазон символов: 73-74\n",
      "Найдена группа 'i', диапазон символов: 75-76\n",
      "Найдена группа 'i', диапазон символов: 78-79\n",
      "RE pattern: [0-9]+\n",
      "Найдена группа '1769', диапазон символов: 13-17\n",
      "Найдена группа '127', диапазон символов: 81-84\n"
     ]
    }
   ],
   "source": [
    "def search_result(pattern, text):\n",
    "    print('RE pattern:', pattern)\n",
    "    \n",
    "    for m in re.finditer(pattern, text): # finditer - находит все вхождения\n",
    "        print(\"Найдена группа '{0}', диапазон символов: {1}-{2}\".format(m.group(), m.start(), m.end()))\n",
    "\n",
    "\n",
    "search_result('i', text)\n",
    "search_result('[0-9]+', text)"
   ]
  },
  {
   "cell_type": "markdown",
   "metadata": {},
   "source": [
    "Если попытаться найти `backslash` в тексте из одного `backslash`, то получим ошибку:"
   ]
  },
  {
   "cell_type": "code",
   "execution_count": 14,
   "metadata": {},
   "outputs": [
    {
     "name": "stdout",
     "output_type": "stream",
     "text": [
      "RE pattern: \\\n",
      "bad escape (end of pattern) at position 0\n"
     ]
    }
   ],
   "source": [
    "try:\n",
    "    search_result('\\\\', '\\\\')\n",
    "except Exception as e:\n",
    "    print(e)"
   ]
  },
  {
   "cell_type": "markdown",
   "metadata": {},
   "source": [
    "Ошибка возникает потому, что этот символ должен экранироваться в регулярных выражениях. Исправим наш шаблон регулярных выражений:"
   ]
  },
  {
   "cell_type": "code",
   "execution_count": 15,
   "metadata": {},
   "outputs": [
    {
     "name": "stdout",
     "output_type": "stream",
     "text": [
      "RE pattern: \\\\\n",
      "Найдена группа '\\', диапазон символов: 0-1\n"
     ]
    }
   ],
   "source": [
    "search_result('\\\\\\\\', '\\\\')"
   ]
  },
  {
   "cell_type": "markdown",
   "metadata": {},
   "source": [
    "Страдание с подсчетом экранирующих символов `backslash` можно избежать, вписав управляющий символ `r` перед строкой, который обозначает сырую (raw) строку:"
   ]
  },
  {
   "cell_type": "code",
   "execution_count": 16,
   "metadata": {},
   "outputs": [
    {
     "name": "stdout",
     "output_type": "stream",
     "text": [
      "RE pattern: \\\\\n",
      "Найдена группа '\\', диапазон символов: 0-1\n"
     ]
    }
   ],
   "source": [
    "search_result(r'\\\\', '\\\\')"
   ]
  },
  {
   "cell_type": "markdown",
   "metadata": {},
   "source": [
    "Еще примеры. Точка в RE - любой символ. Если хотим найти только с символом точки, то ее надо экранировать:"
   ]
  },
  {
   "cell_type": "code",
   "execution_count": 17,
   "metadata": {},
   "outputs": [
    {
     "name": "stdout",
     "output_type": "stream",
     "text": [
      "RE pattern: s.\n",
      "Найдена группа 'sh', диапазон символов: 18-20\n",
      "Найдена группа 'st', диапазон символов: 50-52\n",
      "Найдена группа 'ss', диапазон символов: 64-66\n",
      "Найдена группа 'si', диапазон символов: 74-76\n",
      "Найдена группа 's.', диапазон символов: 89-91\n"
     ]
    }
   ],
   "source": [
    "search_result(r's.', text)"
   ]
  },
  {
   "cell_type": "code",
   "execution_count": 18,
   "metadata": {},
   "outputs": [
    {
     "name": "stdout",
     "output_type": "stream",
     "text": [
      "RE pattern: s\\.\n",
      "Найдена группа 's.', диапазон символов: 89-91\n"
     ]
    }
   ],
   "source": [
    "search_result(r's\\.', text)"
   ]
  },
  {
   "cell_type": "code",
   "execution_count": 19,
   "metadata": {},
   "outputs": [
    {
     "name": "stdout",
     "output_type": "stream",
     "text": [
      "RE pattern: sh*e\n",
      "Найдена группа 'she', диапазон символов: 18-21\n",
      "Найдена группа 'se', диапазон символов: 65-67\n"
     ]
    }
   ],
   "source": [
    "search_result(r'sh*e', text)"
   ]
  },
  {
   "cell_type": "code",
   "execution_count": 20,
   "metadata": {},
   "outputs": [
    {
     "name": "stdout",
     "output_type": "stream",
     "text": [
      "RE pattern: .s+.\n",
      "Найдена группа ' sh', диапазон символов: 17-20\n",
      "Найдена группа 'rst', диапазон символов: 49-52\n",
      "Найдена группа 'esse', диапазон символов: 63-67\n",
      "Найдена группа 'isi', диапазон символов: 73-76\n",
      "Найдена группа 'rs.', диапазон символов: 88-91\n"
     ]
    }
   ],
   "source": [
    "search_result(r'.s+.', text)"
   ]
  },
  {
   "cell_type": "code",
   "execution_count": 21,
   "metadata": {},
   "outputs": [
    {
     "name": "stdout",
     "output_type": "stream",
     "text": [
      "September 1769\n"
     ]
    }
   ],
   "source": [
    "m = re.search(r'(\\w+)\\s*([0-9]+)', text)\n",
    "print(m.group(0))"
   ]
  },
  {
   "cell_type": "markdown",
   "metadata": {},
   "source": [
    "Если есть необходимость, то можно вывести только часть того, что совпало, Python их называет группами и нумерует:"
   ]
  },
  {
   "cell_type": "code",
   "execution_count": 22,
   "metadata": {},
   "outputs": [
    {
     "name": "stdout",
     "output_type": "stream",
     "text": [
      "September\n"
     ]
    }
   ],
   "source": [
    "print(m.group(1))"
   ]
  },
  {
   "cell_type": "code",
   "execution_count": 23,
   "metadata": {},
   "outputs": [
    {
     "name": "stdout",
     "output_type": "stream",
     "text": [
      "1769\n"
     ]
    }
   ],
   "source": [
    "print(m.group(2))"
   ]
  },
  {
   "cell_type": "markdown",
   "metadata": {},
   "source": [
    "В библиотеке еще много полезных функций:\n",
    "\n",
    "* **match**   - Поиск только в первой позиции\n",
    "* **split**   - Разбиение текста на части\n",
    "* **sub**     - Замена в тексте\n",
    "* **compile** - Компиляция выражения для многократного использования\n",
    "\n",
    "Еще у этих функций есть флаги:\n",
    "\n",
    "* **IGNORECASE** - Игнорирование регистра символов\n",
    "* **UNICODE**    -\n",
    "* **VERBOSE**    - Позволяет разбивать RE на несколько строк, а также их комментировать\n",
    "* **MULTILINE**  - Символ `.` (точка) в RE ищет до конца строки, а если включить этот флаг, то символ перевода строки будет проигнорирован и поиск будет во всем тексте.\n",
    "\n",
    "## Расширенная работа с аргументами\n",
    "\n",
    "Обычная функция у которой 2 аргумента:"
   ]
  },
  {
   "cell_type": "code",
   "execution_count": 24,
   "metadata": {},
   "outputs": [],
   "source": [
    "def complex(real, imag):\n",
    "    return real + 1j * imag\n",
    "\n",
    "x = complex(1, 2)  # Передаются 2 аргумента"
   ]
  },
  {
   "cell_type": "markdown",
   "metadata": {},
   "source": [
    "Значения аргументов по умолчанию:"
   ]
  },
  {
   "cell_type": "code",
   "execution_count": 25,
   "metadata": {},
   "outputs": [],
   "source": [
    "def complex(real, imag=0):\n",
    "    return real + 1j * imag\n",
    "\n",
    "x = complex(1) # Передается только один аргумент, второй у функции по умолчанию"
   ]
  },
  {
   "cell_type": "markdown",
   "metadata": {},
   "source": [
    "#### Запаковка аргументов\n",
    "\n",
    "Функции можно \"сказать\", что у нас переменное число аргументов, они запакуются в тип `tuple` и передадутся в функцию:"
   ]
  },
  {
   "cell_type": "code",
   "execution_count": 26,
   "metadata": {},
   "outputs": [],
   "source": [
    "def complex(*args):\n",
    "    return args[0] + 1j * args[1]\n",
    "\n",
    "x = complex(1, 2) # Переданные аргументы в функции запаковываются в tuple()"
   ]
  },
  {
   "cell_type": "markdown",
   "metadata": {},
   "source": [
    "#### Смешанные аргументы\n",
    "\n",
    "Не обязательно делать аргументы только конечного числа или переменной длины, можно их смешивать. Аргумент с переменным числом аргументов должен всегда идти после фиксированных именованных аргументов:"
   ]
  },
  {
   "cell_type": "code",
   "execution_count": 30,
   "metadata": {},
   "outputs": [
    {
     "name": "stdout",
     "output_type": "stream",
     "text": [
      "real: 1\n",
      "other: (2, 3, 4)\n"
     ]
    }
   ],
   "source": [
    "def complex(real, *other):\n",
    "    print('real:', real)\n",
    "    print('other:', other)\n",
    "    return real + 1j * other[0]\n",
    "\n",
    "x = complex(1, 2, 3, 4) # Второй и последующие аргументы в функции запаковываются в tuple()"
   ]
  },
  {
   "cell_type": "markdown",
   "metadata": {},
   "source": [
    "#### Распаковка аргументов"
   ]
  },
  {
   "cell_type": "code",
   "execution_count": 31,
   "metadata": {},
   "outputs": [],
   "source": [
    "def complex(real, imag):\n",
    "    return real + 1j * imag\n",
    "\n",
    "args = (1, 2)\n",
    "x = complex(*args) # Символом \"звездочка\" происходит распаковка аргументов в функции"
   ]
  },
  {
   "cell_type": "markdown",
   "metadata": {},
   "source": [
    "#### Передача аргументов по ключу\n",
    "\n",
    "Кроме порядковых аргументов, существуют еще именованные. Аргументы можно передавать не по порядку, а по именам. Их можно смешивать с порядковыми аргументами:"
   ]
  },
  {
   "cell_type": "code",
   "execution_count": 32,
   "metadata": {},
   "outputs": [],
   "source": [
    "x = complex(real=1, imag=2)\n",
    "x = complex(3, imag=4)"
   ]
  },
  {
   "cell_type": "markdown",
   "metadata": {},
   "source": [
    "#### Распаковка по ключу\n",
    "\n",
    "Именованные аргументы могут быть в произвольном количестве, для этого нужно поставить перед аргументом две звездочки. Фактически это означает, что в функцию передается произвольное количество именованных аргументов, к каждому из которых можно обратится в функции по имени. Именованные аргументы должны всегда идти после порядковых, например:\n",
    "\n",
    "````python\n",
    "def f(*args, **kwargs)\n",
    "````"
   ]
  },
  {
   "cell_type": "code",
   "execution_count": 33,
   "metadata": {},
   "outputs": [
    {
     "name": "stdout",
     "output_type": "stream",
     "text": [
      "kwargs: {'real': 1, 'imag': 2, 'hi': 3}\n"
     ]
    }
   ],
   "source": [
    "def complex(**kwargs):\n",
    "    print('kwargs:', kwargs)\n",
    "    return (kwargs['real'] + 1j * kwargs['imag'])\n",
    "\n",
    "x = complex(real=1, imag=2, hi=3)"
   ]
  },
  {
   "cell_type": "markdown",
   "metadata": {},
   "source": [
    "#### Запаковка аргументов в словарь"
   ]
  },
  {
   "cell_type": "code",
   "execution_count": 35,
   "metadata": {},
   "outputs": [
    {
     "name": "stdout",
     "output_type": "stream",
     "text": [
      "kwargs: {'real': 1, 'imag': 2}\n"
     ]
    }
   ],
   "source": [
    "kwargs = {'real': 1, 'imag': 2} # Запаковка аргументов\n",
    "x = complex(**kwargs)           # Распаковка словаря и передача аргументов в функцию в которой происходит запаковка"
   ]
  },
  {
   "cell_type": "markdown",
   "metadata": {},
   "source": [
    "В Python не существует перегрузки функций. Дважды назвать функцию с разными аргументами не удастся. Вместо перегрузки функций предлагается передача с помощью механизма переменного числа аргументов.\n",
    "\n",
    "## ООП. Декараторы\n",
    "\n",
    "Декоратор:\n",
    "* Функция, модифицирующая другую функцию\n",
    "* Используется для упрощения кода\n",
    "\n",
    "### Использование декоратора\n",
    "Например, для отладки это может быть удобно. Декоратор должен получать функцию на вход в качестве аргумента. Функция помещается в другую функцию и оборачивается (декорируется) необходимыми методами, сообщениями и прочим:"
   ]
  },
  {
   "cell_type": "code",
   "execution_count": 36,
   "metadata": {},
   "outputs": [],
   "source": [
    "def notify_about_calls(func):\n",
    "    def decorated(*args, **kwargs):\n",
    "        print('Called function:', func.__name__)\n",
    "        return func(*args, **kwargs) # Изначальная функция возвращается, когда функция decorated будет вызвана\n",
    "    \n",
    "    # Внимание!!!\n",
    "    # Здесь нет круглых скобок, декорированная функция не вызывается здесь!!!\n",
    "    # Это возврат задекорированной функции (объекта!)\n",
    "    return decorated"
   ]
  },
  {
   "cell_type": "markdown",
   "metadata": {},
   "source": [
    "Есть обычная функция... которую мы хотим задекорировать:"
   ]
  },
  {
   "cell_type": "code",
   "execution_count": 37,
   "metadata": {},
   "outputs": [
    {
     "name": "stdout",
     "output_type": "stream",
     "text": [
      "Called function: f\n",
      "3\n"
     ]
    }
   ],
   "source": [
    "def f(a, b):\n",
    "    return a + b\n",
    "\n",
    "g = notify_about_calls(f) # Модифицируем (декорируем) функцию 'f'\n",
    "print(g(1, 2))            # Вызываем декорированную функцию"
   ]
  },
  {
   "cell_type": "markdown",
   "metadata": {},
   "source": [
    "Упрощенная запись декорирования:"
   ]
  },
  {
   "cell_type": "code",
   "execution_count": 38,
   "metadata": {},
   "outputs": [
    {
     "name": "stdout",
     "output_type": "stream",
     "text": [
      "Called function: f\n",
      "30\n"
     ]
    }
   ],
   "source": [
    "@notify_about_calls # Синтаксический 'сахар' Python'а\n",
    "def f(a, b):\n",
    "    return a + b\n",
    "\n",
    "print(f(10, 20))    # Вызываем декорированную функцию"
   ]
  },
  {
   "cell_type": "markdown",
   "metadata": {},
   "source": [
    "Эквивалентно:"
   ]
  },
  {
   "cell_type": "code",
   "execution_count": 39,
   "metadata": {},
   "outputs": [
    {
     "name": "stdout",
     "output_type": "stream",
     "text": [
      "Called function: f\n",
      "300\n"
     ]
    }
   ],
   "source": [
    "def f(a, b):\n",
    "    return a + b\n",
    "\n",
    "f = notify_about_calls(f)\n",
    "print(f(100, 200))"
   ]
  },
  {
   "cell_type": "markdown",
   "metadata": {},
   "source": [
    "Таким образом можно применить несколько декараторов:\n",
    "\n",
    "````python\n",
    "@decorator1\n",
    "@decorator2\n",
    "def f(a, b):\n",
    "    return a + b\n",
    "````\n",
    "\n",
    "Эквивалентно:\n",
    "\n",
    "````python\n",
    "def f(a, b):\n",
    "    return a + b\n",
    "\n",
    "f = @decorator1(@decorator2(f))\n",
    "````\n",
    "\n",
    "### Классы-декораторы"
   ]
  },
  {
   "cell_type": "code",
   "execution_count": 40,
   "metadata": {},
   "outputs": [
    {
     "name": "stdout",
     "output_type": "stream",
     "text": [
      "Метод __init__ объекта класса Logger\n",
      "Метод __call__ объекта класса Logger\n",
      "Метод __call__ объекта класса Logger\n",
      "[((1,), {}), ((1,), {'y': 2})]\n"
     ]
    }
   ],
   "source": [
    "class Logger():\n",
    "\n",
    "    def __init__(self, func):\n",
    "        print('Метод __init__ объекта класса Logger')\n",
    "        self.func = func\n",
    "        self.log = []\n",
    "    \n",
    "    # Переопределяем оператор круглые скобки \"()\". Экземпляр класса Logger превращается в функцию.\n",
    "    def __call__(self, *args, **kwargs):\n",
    "        print('Метод __call__ объекта класса Logger')\n",
    "        self.log.append((args, kwargs))  # Логирование порядковых и именованных аргументов\n",
    "        return self.func(*args, **kwargs)\n",
    "\n",
    "\n",
    "# Здесь просто присваивается дополнительное имя классу, новая ссылка на класс.\n",
    "# Объект не создается, так как Logger без круглых скобок!\n",
    "logged = Logger\n",
    "\n",
    "# Создание экземпляра класса Logger, в который передается как аргумент функция f.\n",
    "# Аналогично записи: f = Logger(f) и теперь f не функция, а экземпляр класса Logger,\n",
    "# а если точнее, то его метод __call__()\n",
    "@logged\n",
    "def f(x, y=0):\n",
    "    pass\n",
    "\n",
    "\n",
    "f(1)             # Вызывается экземпляр класса Logger, в котором переопределен оператор круглых скобок\n",
    "f(1, y=2)        # Второй вызов экземпляра класса Logger\n",
    "print(f.log)     # [((1,), {}), ((1,), {'y': 2})] - 2 записи в логе."
   ]
  },
  {
   "cell_type": "markdown",
   "metadata": {},
   "source": [
    "### Метаданные функций\n",
    "\n",
    "После декорации, если вызвать документацию у функции, то она пропадает вместе с именем функции:"
   ]
  },
  {
   "cell_type": "code",
   "execution_count": 42,
   "metadata": {},
   "outputs": [
    {
     "name": "stdout",
     "output_type": "stream",
     "text": [
      "Called function: some_function\n",
      "decorated\n",
      "None\n"
     ]
    }
   ],
   "source": [
    "@notify_about_calls\n",
    "def some_function(x, y):\n",
    "    \"\"\"Docstring.\"\"\"\n",
    "    return x + 2 * y\n",
    "\n",
    "some_function(1, 2)\n",
    "print(some_function.__name__) # decorated\n",
    "print(some_function.__doc__)  # None"
   ]
  },
  {
   "cell_type": "markdown",
   "metadata": {},
   "source": [
    "Можно исправить функцию деоратор `notify_about_calls`, но можно не заморачиваться, а использовать библиотеку `functools`:"
   ]
  },
  {
   "cell_type": "code",
   "execution_count": 43,
   "metadata": {},
   "outputs": [
    {
     "name": "stdout",
     "output_type": "stream",
     "text": [
      "Called function: some_function\n",
      "some_function\n",
      "Docstring.\n"
     ]
    }
   ],
   "source": [
    "import functools\n",
    "\n",
    "def notify_about_calls(func):\n",
    "    @functools.wraps(func)\n",
    "    def decorated(*args, **kwargs):\n",
    "        # __name__ это мета атрибут, создается автоматически для каждого объекта:\n",
    "        print('Called function:', func.__name__)\n",
    "        return func(*args, **kwargs)\n",
    "    # Здесь нет круглых скобок, это не вызов функции!!! Это возврат задекорированной функции (объекта!)\n",
    "    return decorated\n",
    "\n",
    "@notify_about_calls\n",
    "def some_function(x, y):\n",
    "    \"\"\"Docstring.\"\"\"\n",
    "    return x + 2 * y\n",
    "\n",
    "\n",
    "some_function(1, 2)\n",
    "print(some_function.__name__) # some_function\n",
    "print(some_function.__doc__)  # Docstring."
   ]
  },
  {
   "cell_type": "markdown",
   "metadata": {},
   "source": [
    "### Декоратор staticmethod\n",
    "\n",
    "В классах иногда хочется сделать методы статическими, в том плане, что они не должны зависеть от объектов с которыми они работают.\n",
    "\n",
    "staticmethod:\n",
    "* Применяется к методу класса\n",
    "* Делает метод статическим\n",
    "* Позволяет игнорировать экземпляр `self`"
   ]
  },
  {
   "cell_type": "code",
   "execution_count": 44,
   "metadata": {},
   "outputs": [
    {
     "name": "stdout",
     "output_type": "stream",
     "text": [
      "3\n",
      "3\n"
     ]
    }
   ],
   "source": [
    "class A():\n",
    "\n",
    "    @staticmethod\n",
    "    def f(a, b):     # self не используется, метод статический. Его можно вызвать через класс или объект\n",
    "        print(a + b)\n",
    "\n",
    "\n",
    "a = A()   # Создание экземпляра класса\n",
    "a.f(1, 2) # Статический вызов через объект \"a\"\n",
    "A.f(1, 2) # Статический вызов через класс \"A\", без создания экземпляра (объекта)"
   ]
  },
  {
   "cell_type": "markdown",
   "metadata": {},
   "source": [
    "### Декораторы с аргументами\n",
    "\n",
    "Как сделать такой декоратор который бы принимал на вход аргумент, например, для проверки возвращаемого типа?\n",
    "\n",
    "````python\n",
    "@check_return_type(float)\n",
    "def calculate_something(a, b, c):\n",
    "    ...\n",
    "    return x\n",
    "````\n",
    "\n",
    "Получается у нас такая функция в три уровня:\n",
    "\n",
    "````python\n",
    "def check_return_type(type_):\n",
    "    def decorator(func):\n",
    "        def decorated(*args, **kwargs):\n",
    "            val = func(*args, **kwargs)\n",
    "            assert isinstance(val, type_) # assert - Если False, то генерируется исключение\n",
    "        return decorated\n",
    "    return decorator\n",
    "````"
   ]
  }
 ],
 "metadata": {
  "kernelspec": {
   "display_name": "Python 3",
   "language": "python",
   "name": "python3"
  },
  "language_info": {
   "codemirror_mode": {
    "name": "ipython",
    "version": 3
   },
   "file_extension": ".py",
   "mimetype": "text/x-python",
   "name": "python",
   "nbconvert_exporter": "python",
   "pygments_lexer": "ipython3",
   "version": "3.6.3"
  },
  "toc": {
   "nav_menu": {
    "height": "382px",
    "width": "401px"
   },
   "number_sections": true,
   "sideBar": false,
   "skip_h1_title": true,
   "title_cell": "Table of Contents",
   "title_sidebar": "Contents",
   "toc_cell": false,
   "toc_position": {},
   "toc_section_display": true,
   "toc_window_display": false
  }
 },
 "nbformat": 4,
 "nbformat_minor": 2
}
