{
 "cells": [
  {
   "cell_type": "markdown",
   "metadata": {},
   "source": [
    "# Основы Python (Часть 2)\n",
    "\n",
    "Алексей Умнов - Алексей Умнов https://www.youtube.com/watch?v=uUTudEHkNVA  \n",
    "Слайды доступны по адресу: http://parallels.nsu.ru/~fat/Python\n",
    "\n",
    "## Элементы функционального программирования\n",
    "\n",
    "### Распаковка списков\n",
    "\n",
    "Возможность присваивания значений сразу нескольким переменным:"
   ]
  },
  {
   "cell_type": "code",
   "execution_count": 1,
   "metadata": {},
   "outputs": [
    {
     "name": "stdout",
     "output_type": "stream",
     "text": [
      "1 a\n"
     ]
    }
   ],
   "source": [
    "x, y = 1, 'a'\n",
    "\n",
    "print(x, y)"
   ]
  },
  {
   "cell_type": "markdown",
   "metadata": {},
   "source": [
    "В правую часть можно передать список из равного количества элементов левой части.  \n",
    "По сути, туда можно передать всё что угодно, что может восприниматься как последовательность объектов:"
   ]
  },
  {
   "cell_type": "code",
   "execution_count": 2,
   "metadata": {},
   "outputs": [
    {
     "name": "stdout",
     "output_type": "stream",
     "text": [
      "1 2 3\n"
     ]
    }
   ],
   "source": [
    "l = [1, 2, 3]\n",
    "x, y, z = l\n",
    "\n",
    "print(x, y, z)"
   ]
  },
  {
   "cell_type": "markdown",
   "metadata": {},
   "source": [
    "## Swap в Python. Меняет переменные местами"
   ]
  },
  {
   "cell_type": "code",
   "execution_count": 3,
   "metadata": {},
   "outputs": [
    {
     "name": "stdout",
     "output_type": "stream",
     "text": [
      "a b\n",
      "b a\n"
     ]
    }
   ],
   "source": [
    "x = 'a'\n",
    "y = 'b'\n",
    "\n",
    "print(x, y)\n",
    "\n",
    "# В Python, сначала вычисляются значения правой части, затем эти значения присваиваются левой части:\n",
    "x, y = y, x\n",
    "\n",
    "print(x, y)"
   ]
  },
  {
   "cell_type": "markdown",
   "metadata": {},
   "source": [
    "## Функция zip. \"Параллельный\" проход по двум спискам"
   ]
  },
  {
   "cell_type": "code",
   "execution_count": 4,
   "metadata": {},
   "outputs": [
    {
     "name": "stdout",
     "output_type": "stream",
     "text": [
      "a q\n",
      "b w\n",
      "c e\n"
     ]
    }
   ],
   "source": [
    "x = ['a', 'b', 'c']\n",
    "y = ['q', 'w', 'e']\n",
    "\n",
    "for a, b in zip(x, y):\n",
    "    print(a, b)"
   ]
  },
  {
   "cell_type": "markdown",
   "metadata": {},
   "source": [
    "## Функция reversed. Итератор. Проход в обратном порядке"
   ]
  },
  {
   "cell_type": "code",
   "execution_count": 6,
   "metadata": {},
   "outputs": [
    {
     "name": "stdout",
     "output_type": "stream",
     "text": [
      "c\n",
      "b\n",
      "a\n"
     ]
    }
   ],
   "source": [
    "x = ['a', 'b', 'c']\n",
    "\n",
    "for val in reversed(x):\n",
    "    print(val)"
   ]
  },
  {
   "cell_type": "markdown",
   "metadata": {},
   "source": [
    "## Функция sorted. Сортировка элементов"
   ]
  },
  {
   "cell_type": "code",
   "execution_count": 8,
   "metadata": {},
   "outputs": [
    {
     "name": "stdout",
     "output_type": "stream",
     "text": [
      "[1, 2, 3]\n"
     ]
    }
   ],
   "source": [
    "x = [2, 1, 3]\n",
    "print(sorted(x))"
   ]
  },
  {
   "cell_type": "code",
   "execution_count": 9,
   "metadata": {},
   "outputs": [
    {
     "name": "stdout",
     "output_type": "stream",
     "text": [
      "['hello', 'hi', 'world']\n",
      "['world', 'hi', 'hello']\n"
     ]
    }
   ],
   "source": [
    "x = ['hello', 'world', 'hi']\n",
    "print(sorted(x))\n",
    "print(sorted(x, reverse=True))"
   ]
  },
  {
   "cell_type": "code",
   "execution_count": 10,
   "metadata": {},
   "outputs": [
    {
     "name": "stdout",
     "output_type": "stream",
     "text": [
      "[['a', 2], ['b', 3], ['c', 1]]\n",
      "[['c', 1], ['a', 2], ['b', 3]]\n",
      "[['c', 1], ['a', 2], ['b', 3]]\n",
      "[['c', 1], ['a', 2], ['b', 3]]\n"
     ]
    }
   ],
   "source": [
    "l = [['a', 2], ['c', 1], ['b', 3]]\n",
    "\n",
    "def get_second(x):\n",
    "    return x[1] # Сортировка по второму элементу внутреннего списка\n",
    "\n",
    "print(sorted(l))\n",
    "\n",
    "# Передаем именованную функцию в качестве ключа сортировки:\n",
    "print(sorted(l, key=get_second))\n",
    "\n",
    "# Аналогичный результат, только передаем анонимную функцию, аналогичную функции get_second:\n",
    "print(sorted(l, key=lambda x: x[1]))\n",
    "\n",
    "# Сортировка сначала по второму ключу, затем по первому:\n",
    "print(sorted(l, key=lambda x: [x[1], x[0]]))"
   ]
  },
  {
   "cell_type": "markdown",
   "metadata": {},
   "source": [
    "## Лямбда-функции (анонимные функции)\n",
    "\n",
    "Формат записи анонимной функции:\n",
    "\n",
    "1. Ключевое слово lambda\n",
    "2. Аргументы функции\n",
    "3. Двоеточие\n",
    "4. Тело функции в строку, которая вернет значение, аналогично оператору return\n",
    "\n",
    "Например:"
   ]
  },
  {
   "cell_type": "code",
   "execution_count": 11,
   "metadata": {},
   "outputs": [
    {
     "data": {
      "text/plain": [
       "<function __main__.<lambda>>"
      ]
     },
     "execution_count": 11,
     "metadata": {},
     "output_type": "execute_result"
    }
   ],
   "source": [
    "lambda x: x + 1"
   ]
  },
  {
   "cell_type": "markdown",
   "metadata": {},
   "source": [
    "Такой вид записи функции обычно передают в качестве аргумента другой функции/метода без необходимости создания именованной функции. В примерах ниже, анонимной функции присваивается имя в демонстрационных целях. Так делать не рекомендуется, так как смысл теряется, лучше использовать полную нотацию записи не анонимной функции:"
   ]
  },
  {
   "cell_type": "code",
   "execution_count": 12,
   "metadata": {},
   "outputs": [
    {
     "name": "stdout",
     "output_type": "stream",
     "text": [
      "2\n"
     ]
    }
   ],
   "source": [
    "f = lambda x: x + 1 # Присвоено имя f\n",
    "\n",
    "print(f(1))"
   ]
  },
  {
   "cell_type": "code",
   "execution_count": 13,
   "metadata": {},
   "outputs": [
    {
     "name": "stdout",
     "output_type": "stream",
     "text": [
      "8\n"
     ]
    }
   ],
   "source": [
    "g = lambda a, b: a + b # Присвоено имя g\n",
    "\n",
    "print(g(3, 5))"
   ]
  },
  {
   "cell_type": "code",
   "execution_count": 15,
   "metadata": {},
   "outputs": [
    {
     "name": "stdout",
     "output_type": "stream",
     "text": [
      "8\n"
     ]
    }
   ],
   "source": [
    "# Аналогичная (идентичная) запись для функции g:\n",
    "def g(a, b):\n",
    "    return a + b\n",
    "\n",
    "print(g(3, 5))"
   ]
  },
  {
   "cell_type": "markdown",
   "metadata": {},
   "source": [
    "## Списковые выражения\n",
    "\n",
    "### Список списков"
   ]
  },
  {
   "cell_type": "code",
   "execution_count": 16,
   "metadata": {},
   "outputs": [],
   "source": [
    "matrix = [\n",
    "    [1, 2, 3, 4],\n",
    "    [5, 6, 7, 8],\n",
    "    [9, 10, 11, 12],\n",
    "]"
   ]
  },
  {
   "cell_type": "markdown",
   "metadata": {},
   "source": [
    "### Транспонирование матрицы"
   ]
  },
  {
   "cell_type": "code",
   "execution_count": 18,
   "metadata": {},
   "outputs": [
    {
     "name": "stdout",
     "output_type": "stream",
     "text": [
      "[[1, 5, 9], [2, 6, 10], [3, 7, 11], [4, 8, 12]]\n"
     ]
    }
   ],
   "source": [
    "# Можно аннотацию записать в одну строку, здесь разделение на строки представлено для наглядности\n",
    "l = [ [row[i] for row in matrix ]\n",
    "                 for i in range(4) ]\n",
    "\n",
    "print(l)"
   ]
  },
  {
   "cell_type": "markdown",
   "metadata": {},
   "source": [
    "## Тип данных: Словарь (Dictionary)\n",
    "\n",
    "В словаре каждому значению соответствует ключ. Ключ является уникальным и встречается в словаре только один раз.  \n",
    "Ключами словаря могут быть строки, цифры и таплы(tuple), а значениями всё что угодно, любой объект.  \n",
    "В словаре порядок хранения элементов (ключ - значение) не гарантируется!"
   ]
  },
  {
   "cell_type": "code",
   "execution_count": 29,
   "metadata": {},
   "outputs": [
    {
     "name": "stdout",
     "output_type": "stream",
     "text": [
      "{'jack': 4098, 'sape': 4139}\n"
     ]
    }
   ],
   "source": [
    "my_dict = {'jack': 4098, 'sape': 4139}\n",
    "\n",
    "print(my_dict)"
   ]
  },
  {
   "cell_type": "markdown",
   "metadata": {},
   "source": [
    "Получение списка всех ключей словаря:"
   ]
  },
  {
   "cell_type": "code",
   "execution_count": 30,
   "metadata": {},
   "outputs": [
    {
     "data": {
      "text/plain": [
       "dict_keys(['jack', 'sape'])"
      ]
     },
     "execution_count": 30,
     "metadata": {},
     "output_type": "execute_result"
    }
   ],
   "source": [
    "my_dict.keys()"
   ]
  },
  {
   "cell_type": "markdown",
   "metadata": {},
   "source": [
    "Доступ к элементам через ключ:"
   ]
  },
  {
   "cell_type": "code",
   "execution_count": 31,
   "metadata": {},
   "outputs": [
    {
     "data": {
      "text/plain": [
       "4098"
      ]
     },
     "execution_count": 31,
     "metadata": {},
     "output_type": "execute_result"
    }
   ],
   "source": [
    "my_dict['jack']"
   ]
  },
  {
   "cell_type": "markdown",
   "metadata": {},
   "source": [
    "Добавление нового элемента в словарь. Порядок хранения в словаре не гарантируется:"
   ]
  },
  {
   "cell_type": "code",
   "execution_count": 32,
   "metadata": {},
   "outputs": [],
   "source": [
    "my_dict['guido'] = 4127"
   ]
  },
  {
   "cell_type": "markdown",
   "metadata": {},
   "source": [
    "Изменение значения ключа:"
   ]
  },
  {
   "cell_type": "code",
   "execution_count": 33,
   "metadata": {},
   "outputs": [],
   "source": [
    "my_dict['jack'] = 5000"
   ]
  },
  {
   "cell_type": "markdown",
   "metadata": {},
   "source": [
    "Удаление элемента словаря:"
   ]
  },
  {
   "cell_type": "code",
   "execution_count": 34,
   "metadata": {},
   "outputs": [
    {
     "name": "stdout",
     "output_type": "stream",
     "text": [
      "{'jack': 5000, 'sape': 4139, 'guido': 4127}\n",
      "{'jack': 5000, 'guido': 4127}\n"
     ]
    }
   ],
   "source": [
    "print(my_dict)\n",
    "\n",
    "del(my_dict['sape'])\n",
    "\n",
    "print(my_dict)"
   ]
  },
  {
   "cell_type": "markdown",
   "metadata": {},
   "source": [
    "2 способа проверить, существует ли ключ в словаре:"
   ]
  },
  {
   "cell_type": "code",
   "execution_count": 35,
   "metadata": {},
   "outputs": [
    {
     "name": "stdout",
     "output_type": "stream",
     "text": [
      "1. Yes, \"jack\" contains in my_dict\n",
      "2. Yes, \"jack\" contains in my_dict\n"
     ]
    }
   ],
   "source": [
    "if my_dict.__contains__('jack'):   # Здесь явно используется оператор __contains__\n",
    "    print('1. Yes, \"jack\" contains in my_dict');\n",
    "\n",
    "if 'jack' in my_dict:              # Здесь неявно используется оператор __contains__\n",
    "    print('2. Yes, \"jack\" contains in my_dict');"
   ]
  },
  {
   "cell_type": "markdown",
   "metadata": {},
   "source": [
    "Цикл по ключам словаря. Порядок извлечения элементов произвольный!!!"
   ]
  },
  {
   "cell_type": "code",
   "execution_count": 36,
   "metadata": {},
   "outputs": [
    {
     "name": "stdout",
     "output_type": "stream",
     "text": [
      "Ключ словаря: jack\n",
      "Значение ключа jack = 5000\n",
      "Ключ словаря: guido\n",
      "Значение ключа guido = 4127\n"
     ]
    }
   ],
   "source": [
    "for k in my_dict:\n",
    "    print('Ключ словаря: ' + k)\n",
    "    print('Значение ключа '+ k + ' = ' + str(my_dict[k]))"
   ]
  },
  {
   "cell_type": "markdown",
   "metadata": {},
   "source": [
    "Цикл по элементам словаря (ключ + значение). Порядок извлечения элементов произвольный!!!"
   ]
  },
  {
   "cell_type": "code",
   "execution_count": 37,
   "metadata": {},
   "outputs": [
    {
     "name": "stdout",
     "output_type": "stream",
     "text": [
      "Ключ и значение элемента словаря:  jack 5000\n",
      "Ключ и значение элемента словаря:  guido 4127\n"
     ]
    }
   ],
   "source": [
    "for k,v in my_dict.items():\n",
    "    print('Ключ и значение элемента словаря: ', k, v)"
   ]
  },
  {
   "cell_type": "markdown",
   "metadata": {},
   "source": [
    "Цикл по упорядочненному словарю:"
   ]
  },
  {
   "cell_type": "code",
   "execution_count": 38,
   "metadata": {},
   "outputs": [
    {
     "name": "stdout",
     "output_type": "stream",
     "text": [
      "guido 4127\n",
      "jack 5000\n"
     ]
    }
   ],
   "source": [
    "for k,v in sorted(my_dict.items()):\n",
    "    print(k,v)"
   ]
  },
  {
   "cell_type": "markdown",
   "metadata": {},
   "source": [
    "Цикл по упорядочненному словарю с заданием сортировки по ключу или значению с помощью лямбда-функции:"
   ]
  },
  {
   "cell_type": "code",
   "execution_count": 39,
   "metadata": {},
   "outputs": [
    {
     "name": "stdout",
     "output_type": "stream",
     "text": [
      "guido 4127\n",
      "jack 5000\n"
     ]
    }
   ],
   "source": [
    "for k,v in sorted(my_dict.items(), key=lambda x: x[1]):\n",
    "    print(k,v)"
   ]
  },
  {
   "cell_type": "markdown",
   "metadata": {},
   "source": [
    "## Тип данных: Кортеж (Tuple)\n",
    "\n",
    "Это кортеж, неизменяемый список.  \n",
    "После создания его нельзя изменить, так же нельзя изменить объекты внутри него.  \n",
    "У кортежа практически нет никаких методов кроме `count` и `index`, также нельзя изменить его размер."
   ]
  },
  {
   "cell_type": "code",
   "execution_count": 40,
   "metadata": {},
   "outputs": [
    {
     "name": "stdout",
     "output_type": "stream",
     "text": [
      "('Vasya', 'Petya', 100, <object object at 0x7f6701870c50>)\n",
      "Vasya\n",
      "Длина кортежа = 4\n"
     ]
    }
   ],
   "source": [
    "my_tuple = ('Vasya', 'Petya', 100, object())\n",
    "\n",
    "print(my_tuple)\n",
    "print(my_tuple[0]) # Обращение к элементу по индексу\n",
    "print('Длина кортежа = ' + str(len(my_tuple)))"
   ]
  },
  {
   "cell_type": "markdown",
   "metadata": {},
   "source": [
    "Преобразовываем кортеж в список. Точно также мы можем преобразовать данные в tuple(), list(), dict():"
   ]
  },
  {
   "cell_type": "code",
   "execution_count": 41,
   "metadata": {},
   "outputs": [
    {
     "name": "stdout",
     "output_type": "stream",
     "text": [
      "['Vasya', 'Petya', 100, <object object at 0x7f6701870c50>]\n"
     ]
    }
   ],
   "source": [
    "my_list = list(my_tuple)\n",
    "\n",
    "print(my_list)"
   ]
  },
  {
   "cell_type": "markdown",
   "metadata": {},
   "source": [
    "Таплы могут быть ключами в словаре так как тапл неизменяемый объект. Например, добавим в словарь `my_dict` новый ключ `my_tuple` со значением `10000`:"
   ]
  },
  {
   "cell_type": "code",
   "execution_count": 42,
   "metadata": {},
   "outputs": [
    {
     "name": "stdout",
     "output_type": "stream",
     "text": [
      "{'jack': 5000, 'guido': 4127, ('Vasya', 'Petya', 100, <object object at 0x7f6701870c50>): 10000}\n"
     ]
    }
   ],
   "source": [
    "my_dict[my_tuple] = 10000\n",
    "\n",
    "print(my_dict)"
   ]
  },
  {
   "cell_type": "markdown",
   "metadata": {},
   "source": [
    "## Тип данных: Множество (Set)\n",
    "\n",
    "Множество это словарь без значений, только ключи.  \n",
    "Элементы в множестве не повторяются, поэтому к ним возможен максимально быстрый доступ. Это что-то вроде hash таблицы.  \n",
    "При инициализации/изменении множества элементы сортируются.\n",
    "\n",
    "Множество создается из списка:"
   ]
  },
  {
   "cell_type": "code",
   "execution_count": 43,
   "metadata": {},
   "outputs": [
    {
     "name": "stdout",
     "output_type": "stream",
     "text": [
      "{1, 2, 3, 'string'}\n"
     ]
    }
   ],
   "source": [
    "my_set = set([2, 2, 3, 3, 1, 'string'])\n",
    "\n",
    "print(my_set) "
   ]
  },
  {
   "cell_type": "markdown",
   "metadata": {},
   "source": [
    "Добавление элемента:"
   ]
  },
  {
   "cell_type": "code",
   "execution_count": 44,
   "metadata": {},
   "outputs": [],
   "source": [
    "my_set.add(5)\n",
    "my_set.add(4)"
   ]
  },
  {
   "cell_type": "markdown",
   "metadata": {},
   "source": [
    "Повторно добавить значение во множество не получится:"
   ]
  },
  {
   "cell_type": "code",
   "execution_count": 45,
   "metadata": {},
   "outputs": [
    {
     "name": "stdout",
     "output_type": "stream",
     "text": [
      "{1, 2, 3, 4, 5, 'string'}\n",
      "{1, 2, 3, 4, 5, 'string'}\n"
     ]
    }
   ],
   "source": [
    "print(my_set)\n",
    "\n",
    "my_set.add(1)\n",
    "\n",
    "print(my_set)"
   ]
  },
  {
   "cell_type": "markdown",
   "metadata": {},
   "source": [
    "Удаление элемента:"
   ]
  },
  {
   "cell_type": "code",
   "execution_count": 46,
   "metadata": {},
   "outputs": [
    {
     "name": "stdout",
     "output_type": "stream",
     "text": [
      "{1, 2, 3, 4, 5, 'string'}\n",
      "{1, 3, 4, 5, 'string'}\n"
     ]
    }
   ],
   "source": [
    "print(my_set)\n",
    "\n",
    "my_set.remove(2)\n",
    "\n",
    "print(my_set)"
   ]
  },
  {
   "cell_type": "markdown",
   "metadata": {},
   "source": [
    "Оператор `IN` позволяет найти элемент во множестве:"
   ]
  },
  {
   "cell_type": "code",
   "execution_count": 47,
   "metadata": {},
   "outputs": [
    {
     "name": "stdout",
     "output_type": "stream",
     "text": [
      "True\n"
     ]
    }
   ],
   "source": [
    "if 1 in my_set:\n",
    "    print(True)"
   ]
  },
  {
   "cell_type": "markdown",
   "metadata": {},
   "source": [
    "## Работа с файлами в Python 3.x"
   ]
  },
  {
   "cell_type": "markdown",
   "metadata": {},
   "source": [
    "Запись в файл:"
   ]
  },
  {
   "cell_type": "code",
   "execution_count": 48,
   "metadata": {},
   "outputs": [
    {
     "name": "stdout",
     "output_type": "stream",
     "text": [
      "<_io.TextIOWrapper name='file.txt' mode='w' encoding='UTF-8'>\n"
     ]
    }
   ],
   "source": [
    "# Метод создает или открывает существующий файл на запись:\n",
    "f = open('file.txt', 'w')\n",
    "print(f)\n",
    "\n",
    "# Метод записывает строчку в файл:\n",
    "f.write('Hello, world!\\n')\n",
    "f.write('Second line\\n')\n",
    "\n",
    "# Закрытие дескриптора файла.\n",
    "# Если не закрыть, то интерпретатор все равно закроет его по завершению работы программы\n",
    "f.close()"
   ]
  },
  {
   "cell_type": "markdown",
   "metadata": {},
   "source": [
    "Чтение из файла:"
   ]
  },
  {
   "cell_type": "code",
   "execution_count": 51,
   "metadata": {},
   "outputs": [
    {
     "name": "stdout",
     "output_type": "stream",
     "text": [
      "Hello, world!\n",
      "Second line\n"
     ]
    }
   ],
   "source": [
    "f = open('file.txt')\n",
    "\n",
    "# Функция read() считывает все содержимое файла, разделяя строки символом \\n:\n",
    "print(f.read(), end='')\n",
    "\n",
    "f.close()"
   ]
  },
  {
   "cell_type": "markdown",
   "metadata": {},
   "source": [
    "Если, допустим, утеряется переменная `f`, то Python сможет автоматически распознать и закрыть файл, но закрытие не гарантируется сразу, файл может оставаться не закрытым до конца исполнения программы. Чтобы избежать потерю переменной, можно воспользоваться гарантированным способом закрытия файла при выходе из области видимости блока `with`. Это рекомендованный способ работы с файлами:"
   ]
  },
  {
   "cell_type": "code",
   "execution_count": 54,
   "metadata": {},
   "outputs": [
    {
     "name": "stdout",
     "output_type": "stream",
     "text": [
      "Hello, world!\n",
      "Second line\n"
     ]
    }
   ],
   "source": [
    "with open('file.txt') as f:\n",
    "    print(f.read(), end='')\n",
    "\n",
    "# После выхода из блока with файл гарантированно закрыт"
   ]
  },
  {
   "cell_type": "markdown",
   "metadata": {},
   "source": [
    "Что делать, если файл большой и его полностью не хочется читать в память, а хочется считать построчно?"
   ]
  },
  {
   "cell_type": "code",
   "execution_count": 57,
   "metadata": {},
   "outputs": [
    {
     "name": "stdout",
     "output_type": "stream",
     "text": [
      "Hello, world!\n",
      "Second line\n"
     ]
    }
   ],
   "source": [
    "with open('file.txt') as f:\n",
    "    # Не гарантируется, что файл физически считывается по одной строчке,\n",
    "    # так как может использоваться кеширование на чтение, чтение блока за один раз:\n",
    "    for line in f:\n",
    "        print(line, end='')"
   ]
  },
  {
   "cell_type": "markdown",
   "metadata": {},
   "source": [
    "## Модули\n",
    "\n",
    "Подключение библиотек осуществляется через команду `import`:"
   ]
  },
  {
   "cell_type": "code",
   "execution_count": 58,
   "metadata": {},
   "outputs": [
    {
     "name": "stdout",
     "output_type": "stream",
     "text": [
      "math.floor(5.5) = 5\n",
      "math.ceil(5.5) = 6\n"
     ]
    }
   ],
   "source": [
    "import math\n",
    "\n",
    "# Использование подключенного модуля:\n",
    "r = math.floor(5.5) # Округление в меньшую сторону\n",
    "print('math.floor(5.5) =', r) # 5\n",
    "\n",
    "r = math.ceil(5.5) # Округление в большую сторону\n",
    "print('math.ceil(5.5) =', r)  # 6"
   ]
  },
  {
   "cell_type": "markdown",
   "metadata": {},
   "source": [
    "После того как библиотеку подключили, при необходимости можно получить по ней справку:"
   ]
  },
  {
   "cell_type": "code",
   "execution_count": 63,
   "metadata": {},
   "outputs": [],
   "source": [
    "# help(math)"
   ]
  },
  {
   "cell_type": "markdown",
   "metadata": {},
   "source": [
    "Метод подключения только конкретной функции из модуля, например:"
   ]
  },
  {
   "cell_type": "code",
   "execution_count": 64,
   "metadata": {},
   "outputs": [
    {
     "name": "stdout",
     "output_type": "stream",
     "text": [
      "factorial(3) = 6\n"
     ]
    }
   ],
   "source": [
    "from math import factorial\n",
    "\n",
    "r = factorial(3)\n",
    "\n",
    "print('factorial(3) =', r)"
   ]
  },
  {
   "cell_type": "markdown",
   "metadata": {},
   "source": [
    "Модуль `sys`:"
   ]
  },
  {
   "cell_type": "code",
   "execution_count": 67,
   "metadata": {},
   "outputs": [
    {
     "name": "stdout",
     "output_type": "stream",
     "text": [
      "['/home/ubuntu/.local/lib/python3.6/site-packages/ipykernel_launcher.py', '-f', '/run/user/1000/jupyter/kernel-69407907-fa4b-4014-adb2-95ea3a53d399.json']\n",
      "You entered: \n"
     ]
    }
   ],
   "source": [
    "import sys\n",
    "\n",
    "print(sys.argv) # Считываем имя этого файла и если есть переданные аргументы\n",
    "\n",
    "name = sys.stdin.read() # Считываем со стандартного потока\n",
    "sys.stdout.write('You entered: ' + name + '\\n') # Пишем в стандартный поток консоли"
   ]
  },
  {
   "cell_type": "markdown",
   "metadata": {},
   "source": [
    "## Работа со строками"
   ]
  },
  {
   "cell_type": "markdown",
   "metadata": {},
   "source": [
    "### Функция split()\n",
    "\n",
    "Разбивает строку на указанный разделитель (символ или произвольная строка) и возвращает список:"
   ]
  },
  {
   "cell_type": "code",
   "execution_count": 68,
   "metadata": {},
   "outputs": [
    {
     "data": {
      "text/plain": [
       "['Hello,', 'Python!']"
      ]
     },
     "execution_count": 68,
     "metadata": {},
     "output_type": "execute_result"
    }
   ],
   "source": [
    "my_str = \"Hello, Python!\"\n",
    "\n",
    "my_str.split(' ')"
   ]
  },
  {
   "cell_type": "code",
   "execution_count": 69,
   "metadata": {},
   "outputs": [
    {
     "data": {
      "text/plain": [
       "['строка1 ', ' строка 2 ', ' строка3']"
      ]
     },
     "execution_count": 69,
     "metadata": {},
     "output_type": "execute_result"
    }
   ],
   "source": [
    "'строка1 или строка 2 или строка3'.split('или')"
   ]
  },
  {
   "cell_type": "code",
   "execution_count": 70,
   "metadata": {},
   "outputs": [
    {
     "data": {
      "text/plain": [
       "['', '', '', '', '']"
      ]
     },
     "execution_count": 70,
     "metadata": {},
     "output_type": "execute_result"
    }
   ],
   "source": [
    "'aaaa'.split('a')"
   ]
  },
  {
   "cell_type": "markdown",
   "metadata": {},
   "source": [
    "### Функция join()\n",
    "\n",
    "Это обратная функция функции `split()`. Соединяет элементы списка в строку указанным разделителем. Она странно вызывается, не у списка, а у строки:"
   ]
  },
  {
   "cell_type": "code",
   "execution_count": 73,
   "metadata": {},
   "outputs": [
    {
     "name": "stdout",
     "output_type": "stream",
     "text": [
      "<class 'str'>\n",
      "строка1 строка2 строка3\n"
     ]
    }
   ],
   "source": [
    "s = ' '.join(['строка1', 'строка2', 'строка3'])\n",
    "\n",
    "print(type(s))\n",
    "print(s)"
   ]
  },
  {
   "cell_type": "code",
   "execution_count": 74,
   "metadata": {},
   "outputs": [
    {
     "name": "stdout",
     "output_type": "stream",
     "text": [
      "строка1; строка2; строка3\n"
     ]
    }
   ],
   "source": [
    "s = '; '.join(['строка1', 'строка2', 'строка3'])\n",
    "\n",
    "print(s)"
   ]
  },
  {
   "cell_type": "markdown",
   "metadata": {},
   "source": [
    "Так как строка сама по себе является списком, где каждый ее символ это элемент списка, то мы можем вставить разделитель после каждого символа:"
   ]
  },
  {
   "cell_type": "code",
   "execution_count": 75,
   "metadata": {},
   "outputs": [
    {
     "name": "stdout",
     "output_type": "stream",
     "text": [
      "с_т_р_о_к_а\n"
     ]
    }
   ],
   "source": [
    "s = '_'.join('строка')\n",
    "\n",
    "print(s)"
   ]
  },
  {
   "cell_type": "markdown",
   "metadata": {},
   "source": [
    "Еще один пример с разделителем строк:"
   ]
  },
  {
   "cell_type": "code",
   "execution_count": 76,
   "metadata": {},
   "outputs": [
    {
     "name": "stdout",
     "output_type": "stream",
     "text": [
      "строка1\n",
      "строка2\n",
      "строка3\n"
     ]
    }
   ],
   "source": [
    "lines = ['строка1', 'строка2', 'строка3']\n",
    "\n",
    "print('\\n'.join(lines))"
   ]
  },
  {
   "cell_type": "markdown",
   "metadata": {},
   "source": [
    "### Функция strip()\n",
    "\n",
    "Удаляет пробелы, переносы строк и т.д. с обеих или с конкретной стороны строки."
   ]
  },
  {
   "cell_type": "code",
   "execution_count": 87,
   "metadata": {},
   "outputs": [
    {
     "name": "stdout",
     "output_type": "stream",
     "text": [
      "\"    hello\"\n"
     ]
    }
   ],
   "source": [
    "s = '    hello    '.rstrip()\n",
    "\n",
    "print('\"{}\"'.format(s))"
   ]
  },
  {
   "cell_type": "code",
   "execution_count": 88,
   "metadata": {},
   "outputs": [
    {
     "name": "stdout",
     "output_type": "stream",
     "text": [
      "\"hello    \"\n"
     ]
    }
   ],
   "source": [
    "s = '    hello    '.lstrip()\n",
    "\n",
    "print('\"{}\"'.format(s))"
   ]
  },
  {
   "cell_type": "code",
   "execution_count": 89,
   "metadata": {},
   "outputs": [
    {
     "name": "stdout",
     "output_type": "stream",
     "text": [
      "\"hello\"\n"
     ]
    }
   ],
   "source": [
    "s = '    hello    \\n'.strip()\n",
    "\n",
    "print('\"{}\"'.format(s))"
   ]
  },
  {
   "cell_type": "markdown",
   "metadata": {},
   "source": [
    "Можно задать конкретный набор символов которые нужно удалить с начала и конца строки:"
   ]
  },
  {
   "cell_type": "code",
   "execution_count": 91,
   "metadata": {},
   "outputs": [
    {
     "name": "stdout",
     "output_type": "stream",
     "text": [
      "hello\n"
     ]
    }
   ],
   "source": [
    "s = ';*hello;'.strip(';*')\n",
    "\n",
    "print(s)"
   ]
  },
  {
   "cell_type": "markdown",
   "metadata": {},
   "source": [
    "Еще полезные функции:"
   ]
  },
  {
   "cell_type": "code",
   "execution_count": 93,
   "metadata": {},
   "outputs": [
    {
     "data": {
      "text/plain": [
       "True"
      ]
     },
     "execution_count": 93,
     "metadata": {},
     "output_type": "execute_result"
    }
   ],
   "source": [
    "'a'.isalpha()  # Проверяет, правда ли, что все символы строки являются буквами?"
   ]
  },
  {
   "cell_type": "code",
   "execution_count": 94,
   "metadata": {},
   "outputs": [
    {
     "data": {
      "text/plain": [
       "True"
      ]
     },
     "execution_count": 94,
     "metadata": {},
     "output_type": "execute_result"
    }
   ],
   "source": [
    "'1'.isdigit()  # Проверяет, правда ли, что все символы строки являются цифрами?"
   ]
  },
  {
   "cell_type": "code",
   "execution_count": 95,
   "metadata": {},
   "outputs": [
    {
     "data": {
      "text/plain": [
       "False"
      ]
     },
     "execution_count": 95,
     "metadata": {},
     "output_type": "execute_result"
    }
   ],
   "source": [
    "'1a'.isdigit()"
   ]
  }
 ],
 "metadata": {
  "kernelspec": {
   "display_name": "Python 3",
   "language": "python",
   "name": "python3"
  },
  "language_info": {
   "codemirror_mode": {
    "name": "ipython",
    "version": 3
   },
   "file_extension": ".py",
   "mimetype": "text/x-python",
   "name": "python",
   "nbconvert_exporter": "python",
   "pygments_lexer": "ipython3",
   "version": "3.6.3"
  },
  "toc": {
   "nav_menu": {
    "height": "400px",
    "width": "539px"
   },
   "number_sections": true,
   "sideBar": false,
   "skip_h1_title": true,
   "title_cell": "Table of Contents",
   "title_sidebar": "Contents",
   "toc_cell": false,
   "toc_position": {},
   "toc_section_display": true,
   "toc_window_display": false
  }
 },
 "nbformat": 4,
 "nbformat_minor": 2
}
