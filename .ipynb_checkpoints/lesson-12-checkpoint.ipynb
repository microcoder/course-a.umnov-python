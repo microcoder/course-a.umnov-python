{
 "cells": [
  {
   "cell_type": "markdown",
   "metadata": {},
   "source": [
    "# Параллельное программирование\n",
    "\n",
    "Алексей Умнов https://www.youtube.com/watch?v=xYV_C4pg1LU  \n",
    "Слайды доступны по адресу: http://parallels.nsu.ru/~fat/Python/\n",
    "\n",
    "## Последовательное выполнение"
   ]
  },
  {
   "cell_type": "code",
   "execution_count": 1,
   "metadata": {},
   "outputs": [
    {
     "name": "stdout",
     "output_type": "stream",
     "text": [
      "Hello, World!\n",
      "3\n"
     ]
    }
   ],
   "source": [
    "print('Hello, World!')\n",
    "x = 1\n",
    "y = 2\n",
    "print(x + y)"
   ]
  },
  {
   "cell_type": "markdown",
   "metadata": {},
   "source": [
    "Последовательное выполнение это - Пока одна строка не выполнится, другая не начнется\n",
    "\n",
    "### Производительность\n",
    "* Производительность ~ частота процессора\n",
    "* Ограниение роста частоты\n",
    "* Есть возможность делать много процессоров\n",
    "\n",
    "### Блокирующие задачи\n",
    "\n",
    "#### Ожидание действий\n",
    "* Исполнение приостанавливается\n",
    "* Можно было бы что-нибудь делать\n",
    "\n",
    "#### Примеры\n",
    "* Пользовательские интерфейсы (ожидание ввода)\n",
    "* Работа с сетью\n",
    "\n",
    "### Параллельное выполнение\n",
    "\n",
    "#### Преимущества:\n",
    "* Ускорение ~ число процессоров (или ядер процессора)\n",
    "\n",
    "#### Недостатки:\n",
    "* Нет \"порядка\" исполнения:\n",
    "\n",
    "````python\n",
    "text = 'Hello, World!'\n",
    "\n",
    "Поток № 1:                   Поток № 2:\n",
    "for s in text:               for s in text:\n",
    "    print(s)                     print(s)\n",
    "\n",
    "Результат:\n",
    "HHeelllol,o w,or ld!World!\n",
    "````\n",
    "\n",
    "## Многопоточные программы\n",
    "\n",
    "Несколько потоков.  \n",
    "Потоки характерны тем, что находятся внутри одного процесса и работают с одной и той же памятью, но при этом они могут исполнятся на разных процессорах (или ядрах процессора):\n",
    "\n",
    "````\n",
    "------------------------------------------------------------\n",
    "| Process                                                  |\n",
    "|  ------------------------------------------------------  |\n",
    "|  | Memory                                             |  |\n",
    "|  |                                                    |  |\n",
    "|  ------------------------------------------------------  |\n",
    "|           ^                ^                ^            |\n",
    "|           |                |                |            |\n",
    "|     -------------    -------------    -------------      |\n",
    "|     | Thread1   |    | Thread2   |    | Thread3   |      |\n",
    "|     |           |    |           |    |           |      |\n",
    "|     -------------    -------------    -------------      |\n",
    "|                                                          |\n",
    "------------------------------------------------------------\n",
    "````\n",
    "\n",
    "Подготовка:"
   ]
  },
  {
   "cell_type": "code",
   "execution_count": 6,
   "metadata": {},
   "outputs": [],
   "source": [
    "def test(part_index, inputs, outputs):\n",
    "    print('Запущен поток № {}\\n'.format(part_index), end='')\n",
    "    output = inputs[part_index] ** 2 # Эмуляция некоторой задачи\n",
    "    outputs[part_index] = output     # Заносим результат вычисления\n",
    "\n",
    "inputs = range(5)\n",
    "outputs = [ None for i in inputs ]"
   ]
  },
  {
   "cell_type": "markdown",
   "metadata": {},
   "source": [
    "Как сделать так, чтобы каждый поток запустил функцию `test`? Для этого нужно подключить модуль `threading`:"
   ]
  },
  {
   "cell_type": "code",
   "execution_count": 7,
   "metadata": {},
   "outputs": [
    {
     "name": "stdout",
     "output_type": "stream",
     "text": [
      "Запущен поток № 0\n",
      "Запущен поток № 1\n",
      "Запущен поток № 2\n",
      "Запущен поток № 3\n",
      "Запущен поток № 4\n",
      "Результат: [0, 1, 4, 9, 16]\n"
     ]
    }
   ],
   "source": [
    "from threading import Thread\n",
    "\n",
    "treads = [] # Храним ссылки на потоки\n",
    "\n",
    "# Создаем потоки и кладем их в список treads\n",
    "for i in inputs:\n",
    "    t = Thread(target=test, args=(i, inputs, outputs))\n",
    "    treads.append(t)\n",
    "\n",
    "# Запускаем потоки\n",
    "for i in treads:\n",
    "    i.start() # Запускается параллельный поток. Цикл for остался выполнятся в главном (main) потоке\n",
    "\n",
    "# Чтобы главный поток (main) не завершился быстрее параллельно запущенных потоков,\n",
    "# выполняем ожидание параллельного потока главным потоком:\n",
    "for i in treads:\n",
    "    i.join()\n",
    "\n",
    "print('Результат:', outputs)"
   ]
  },
  {
   "cell_type": "markdown",
   "metadata": {},
   "source": [
    "## Наследование от Thread"
   ]
  },
  {
   "cell_type": "code",
   "execution_count": 9,
   "metadata": {},
   "outputs": [
    {
     "name": "stdout",
     "output_type": "stream",
     "text": [
      "status = started, is_alive = True\n",
      "Параллельный поток уже выполняется, присоединяемся и дожидаемся его завершения\n",
      "status = done, is_alive = False\n"
     ]
    }
   ],
   "source": [
    "import time\n",
    "import random\n",
    "\n",
    "class TCalc(Thread):\n",
    "\n",
    "    def __init__(self):\n",
    "        super().__init__()\n",
    "        self.sleeptime = random.randint(1,3)\n",
    "\n",
    "    def run(self):\n",
    "        self.status = 'started'\n",
    "        time.sleep(self.sleeptime)\n",
    "        self.status = 'done'\n",
    "\n",
    "    def __repr__(self):\n",
    "        if hasattr(self, 'status'):\n",
    "            return '{}-{}'.format(self.name, self.status)\n",
    "        return self.name + ' (id=' + str(id(self)) + ')'\n",
    "\n",
    "\n",
    "\n",
    "t = TCalc()\n",
    "t.start()  # Запускаем поток на исполнение\n",
    "\n",
    "# Теоретически может возникнуть так, что поток может писать что-то в переменную status,\n",
    "# а в это время главный поток с инструкцией print будет пытаться считать значение этой переменной,\n",
    "# Эту ситуацию Python успешно разрешает, если вы не пишите одновременно с разных мест в эту переменную.\n",
    "print('status = {}, is_alive = {}'.format(t.status, t.is_alive()))\n",
    "\n",
    "print('Параллельный поток уже выполняется, присоединяемся и дожидаемся его завершения')\n",
    "t.join() # Ожидание выполнения потока. В этом месте главный поток приостанавливается\n",
    "\n",
    "print('status = {}, is_alive = {}'.format(t.status, t.is_alive()))"
   ]
  },
  {
   "cell_type": "markdown",
   "metadata": {},
   "source": [
    "## Еще пример потоков с этим классом..."
   ]
  },
  {
   "cell_type": "code",
   "execution_count": 15,
   "metadata": {},
   "outputs": [
    {
     "name": "stdout",
     "output_type": "stream",
     "text": [
      "Потоки созданы:\n",
      " [Thread-71 (id=140356783319136), Thread-72 (id=140356783735920), Thread-73 (id=140356783736368), Thread-74 (id=140356783737320), Thread-75 (id=140356783737376), Thread-76 (id=140356783737600), Thread-77 (id=140356783737096), Thread-78 (id=140356783736088), Thread-79 (id=140356783736312), Thread-80 (id=140356783735752)] \n",
      "\n",
      "Главным потоком подождем немного...\n",
      "\n",
      "Потоки выполняются:\n",
      " [Thread-71-started, Thread-72-done, Thread-73-started, Thread-74-started, Thread-75-started, Thread-76-done, Thread-77-started, Thread-78-done, Thread-79-done, Thread-80-started] \n",
      "\n",
      "Потоки выполнены:\n",
      " [Thread-71-done, Thread-72-done, Thread-73-done, Thread-74-done, Thread-75-done, Thread-76-done, Thread-77-done, Thread-78-done, Thread-79-done, Thread-80-done]\n"
     ]
    }
   ],
   "source": [
    "treads = []\n",
    "\n",
    "# Создаем (инициализируем) потоки\n",
    "for i in range(10):\n",
    "    treads.append(TCalc())\n",
    "\n",
    "print('Потоки созданы:\\n', treads, '\\n')\n",
    "\n",
    "# Запускаем потоки\n",
    "for i in treads:\n",
    "    i.start()\n",
    "\n",
    "print('Главным потоком подождем немного...\\n')\n",
    "time.sleep(1.5) # Вводим в сон главный поток\n",
    "print('Потоки выполняются:\\n', treads, '\\n') # Какие-то потоки уже выполнились (в статусе done)\n",
    "\n",
    "# Дожидаемся выполнение потоков\n",
    "for i in treads:\n",
    "    i.join()\n",
    "\n",
    "print('Потоки выполнены:\\n', treads)"
   ]
  },
  {
   "cell_type": "markdown",
   "metadata": {},
   "source": [
    "## Принудительная остановка потока\n",
    "\n",
    "* Поток может содержать ресурсы, которые нужно освободить. Например, что-то долго происходит и нужно это прервать принудительно\n",
    "* Нет специальной функции для остановки. Так как скорее всего после этого вызова программа перейдет в некорректное состояние\n",
    "* Можно самостоятельно реализовать такую возможность"
   ]
  },
  {
   "cell_type": "code",
   "execution_count": 17,
   "metadata": {},
   "outputs": [
    {
     "name": "stdout",
     "output_type": "stream",
     "text": [
      "Потоки созданы:\n",
      " [Thread-86, Thread-87, Thread-88, Thread-89, Thread-90] \n",
      "\n",
      "Потоки запущены:\n",
      " [Thread-86-started, Thread-87-started, Thread-88-started, Thread-89-started, Thread-90-started] \n",
      "\n",
      "kill id = 3 \n",
      "\n",
      "Потоки выполнены:\n",
      " [Thread-86-done, Thread-87-done, Thread-88-done, Thread-89-killed i=6, Thread-90-done]\n"
     ]
    }
   ],
   "source": [
    "class KillableThread(Thread):\n",
    "\n",
    "    def __init__(self):\n",
    "        super().__init__()\n",
    "        self.killing = False\n",
    "\n",
    "    def run(self):\n",
    "        self.status = 'started'\n",
    "        for i in range(5,10): # Эмуляция некоторых действий потока, внутри которых условие остановки потока\n",
    "            if self.killing:\n",
    "                self.status = 'killed i=' + str(i)\n",
    "                return # break\n",
    "            time.sleep(0.2)\n",
    "        self.status = 'done'\n",
    "\n",
    "    def kill(self):\n",
    "        self.killing = True\n",
    "\n",
    "    def __repr__(self):\n",
    "        if hasattr(self, 'status'):\n",
    "            return '{}-{}'.format(self.name, self.status)\n",
    "        return self.name\n",
    "\n",
    "\n",
    "threads = []\n",
    "for i in range(5):\n",
    "    threads.append(KillableThread())\n",
    "\n",
    "print('Потоки созданы:\\n', threads, '\\n')\n",
    "\n",
    "for i in threads:\n",
    "    i.start()\n",
    "\n",
    "print('Потоки запущены:\\n', threads, '\\n')\n",
    "\n",
    "kill_thread_id = random.randint(0, len(threads)-1) # Выбираем случайный поток для остановки\n",
    "print('kill id =', kill_thread_id, '\\n')\n",
    "threads[kill_thread_id].kill()                     # Останавливаем выбранный поток\n",
    "\n",
    "# Дожидаемся выполнение всех потоков:\n",
    "for i in threads:\n",
    "    i.join()\n",
    "\n",
    "print('Потоки выполнены:\\n', threads)"
   ]
  },
  {
   "cell_type": "markdown",
   "metadata": {},
   "source": [
    "## Эксперимент скорости потоков\n",
    "\n",
    "* CPU-intense вычисления\n",
    "* 4 процессора\n",
    "\n",
    "````\n",
    "| Эксперимент    | Время |\n",
    "| Обычный запуск | 42с   |\n",
    "| 2 потока       | 65с   |\n",
    "| 4 потока       | 80с   |\n",
    "````\n",
    "\n",
    "Что происходит? Почему такое время исполнения?\n",
    "\n",
    "Причина: **GIL** (**G**lobal **I**nterpreter **L**ock) для CPython\n",
    "* Код ядра CPython некорректен для нескольких потоков (зато быстро работает для одного!)\n",
    "* GIL не дает одновременно исполняться нескольким потокам ядра\n",
    "* Исполняющийся в Python поток \"захватывает\" интерпретатор на короткое время\n",
    "* После освобождения потока интерпретатором продолжить может другой поток\n",
    "\n",
    "Зачем нужен GIL?\n",
    "* Скорость однопоточных программ <--> GIL\n",
    "\n",
    "Задачи, которые проводят мало времени \"внутри ядра\" Python:\n",
    "* Интерфейсы (GUI)\n",
    "* Работа с сетью\n",
    "* Ввод/Вывод\n",
    "* Внешние библиотеки. Например которые реализованы на других языках (NumPy)\n",
    "\n",
    "## Параллельные процессы\n",
    "\n",
    "* Для каждого процесса выделяется свой блок памяти\n",
    "* GIL автоматически исчезает"
   ]
  },
  {
   "cell_type": "code",
   "execution_count": 18,
   "metadata": {},
   "outputs": [
    {
     "name": "stdout",
     "output_type": "stream",
     "text": [
      "Hello, World\n"
     ]
    }
   ],
   "source": [
    "from multiprocessing import Process\n",
    "\n",
    "def f(name):\n",
    "    print('Hello,', name)\n",
    "\n",
    "p = Process(target=f, args=('World',))\n",
    "p.start()\n",
    "p.join()"
   ]
  },
  {
   "cell_type": "markdown",
   "metadata": {},
   "source": [
    "Обмен данными между процессами возможен через:\n",
    "* multiprocessing.Queue\n",
    "* multiprocessing.Pipe\n",
    "\n",
    "Но более простой способ выглядит использовать `multiprocessing.Pool`:"
   ]
  },
  {
   "cell_type": "code",
   "execution_count": 19,
   "metadata": {},
   "outputs": [
    {
     "name": "stdout",
     "output_type": "stream",
     "text": [
      "[0, 1, 4, 9, 16, 25, 36, 49, 64, 81]\n"
     ]
    }
   ],
   "source": [
    "from multiprocessing import Pool\n",
    "\n",
    "def calc(value):\n",
    "    return value ** 2\n",
    "\n",
    "p = Pool(processes=4)\n",
    "results = p.map(calc, range(10)) # map - для каждого из значений в range выполнится функция calc\n",
    "\n",
    "print(results)"
   ]
  },
  {
   "cell_type": "markdown",
   "metadata": {},
   "source": [
    "Ограничения `multiprocessing` - Этот код не будет работать, упадет с ошибкой:"
   ]
  },
  {
   "cell_type": "code",
   "execution_count": 20,
   "metadata": {},
   "outputs": [
    {
     "ename": "AttributeError",
     "evalue": "Can't pickle local object 'calc_parallel.<locals>.calc'",
     "output_type": "error",
     "traceback": [
      "\u001b[0;31m---------------------------------------------------------------------------\u001b[0m",
      "\u001b[0;31mAttributeError\u001b[0m                            Traceback (most recent call last)",
      "\u001b[0;32m<ipython-input-20-e39eca79d550>\u001b[0m in \u001b[0;36m<module>\u001b[0;34m()\u001b[0m\n\u001b[1;32m      7\u001b[0m     \u001b[0;32mreturn\u001b[0m \u001b[0mp\u001b[0m\u001b[0;34m.\u001b[0m\u001b[0mmap\u001b[0m\u001b[0;34m(\u001b[0m\u001b[0mcalc\u001b[0m\u001b[0;34m,\u001b[0m \u001b[0mvalues\u001b[0m\u001b[0;34m)\u001b[0m\u001b[0;34m\u001b[0m\u001b[0m\n\u001b[1;32m      8\u001b[0m \u001b[0;34m\u001b[0m\u001b[0m\n\u001b[0;32m----> 9\u001b[0;31m \u001b[0mcalc_parallel\u001b[0m\u001b[0;34m(\u001b[0m\u001b[0mrange\u001b[0m\u001b[0;34m(\u001b[0m\u001b[0;36m10\u001b[0m\u001b[0;34m)\u001b[0m\u001b[0;34m)\u001b[0m\u001b[0;34m\u001b[0m\u001b[0m\n\u001b[0m",
      "\u001b[0;32m<ipython-input-20-e39eca79d550>\u001b[0m in \u001b[0;36mcalc_parallel\u001b[0;34m(values)\u001b[0m\n\u001b[1;32m      5\u001b[0m         \u001b[0;32mreturn\u001b[0m \u001b[0mvalue\u001b[0m \u001b[0;34m**\u001b[0m \u001b[0;36m2\u001b[0m\u001b[0;34m\u001b[0m\u001b[0m\n\u001b[1;32m      6\u001b[0m     \u001b[0mp\u001b[0m \u001b[0;34m=\u001b[0m \u001b[0mPool\u001b[0m\u001b[0;34m(\u001b[0m\u001b[0mprocesses\u001b[0m\u001b[0;34m=\u001b[0m\u001b[0;36m2\u001b[0m\u001b[0;34m)\u001b[0m\u001b[0;34m\u001b[0m\u001b[0m\n\u001b[0;32m----> 7\u001b[0;31m     \u001b[0;32mreturn\u001b[0m \u001b[0mp\u001b[0m\u001b[0;34m.\u001b[0m\u001b[0mmap\u001b[0m\u001b[0;34m(\u001b[0m\u001b[0mcalc\u001b[0m\u001b[0;34m,\u001b[0m \u001b[0mvalues\u001b[0m\u001b[0;34m)\u001b[0m\u001b[0;34m\u001b[0m\u001b[0m\n\u001b[0m\u001b[1;32m      8\u001b[0m \u001b[0;34m\u001b[0m\u001b[0m\n\u001b[1;32m      9\u001b[0m \u001b[0mcalc_parallel\u001b[0m\u001b[0;34m(\u001b[0m\u001b[0mrange\u001b[0m\u001b[0;34m(\u001b[0m\u001b[0;36m10\u001b[0m\u001b[0;34m)\u001b[0m\u001b[0;34m)\u001b[0m\u001b[0;34m\u001b[0m\u001b[0m\n",
      "\u001b[0;32m/usr/lib/python3.6/multiprocessing/pool.py\u001b[0m in \u001b[0;36mmap\u001b[0;34m(self, func, iterable, chunksize)\u001b[0m\n\u001b[1;32m    264\u001b[0m         \u001b[0;32min\u001b[0m \u001b[0ma\u001b[0m \u001b[0mlist\u001b[0m \u001b[0mthat\u001b[0m \u001b[0;32mis\u001b[0m \u001b[0mreturned\u001b[0m\u001b[0;34m.\u001b[0m\u001b[0;34m\u001b[0m\u001b[0m\n\u001b[1;32m    265\u001b[0m         '''\n\u001b[0;32m--> 266\u001b[0;31m         \u001b[0;32mreturn\u001b[0m \u001b[0mself\u001b[0m\u001b[0;34m.\u001b[0m\u001b[0m_map_async\u001b[0m\u001b[0;34m(\u001b[0m\u001b[0mfunc\u001b[0m\u001b[0;34m,\u001b[0m \u001b[0miterable\u001b[0m\u001b[0;34m,\u001b[0m \u001b[0mmapstar\u001b[0m\u001b[0;34m,\u001b[0m \u001b[0mchunksize\u001b[0m\u001b[0;34m)\u001b[0m\u001b[0;34m.\u001b[0m\u001b[0mget\u001b[0m\u001b[0;34m(\u001b[0m\u001b[0;34m)\u001b[0m\u001b[0;34m\u001b[0m\u001b[0m\n\u001b[0m\u001b[1;32m    267\u001b[0m \u001b[0;34m\u001b[0m\u001b[0m\n\u001b[1;32m    268\u001b[0m     \u001b[0;32mdef\u001b[0m \u001b[0mstarmap\u001b[0m\u001b[0;34m(\u001b[0m\u001b[0mself\u001b[0m\u001b[0;34m,\u001b[0m \u001b[0mfunc\u001b[0m\u001b[0;34m,\u001b[0m \u001b[0miterable\u001b[0m\u001b[0;34m,\u001b[0m \u001b[0mchunksize\u001b[0m\u001b[0;34m=\u001b[0m\u001b[0;32mNone\u001b[0m\u001b[0;34m)\u001b[0m\u001b[0;34m:\u001b[0m\u001b[0;34m\u001b[0m\u001b[0m\n",
      "\u001b[0;32m/usr/lib/python3.6/multiprocessing/pool.py\u001b[0m in \u001b[0;36mget\u001b[0;34m(self, timeout)\u001b[0m\n\u001b[1;32m    642\u001b[0m             \u001b[0;32mreturn\u001b[0m \u001b[0mself\u001b[0m\u001b[0;34m.\u001b[0m\u001b[0m_value\u001b[0m\u001b[0;34m\u001b[0m\u001b[0m\n\u001b[1;32m    643\u001b[0m         \u001b[0;32melse\u001b[0m\u001b[0;34m:\u001b[0m\u001b[0;34m\u001b[0m\u001b[0m\n\u001b[0;32m--> 644\u001b[0;31m             \u001b[0;32mraise\u001b[0m \u001b[0mself\u001b[0m\u001b[0;34m.\u001b[0m\u001b[0m_value\u001b[0m\u001b[0;34m\u001b[0m\u001b[0m\n\u001b[0m\u001b[1;32m    645\u001b[0m \u001b[0;34m\u001b[0m\u001b[0m\n\u001b[1;32m    646\u001b[0m     \u001b[0;32mdef\u001b[0m \u001b[0m_set\u001b[0m\u001b[0;34m(\u001b[0m\u001b[0mself\u001b[0m\u001b[0;34m,\u001b[0m \u001b[0mi\u001b[0m\u001b[0;34m,\u001b[0m \u001b[0mobj\u001b[0m\u001b[0;34m)\u001b[0m\u001b[0;34m:\u001b[0m\u001b[0;34m\u001b[0m\u001b[0m\n",
      "\u001b[0;32m/usr/lib/python3.6/multiprocessing/pool.py\u001b[0m in \u001b[0;36m_handle_tasks\u001b[0;34m(taskqueue, put, outqueue, pool, cache)\u001b[0m\n\u001b[1;32m    422\u001b[0m                         \u001b[0;32mbreak\u001b[0m\u001b[0;34m\u001b[0m\u001b[0m\n\u001b[1;32m    423\u001b[0m                     \u001b[0;32mtry\u001b[0m\u001b[0;34m:\u001b[0m\u001b[0;34m\u001b[0m\u001b[0m\n\u001b[0;32m--> 424\u001b[0;31m                         \u001b[0mput\u001b[0m\u001b[0;34m(\u001b[0m\u001b[0mtask\u001b[0m\u001b[0;34m)\u001b[0m\u001b[0;34m\u001b[0m\u001b[0m\n\u001b[0m\u001b[1;32m    425\u001b[0m                     \u001b[0;32mexcept\u001b[0m \u001b[0mException\u001b[0m \u001b[0;32mas\u001b[0m \u001b[0me\u001b[0m\u001b[0;34m:\u001b[0m\u001b[0;34m\u001b[0m\u001b[0m\n\u001b[1;32m    426\u001b[0m                         \u001b[0mjob\u001b[0m\u001b[0;34m,\u001b[0m \u001b[0midx\u001b[0m \u001b[0;34m=\u001b[0m \u001b[0mtask\u001b[0m\u001b[0;34m[\u001b[0m\u001b[0;34m:\u001b[0m\u001b[0;36m2\u001b[0m\u001b[0;34m]\u001b[0m\u001b[0;34m\u001b[0m\u001b[0m\n",
      "\u001b[0;32m/usr/lib/python3.6/multiprocessing/connection.py\u001b[0m in \u001b[0;36msend\u001b[0;34m(self, obj)\u001b[0m\n\u001b[1;32m    204\u001b[0m         \u001b[0mself\u001b[0m\u001b[0;34m.\u001b[0m\u001b[0m_check_closed\u001b[0m\u001b[0;34m(\u001b[0m\u001b[0;34m)\u001b[0m\u001b[0;34m\u001b[0m\u001b[0m\n\u001b[1;32m    205\u001b[0m         \u001b[0mself\u001b[0m\u001b[0;34m.\u001b[0m\u001b[0m_check_writable\u001b[0m\u001b[0;34m(\u001b[0m\u001b[0;34m)\u001b[0m\u001b[0;34m\u001b[0m\u001b[0m\n\u001b[0;32m--> 206\u001b[0;31m         \u001b[0mself\u001b[0m\u001b[0;34m.\u001b[0m\u001b[0m_send_bytes\u001b[0m\u001b[0;34m(\u001b[0m\u001b[0m_ForkingPickler\u001b[0m\u001b[0;34m.\u001b[0m\u001b[0mdumps\u001b[0m\u001b[0;34m(\u001b[0m\u001b[0mobj\u001b[0m\u001b[0;34m)\u001b[0m\u001b[0;34m)\u001b[0m\u001b[0;34m\u001b[0m\u001b[0m\n\u001b[0m\u001b[1;32m    207\u001b[0m \u001b[0;34m\u001b[0m\u001b[0m\n\u001b[1;32m    208\u001b[0m     \u001b[0;32mdef\u001b[0m \u001b[0mrecv_bytes\u001b[0m\u001b[0;34m(\u001b[0m\u001b[0mself\u001b[0m\u001b[0;34m,\u001b[0m \u001b[0mmaxlength\u001b[0m\u001b[0;34m=\u001b[0m\u001b[0;32mNone\u001b[0m\u001b[0;34m)\u001b[0m\u001b[0;34m:\u001b[0m\u001b[0;34m\u001b[0m\u001b[0m\n",
      "\u001b[0;32m/usr/lib/python3.6/multiprocessing/reduction.py\u001b[0m in \u001b[0;36mdumps\u001b[0;34m(cls, obj, protocol)\u001b[0m\n\u001b[1;32m     49\u001b[0m     \u001b[0;32mdef\u001b[0m \u001b[0mdumps\u001b[0m\u001b[0;34m(\u001b[0m\u001b[0mcls\u001b[0m\u001b[0;34m,\u001b[0m \u001b[0mobj\u001b[0m\u001b[0;34m,\u001b[0m \u001b[0mprotocol\u001b[0m\u001b[0;34m=\u001b[0m\u001b[0;32mNone\u001b[0m\u001b[0;34m)\u001b[0m\u001b[0;34m:\u001b[0m\u001b[0;34m\u001b[0m\u001b[0m\n\u001b[1;32m     50\u001b[0m         \u001b[0mbuf\u001b[0m \u001b[0;34m=\u001b[0m \u001b[0mio\u001b[0m\u001b[0;34m.\u001b[0m\u001b[0mBytesIO\u001b[0m\u001b[0;34m(\u001b[0m\u001b[0;34m)\u001b[0m\u001b[0;34m\u001b[0m\u001b[0m\n\u001b[0;32m---> 51\u001b[0;31m         \u001b[0mcls\u001b[0m\u001b[0;34m(\u001b[0m\u001b[0mbuf\u001b[0m\u001b[0;34m,\u001b[0m \u001b[0mprotocol\u001b[0m\u001b[0;34m)\u001b[0m\u001b[0;34m.\u001b[0m\u001b[0mdump\u001b[0m\u001b[0;34m(\u001b[0m\u001b[0mobj\u001b[0m\u001b[0;34m)\u001b[0m\u001b[0;34m\u001b[0m\u001b[0m\n\u001b[0m\u001b[1;32m     52\u001b[0m         \u001b[0;32mreturn\u001b[0m \u001b[0mbuf\u001b[0m\u001b[0;34m.\u001b[0m\u001b[0mgetbuffer\u001b[0m\u001b[0;34m(\u001b[0m\u001b[0;34m)\u001b[0m\u001b[0;34m\u001b[0m\u001b[0m\n\u001b[1;32m     53\u001b[0m \u001b[0;34m\u001b[0m\u001b[0m\n",
      "\u001b[0;31mAttributeError\u001b[0m: Can't pickle local object 'calc_parallel.<locals>.calc'"
     ]
    }
   ],
   "source": [
    "from multiprocessing import Pool\n",
    "\n",
    "def calc_parallel(values):\n",
    "    def calc(value):\n",
    "        return value ** 2\n",
    "    p = Pool(processes=2)\n",
    "    return p.map(calc, values)\n",
    "\n",
    "calc_parallel(range(10))"
   ]
  },
  {
   "cell_type": "markdown",
   "metadata": {},
   "source": [
    "Почему? Как работает `multiprocessing`?  \n",
    "Чтобы передать в другой процесс функцию которую нужно выполнить и значения\n",
    "1. Запускается второй интерпретатор (процесс ОС)\n",
    "2. В него импортируется оператором `import` функция `calc` из текущего модуля\n",
    "\n",
    "Но проблема здесь в том, что функция `calc` находится внутри функции `calc_parallel` и она не доступна оператору `import`! Импортировать возможно только те функции, которые доступны в глобальной области видимости. Нельзя использовать:\n",
    "* Локальные функции\n",
    "* `lambda` функции\n",
    "* Составные выражения и т.д.\n",
    "\n",
    "Для данных, `multiprocessing` сериализирует объекты в файл, а затем их импортирует в другой процесс. Эти объекты должны быть \"pickable\".\n",
    "\n",
    "## Внешние процессы"
   ]
  },
  {
   "cell_type": "code",
   "execution_count": 22,
   "metadata": {},
   "outputs": [
    {
     "data": {
      "text/plain": [
       "0"
      ]
     },
     "execution_count": 22,
     "metadata": {},
     "output_type": "execute_result"
    }
   ],
   "source": [
    "import os\n",
    "\n",
    "# Выводит результат работы и возвращает код возврата\n",
    "os.system('ls')"
   ]
  },
  {
   "cell_type": "code",
   "execution_count": 23,
   "metadata": {},
   "outputs": [
    {
     "data": {
      "text/plain": [
       "0"
      ]
     },
     "execution_count": 23,
     "metadata": {},
     "output_type": "execute_result"
    }
   ],
   "source": [
    "os.system('echo \"Hello, World!\"')"
   ]
  },
  {
   "cell_type": "markdown",
   "metadata": {},
   "source": [
    "## Модуль subprocess"
   ]
  },
  {
   "cell_type": "code",
   "execution_count": 24,
   "metadata": {},
   "outputs": [
    {
     "data": {
      "text/plain": [
       "b'\"Hello, World!\"\\n'"
      ]
     },
     "execution_count": 24,
     "metadata": {},
     "output_type": "execute_result"
    }
   ],
   "source": [
    "import subprocess\n",
    "\n",
    "# Вместо os.system('echo \"Hello, World!\"'):\n",
    "subprocess.check_output(['echo', '\"Hello, World!\"'])"
   ]
  },
  {
   "cell_type": "markdown",
   "metadata": {},
   "source": [
    "Возможно возвращать `Exception`, если `shell` программа завершилась неудачно:"
   ]
  },
  {
   "cell_type": "code",
   "execution_count": 26,
   "metadata": {},
   "outputs": [
    {
     "name": "stdout",
     "output_type": "stream",
     "text": [
      "Произошло исключение: Command 'exit 1' returned non-zero exit status 1.\n"
     ]
    }
   ],
   "source": [
    "try:\n",
    "    subprocess.check_output('exit 1', shell=True)\n",
    "except subprocess.CalledProcessError as e:\n",
    "    print('Произошло исключение:', e)"
   ]
  },
  {
   "cell_type": "markdown",
   "metadata": {},
   "source": [
    "Более сложный способ работы с процессами, подпроцессами:"
   ]
  },
  {
   "cell_type": "code",
   "execution_count": 27,
   "metadata": {},
   "outputs": [
    {
     "name": "stdout",
     "output_type": "stream",
     "text": [
      "(None, None)\n"
     ]
    }
   ],
   "source": [
    "p = subprocess.Popen(['echo', 'hi'])\n",
    "# Дожидается ответ от процесса и возвращает stdout который получила\n",
    "print(p.communicate())"
   ]
  },
  {
   "cell_type": "markdown",
   "metadata": {},
   "source": [
    "PIPE - означает приготовить `stdout` для другого процесса:"
   ]
  },
  {
   "cell_type": "code",
   "execution_count": 28,
   "metadata": {},
   "outputs": [
    {
     "name": "stdout",
     "output_type": "stream",
     "text": [
      "(b'hi\\n', None)\n"
     ]
    }
   ],
   "source": [
    "p = subprocess.Popen(['echo', 'hi'], stdout=subprocess.PIPE)\n",
    "print(p.communicate())"
   ]
  },
  {
   "cell_type": "markdown",
   "metadata": {},
   "source": [
    "Передается на `stdin` подпроцесса:"
   ]
  },
  {
   "cell_type": "code",
   "execution_count": 32,
   "metadata": {},
   "outputs": [
    {
     "name": "stdout",
     "output_type": "stream",
     "text": [
      "(b'sample text', None)\n"
     ]
    }
   ],
   "source": [
    "p = subprocess.Popen(['cat'], stdout=subprocess.PIPE, stdin=subprocess.PIPE)\n",
    "print(p.communicate('sample text'.encode('utf8')))"
   ]
  },
  {
   "cell_type": "markdown",
   "metadata": {},
   "source": [
    "Pipeline:"
   ]
  },
  {
   "cell_type": "code",
   "execution_count": 33,
   "metadata": {},
   "outputs": [],
   "source": [
    "p1 = subprocess.Popen(['echo', 'qwerty'], stdout=subprocess.PIPE)\n",
    "p2 = subprocess.Popen(['tr', 'q', 'z'], stdin=p1.stdout, stdout=subprocess.PIPE)"
   ]
  },
  {
   "cell_type": "markdown",
   "metadata": {},
   "source": [
    "Чтобы это не падало в ошибку, перед тем как вызвать `communicate()` у второго процесса, нужно у первого процесса закрыть `stdout`:"
   ]
  },
  {
   "cell_type": "code",
   "execution_count": 34,
   "metadata": {},
   "outputs": [
    {
     "name": "stdout",
     "output_type": "stream",
     "text": [
      "(b'zwerty\\n', None)\n"
     ]
    }
   ],
   "source": [
    "p1.stdout.close()\n",
    "print(p2.communicate())"
   ]
  }
 ],
 "metadata": {
  "kernelspec": {
   "display_name": "Python 3",
   "language": "python",
   "name": "python3"
  },
  "language_info": {
   "codemirror_mode": {
    "name": "ipython",
    "version": 3
   },
   "file_extension": ".py",
   "mimetype": "text/x-python",
   "name": "python",
   "nbconvert_exporter": "python",
   "pygments_lexer": "ipython3",
   "version": "3.6.3"
  },
  "toc": {
   "nav_menu": {
    "height": "328px",
    "width": "365px"
   },
   "number_sections": true,
   "sideBar": false,
   "skip_h1_title": true,
   "title_cell": "Table of Contents",
   "title_sidebar": "Contents",
   "toc_cell": false,
   "toc_position": {},
   "toc_section_display": true,
   "toc_window_display": false
  }
 },
 "nbformat": 4,
 "nbformat_minor": 2
}
