{
 "cells": [
  {
   "cell_type": "markdown",
   "metadata": {},
   "source": [
    "# Модули. Обработка ошибок\n",
    "\n",
    "Алексей Умнов https://www.youtube.com/watch?v=q1QMuMaikXk  \n",
    "Слайды доступны по адресу: http://parallels.nsu.ru/~fat/Python/\n",
    "\n",
    "## Модули и пространство имен\n",
    "\n",
    "Модуль как объект.  \n",
    "В Python всё является объектом, поэтому, когда модуль импортируется, он является объектом."
   ]
  },
  {
   "cell_type": "code",
   "execution_count": 16,
   "metadata": {},
   "outputs": [
    {
     "name": "stdout",
     "output_type": "stream",
     "text": [
      "<module 'math' (built-in)>\n",
      "<built-in function floor>\n",
      "<built-in function ceil>\n"
     ]
    }
   ],
   "source": [
    "import math\n",
    "\n",
    "print(math)\n",
    "print(math.floor)\n",
    "print(math.ceil)"
   ]
  },
  {
   "cell_type": "markdown",
   "metadata": {},
   "source": [
    "Импортирование конкретной функции из модуля:"
   ]
  },
  {
   "cell_type": "code",
   "execution_count": 17,
   "metadata": {},
   "outputs": [
    {
     "name": "stdout",
     "output_type": "stream",
     "text": [
      "<built-in function floor>\n"
     ]
    }
   ],
   "source": [
    "from math import floor\n",
    "\n",
    "print(floor)"
   ]
  },
  {
   "cell_type": "markdown",
   "metadata": {},
   "source": [
    "Пространство имен (namespace) - логическое объединение идентификаторов (имён).  \n",
    "Одинаковые имена могут иметь разный смысл в разных пространствах имён.  \n",
    "Атрибуты любого объекта - пространство имён (в т.ч. модулей)"
   ]
  },
  {
   "cell_type": "markdown",
   "metadata": {},
   "source": [
    "## Создание и поиск модулей\n",
    "\n",
    "Если модуль располагается в той же директории, то можно его импортировать так:"
   ]
  },
  {
   "cell_type": "code",
   "execution_count": 18,
   "metadata": {},
   "outputs": [
    {
     "name": "stdout",
     "output_type": "stream",
     "text": [
      "count lines: 2\n"
     ]
    }
   ],
   "source": [
    "import mod_count\n",
    "\n",
    "n = mod_count.count_lines('file.txt')\n",
    "\n",
    "print('count lines: ' + str(n))"
   ]
  },
  {
   "cell_type": "markdown",
   "metadata": {},
   "source": [
    "Как происходит поиск модуля?\n",
    "\n",
    "1. Поиск mod_count.py в текущей директории\n",
    "2. Поиск mod_count.py в директориях из списка переменной окружения `PYTHONPATH`\n",
    "\n",
    "Вывод переменной окружения `PYTHONPATH`:"
   ]
  },
  {
   "cell_type": "code",
   "execution_count": 19,
   "metadata": {},
   "outputs": [
    {
     "name": "stdout",
     "output_type": "stream",
     "text": [
      "['', '/usr/lib/python36.zip', '/usr/lib/python3.6', '/usr/lib/python3.6/lib-dynload', '/home/ubuntu/.local/lib/python3.6/site-packages', '/usr/local/lib/python3.6/dist-packages', '/usr/lib/python3/dist-packages', '/usr/lib/python3.6/dist-packages', '/home/ubuntu/.local/lib/python3.6/site-packages/IPython/extensions', '/home/ubuntu/.ipython']\n"
     ]
    }
   ],
   "source": [
    "import sys\n",
    "\n",
    "print(sys.path)"
   ]
  },
  {
   "cell_type": "markdown",
   "metadata": {},
   "source": [
    "Если модуль лежит не в текущей директории и не в перечисленных директориях переменной `PYTHONPATH`, то можно динамически добавить путь для поиска модуля:\n",
    "\n",
    "```python\n",
    "sys.path.append('dir/my_module')\n",
    "```\n",
    "\n",
    "или заменить существующий путь, например, под индексом 0:\n",
    "\n",
    "```python\n",
    "sys.path.insert(0, 'dir/my_module')\n",
    "```\n",
    "\n",
    "а затем подключить его:\n",
    "\n",
    "```python\n",
    "import my_module\n",
    "```\n",
    "\n",
    "После подключения и вызова модуля можно обнаружить в его директории спец. директорию `__pycache__` в которой будет находится скомпилированная в байткод версия модуля для ускорения последующих вызовов.\n",
    "\n",
    "## Скрипты как модули\n",
    "\n",
    "Модули можно оформлять как скрипты в которые передаются какие-то аргументы, см. файл `mod_count2.py`.\n",
    "\n",
    "Если вызвать без аргументов, то получим:"
   ]
  },
  {
   "cell_type": "code",
   "execution_count": 20,
   "metadata": {},
   "outputs": [
    {
     "name": "stdout",
     "output_type": "stream",
     "text": [
      "Not enough arguments.\n"
     ]
    }
   ],
   "source": [
    "%%bash\n",
    "\n",
    "python3 mod_count2.py"
   ]
  },
  {
   "cell_type": "markdown",
   "metadata": {},
   "source": [
    "Если вызвать с аргументом:"
   ]
  },
  {
   "cell_type": "code",
   "execution_count": 21,
   "metadata": {},
   "outputs": [
    {
     "name": "stdout",
     "output_type": "stream",
     "text": [
      "2\n"
     ]
    }
   ],
   "source": [
    "%%bash\n",
    "\n",
    "python3 mod_count2.py file.txt"
   ]
  },
  {
   "cell_type": "markdown",
   "metadata": {},
   "source": [
    "Если попытаться импортировать скрипт как модуль, то получим сообщение: `Not enough arguments`. Но при этом мы попрежнему можем воспользоваться нашей функцией:"
   ]
  },
  {
   "cell_type": "code",
   "execution_count": 1,
   "metadata": {},
   "outputs": [
    {
     "name": "stdout",
     "output_type": "stream",
     "text": [
      "Not enough arguments.\n",
      "2\n"
     ]
    }
   ],
   "source": [
    "import mod_count2\n",
    "\n",
    "n = mod_count2.count_lines('file.txt')\n",
    "\n",
    "print(n)"
   ]
  },
  {
   "cell_type": "markdown",
   "metadata": {},
   "source": [
    "У модуля существует атрибут `__name__` который почти всегда равен имени файлу без расширения, если скрипт был импортирован. Когда скрипт не импортировали, т.е. когда он является главным, то атрибут `__name__` (имя модуля) будет равен `__main__`.\n",
    "\n",
    "Имя текущего скрипта/модуля:"
   ]
  },
  {
   "cell_type": "code",
   "execution_count": 2,
   "metadata": {},
   "outputs": [
    {
     "name": "stdout",
     "output_type": "stream",
     "text": [
      "__main__\n"
     ]
    }
   ],
   "source": [
    "print(__name__)"
   ]
  },
  {
   "cell_type": "markdown",
   "metadata": {},
   "source": [
    "Имя импортированного скрипта/модуля:"
   ]
  },
  {
   "cell_type": "code",
   "execution_count": 3,
   "metadata": {},
   "outputs": [
    {
     "name": "stdout",
     "output_type": "stream",
     "text": [
      "mod_count2\n"
     ]
    }
   ],
   "source": [
    "print(mod_count2.__name__)"
   ]
  },
  {
   "cell_type": "code",
   "execution_count": 4,
   "metadata": {},
   "outputs": [
    {
     "name": "stdout",
     "output_type": "stream",
     "text": [
      "<module 'mod_count2' from '/home/ubuntu/course-python-a.umnov/lessons/mod_count2.py'>\n"
     ]
    }
   ],
   "source": [
    "print(mod_count2)"
   ]
  },
  {
   "cell_type": "code",
   "execution_count": 5,
   "metadata": {},
   "outputs": [
    {
     "name": "stdout",
     "output_type": "stream",
     "text": [
      "Это главный модуль\n"
     ]
    }
   ],
   "source": [
    "if __name__ == '__main__':\n",
    "    print('Это главный модуль')"
   ]
  },
  {
   "cell_type": "markdown",
   "metadata": {},
   "source": [
    "Этим способом можно воспользоваться и переписать модуль mod_count2, дописав условие. После чего, надпись уже не будет появляться при импортировании его в другие модули:"
   ]
  },
  {
   "cell_type": "code",
   "execution_count": 6,
   "metadata": {},
   "outputs": [
    {
     "name": "stdout",
     "output_type": "stream",
     "text": [
      "2\n"
     ]
    }
   ],
   "source": [
    "import mod_count3\n",
    "\n",
    "n = mod_count3.count_lines('file.txt')\n",
    "\n",
    "print(n)"
   ]
  },
  {
   "cell_type": "markdown",
   "metadata": {},
   "source": [
    "Также, чтобы не импортировать всё тело скрипта и избавится от лишней логики скрипта, достаточно импортировать конкретную функцию модуля:"
   ]
  },
  {
   "cell_type": "code",
   "execution_count": 7,
   "metadata": {},
   "outputs": [
    {
     "name": "stdout",
     "output_type": "stream",
     "text": [
      "2\n"
     ]
    }
   ],
   "source": [
    "from mod_count3 import count_lines\n",
    "\n",
    "n = count_lines('file.txt')\n",
    "\n",
    "print(n)"
   ]
  },
  {
   "cell_type": "markdown",
   "metadata": {},
   "source": [
    "## Обработка аргументов\n",
    "\n",
    "Модуль `argparse`  \n",
    "Модуль для работы с аргументами командной строки. Обычно берет аргументы из `sys.argv`.  \n",
    "см. файл `mod_argparse.py`:"
   ]
  },
  {
   "cell_type": "code",
   "execution_count": null,
   "metadata": {},
   "outputs": [],
   "source": [
    "# %load mod_argparse.py\n",
    "import argparse\n",
    "\n",
    "def count_lines(filename):\n",
    "    \"Подсчитывает количество строк в файле\"\n",
    "    with open(filename) as f:\n",
    "        count = 0\n",
    "        for line in f:\n",
    "            count += 1\n",
    "    return count\n",
    "\n",
    "def count_symbols(filename, line_index):\n",
    "    \"Подсчитывает количество символов в указанной строке аргументом line_index\"\n",
    "    with open(filename) as f:\n",
    "        current = 0\n",
    "        for line in f:\n",
    "            if current == line_index:\n",
    "                return len(line) -1\n",
    "            current += 1\n",
    "\n",
    "\n",
    "def main():\n",
    "    \"\"\"Если вызвать скрипт без аргументов, то argparse автоматически выведет ошибку.\n",
    "    Если вызвать скрипт с аргументом -h, то argparser выведет справку.\n",
    "\n",
    "    Пример вызова: python3 script_argparse.py -l 1 test.txt\n",
    "    \"\"\"\n",
    "\n",
    "    # Создается экземпляр парсера\n",
    "    parser = argparse.ArgumentParser()\n",
    "\n",
    "    # Добавляется порядковый аргумент (без черточек), с обязательным значением\n",
    "    parser.add_argument('filename', help='name of input file')\n",
    "\n",
    "    # Добавляется именованный аргумент (с черточками), с необязательным значением (default=None)\n",
    "    parser.add_argument('-l', '--line', type=int, default=None, help='count symbols in line')\n",
    "\n",
    "    # Еще можно добавить описание которое будет выводится в помощи над всеми аргументами после строчки 'usage'\n",
    "    parser.description = (\n",
    "            'Lines and symbol counting '\n",
    "            'utilities.')\n",
    "\n",
    "    # Можно еще приравнять описание к докстрингу этого модуля\n",
    "    # parser.description = __doc__\n",
    "\n",
    "    # Следующей командой парсятся аргументы из sys.argv где ожидается обязательный аргумент 'filename',\n",
    "    # если аргумент не находится, то происходит Exception с выводом справки\n",
    "    args = parser.parse_args()\n",
    "\n",
    "    if args.line is None: # Если у переданного аргумента line отсуствует значение\n",
    "        print(count_lines(args.filename))\n",
    "    else:\n",
    "        # Выполняется, если аргумент filename и --line переданы этому скрипту:\n",
    "        print(count_symbols(args.filename, args.line))\n",
    "\n",
    "# Если скрипт/модуль вызывается напрямую, не через import\n",
    "if __name__ == '__main__':\n",
    "    main()\n"
   ]
  },
  {
   "cell_type": "code",
   "execution_count": 10,
   "metadata": {},
   "outputs": [
    {
     "name": "stderr",
     "output_type": "stream",
     "text": [
      "usage: mod_argparse.py [-h] [-l LINE] filename\n",
      "mod_argparse.py: error: the following arguments are required: filename\n"
     ]
    }
   ],
   "source": [
    "%%bash\n",
    "\n",
    "python3 mod_argparse.py"
   ]
  },
  {
   "cell_type": "code",
   "execution_count": 12,
   "metadata": {},
   "outputs": [
    {
     "name": "stdout",
     "output_type": "stream",
     "text": [
      "usage: mod_argparse.py [-h] [-l LINE] filename\n",
      "\n",
      "Lines and symbol counting utilities.\n",
      "\n",
      "positional arguments:\n",
      "  filename              name of input file\n",
      "\n",
      "optional arguments:\n",
      "  -h, --help            show this help message and exit\n",
      "  -l LINE, --line LINE  count symbols in line\n"
     ]
    }
   ],
   "source": [
    "%%bash\n",
    "\n",
    "python3 mod_argparse.py -h"
   ]
  },
  {
   "cell_type": "code",
   "execution_count": 13,
   "metadata": {},
   "outputs": [
    {
     "name": "stdout",
     "output_type": "stream",
     "text": [
      "2\n"
     ]
    }
   ],
   "source": [
    "%%bash\n",
    "\n",
    "python3 mod_argparse.py file.txt"
   ]
  },
  {
   "cell_type": "code",
   "execution_count": 22,
   "metadata": {},
   "outputs": [
    {
     "name": "stdout",
     "output_type": "stream",
     "text": [
      "13\n"
     ]
    }
   ],
   "source": [
    "%%bash\n",
    "\n",
    "python3 mod_argparse.py -l 0 file.txt"
   ]
  },
  {
   "cell_type": "markdown",
   "metadata": {},
   "source": [
    "## Модули. Обработка ошибок\n",
    "\n",
    "Какие бывают ошибки?\n",
    "\n",
    "Типы ошибок:\n",
    "1. Синтаксические: `SyntaxError: invalid syntax`\n",
    "2. Исключения, например: `ZeroDevisionError: integer division or modulo by zero`\n",
    "\n",
    "Исключения - это объекты. Когда происходит ошибка интерпретатор генерирует специальный объект, который имеет тип.\n",
    "\n",
    "Доступ к несуществующему элементу словаря вызовет исключение типа `KeyError`:"
   ]
  },
  {
   "cell_type": "code",
   "execution_count": 23,
   "metadata": {},
   "outputs": [
    {
     "ename": "KeyError",
     "evalue": "'a'",
     "output_type": "error",
     "traceback": [
      "\u001b[0;31m---------------------------------------------------------------------------\u001b[0m",
      "\u001b[0;31mKeyError\u001b[0m                                  Traceback (most recent call last)",
      "\u001b[0;32m<ipython-input-23-87ccf141e74f>\u001b[0m in \u001b[0;36m<module>\u001b[0;34m()\u001b[0m\n\u001b[1;32m      1\u001b[0m \u001b[0mx\u001b[0m \u001b[0;34m=\u001b[0m \u001b[0;34m{\u001b[0m\u001b[0;34m}\u001b[0m\u001b[0;34m\u001b[0m\u001b[0m\n\u001b[1;32m      2\u001b[0m \u001b[0;34m\u001b[0m\u001b[0m\n\u001b[0;32m----> 3\u001b[0;31m \u001b[0mx\u001b[0m\u001b[0;34m[\u001b[0m\u001b[0;34m'a'\u001b[0m\u001b[0;34m]\u001b[0m\u001b[0;34m\u001b[0m\u001b[0m\n\u001b[0m",
      "\u001b[0;31mKeyError\u001b[0m: 'a'"
     ]
    }
   ],
   "source": [
    "x = {}\n",
    "\n",
    "x['a']"
   ]
  },
  {
   "cell_type": "markdown",
   "metadata": {},
   "source": [
    "Доступ к несуществующему индексу списка вызовет исключение типа `IndexError`:"
   ]
  },
  {
   "cell_type": "code",
   "execution_count": 24,
   "metadata": {},
   "outputs": [
    {
     "ename": "IndexError",
     "evalue": "list index out of range",
     "output_type": "error",
     "traceback": [
      "\u001b[0;31m---------------------------------------------------------------------------\u001b[0m",
      "\u001b[0;31mIndexError\u001b[0m                                Traceback (most recent call last)",
      "\u001b[0;32m<ipython-input-24-07659dd6c88c>\u001b[0m in \u001b[0;36m<module>\u001b[0;34m()\u001b[0m\n\u001b[1;32m      1\u001b[0m \u001b[0my\u001b[0m \u001b[0;34m=\u001b[0m \u001b[0;34m[\u001b[0m\u001b[0;36m1\u001b[0m\u001b[0;34m,\u001b[0m \u001b[0;36m2\u001b[0m\u001b[0;34m]\u001b[0m\u001b[0;34m\u001b[0m\u001b[0m\n\u001b[1;32m      2\u001b[0m \u001b[0;34m\u001b[0m\u001b[0m\n\u001b[0;32m----> 3\u001b[0;31m \u001b[0my\u001b[0m\u001b[0;34m[\u001b[0m\u001b[0;36m2\u001b[0m\u001b[0;34m]\u001b[0m\u001b[0;34m\u001b[0m\u001b[0m\n\u001b[0m",
      "\u001b[0;31mIndexError\u001b[0m: list index out of range"
     ]
    }
   ],
   "source": [
    "y = [1, 2]\n",
    "\n",
    "y[2]"
   ]
  },
  {
   "cell_type": "markdown",
   "metadata": {},
   "source": [
    "Еще несколько типов для примера: `ValueError`, `TypeError` и т.д.\n",
    "\n",
    "Обработка исключений. Пример №1:"
   ]
  },
  {
   "cell_type": "code",
   "execution_count": 25,
   "metadata": {},
   "outputs": [
    {
     "name": "stdout",
     "output_type": "stream",
     "text": [
      "Oops! IndexError\n"
     ]
    }
   ],
   "source": [
    "try:\n",
    "    x = [1, 2]\n",
    "    print(x[2])    # Exception type: IndexError\n",
    "except IndexError: # Здесь перехватываем конкретный тип исключения IndexError\n",
    "    print('Oops! IndexError')"
   ]
  },
  {
   "cell_type": "markdown",
   "metadata": {},
   "source": [
    "Обработка исключений. Пример №2:"
   ]
  },
  {
   "cell_type": "code",
   "execution_count": 26,
   "metadata": {},
   "outputs": [
    {
     "name": "stdout",
     "output_type": "stream",
     "text": [
      "Enter a number: w\n",
      "Invalid number. Try again.\n",
      "Enter a number: 1\n"
     ]
    }
   ],
   "source": [
    "while True:\n",
    "    try:\n",
    "        x = int(input('Enter a number: '))\n",
    "        break # Если ввели число, т.е. исключение не сработало на предыдущей строке, то прерываем цикл\n",
    "    except ValueError:\n",
    "        # Выводим сообщение пользователю и переходим на новую итерацию бесконечного цикла\n",
    "        print('Invalid number. Try again.')"
   ]
  },
  {
   "cell_type": "markdown",
   "metadata": {},
   "source": [
    "Обработка исключений. Пример №3:"
   ]
  },
  {
   "cell_type": "code",
   "execution_count": 27,
   "metadata": {},
   "outputs": [
    {
     "name": "stdout",
     "output_type": "stream",
     "text": [
      "IOError: No such file or directory\n"
     ]
    }
   ],
   "source": [
    "try:\n",
    "    f = open('file2.txt')\n",
    "    s = f.readline()\n",
    "    i = int(s.strip())\n",
    "except IOError as e:\n",
    "    print('IOError:', e.strerror) # IOError: No such file or directory\n",
    "except ValueError:\n",
    "    print('Data is not a integer')\n",
    "except:\n",
    "    # Без указания конкретного типа. Перехватываются все возможные исключения.\n",
    "    # В том числе и KeyboardInterrupt, который если перехватить, то можно не завершить программу принудительно\n",
    "    print('Unexpected error')"
   ]
  },
  {
   "cell_type": "markdown",
   "metadata": {},
   "source": [
    "Обработка исключений. Пример №4. В одном блоке можно перехватывать сразу несколько исключений разных типов:"
   ]
  },
  {
   "cell_type": "code",
   "execution_count": 28,
   "metadata": {},
   "outputs": [
    {
     "name": "stdout",
     "output_type": "stream",
     "text": [
      "Unexpected error\n"
     ]
    }
   ],
   "source": [
    "try:\n",
    "    x = y[5]\n",
    "except(NameError, IndexError) as e:\n",
    "    print('Unexpected error')"
   ]
  },
  {
   "cell_type": "markdown",
   "metadata": {},
   "source": [
    "Создание исключений:"
   ]
  },
  {
   "cell_type": "code",
   "execution_count": 29,
   "metadata": {},
   "outputs": [
    {
     "name": "stdout",
     "output_type": "stream",
     "text": [
      "ValueError: qwerty\n"
     ]
    }
   ],
   "source": [
    "try:\n",
    "    raise ValueError('qwerty')\n",
    "except ValueError as e:\n",
    "    print('ValueError:', e)"
   ]
  },
  {
   "cell_type": "markdown",
   "metadata": {},
   "source": [
    "### Пользовательские исключения\n",
    "\n",
    "В конструктор `MyError` можно передать не только строку, но и любой другой тип, например результат вычисления `2*2`:"
   ]
  },
  {
   "cell_type": "code",
   "execution_count": 30,
   "metadata": {},
   "outputs": [
    {
     "name": "stdout",
     "output_type": "stream",
     "text": [
      "My error, value: 4 <MyError self.value=4 >\n"
     ]
    }
   ],
   "source": [
    "class MyError(Exception):\n",
    "    \n",
    "    def __init__(self, value):\n",
    "        self.value = value\n",
    "    \n",
    "    def __str__(self):\n",
    "        return '<' + MyError.__name__ + ' self.value=' + str(self.value) + ' >'\n",
    "\n",
    "\n",
    "try:\n",
    "    raise MyError(2*2)\n",
    "except MyError as e:\n",
    "    # С прямым доступом к атрибуту value класса MyError и через метод __str__\n",
    "    print('My error, value:', e.value, e)"
   ]
  },
  {
   "cell_type": "markdown",
   "metadata": {},
   "source": [
    "Атрибуты исключений `__init__`, `__str__` по умолчанию реализованы в классе предке `Exception`, поэтому переопределять их в классе наследнике не обязательно:"
   ]
  },
  {
   "cell_type": "code",
   "execution_count": 31,
   "metadata": {},
   "outputs": [
    {
     "name": "stdout",
     "output_type": "stream",
     "text": [
      "My error, value: 4\n"
     ]
    }
   ],
   "source": [
    "class MyError(Exception):\n",
    "    pass\n",
    "\n",
    "\n",
    "try:\n",
    "    raise MyError(str(2*2))\n",
    "except MyError as e:\n",
    "    print('My error, value:', e)"
   ]
  },
  {
   "cell_type": "markdown",
   "metadata": {},
   "source": [
    "Иерархии исключений:"
   ]
  },
  {
   "cell_type": "code",
   "execution_count": 32,
   "metadata": {},
   "outputs": [
    {
     "name": "stdout",
     "output_type": "stream",
     "text": [
      "MyModuleError 2.5\n"
     ]
    }
   ],
   "source": [
    "class MyModuleError(Exception):\n",
    "    pass\n",
    "\n",
    "class MyIOError(MyModuleError):\n",
    "    pass\n",
    "\n",
    "class MyFloatError(MyModuleError):\n",
    "    pass\n",
    "\n",
    "\n",
    "try:\n",
    "    raise MyFloatError(2.5)\n",
    "except MyModuleError as e:  # Перехватывает все ошибки которые определены в дочерних классах иерархии исключений\n",
    "    print('MyModuleError', e)"
   ]
  },
  {
   "cell_type": "markdown",
   "metadata": {},
   "source": [
    "Подходы к обработке ошибок:\n",
    "\n",
    "* **LBYL** - Look Before You Leap:"
   ]
  },
  {
   "cell_type": "code",
   "execution_count": 33,
   "metadata": {},
   "outputs": [],
   "source": [
    "def get_third_LBYL(l):\n",
    "    if len(l) > 3:  # Проверяем, если количество элементов в списке больше 3-х, то отдаем третий элемент\n",
    "        return l[2]\n",
    "    else:\n",
    "        return None"
   ]
  },
  {
   "cell_type": "markdown",
   "metadata": {},
   "source": [
    "* **EAFP** - Easier to Ask for Forgiveness than Permission"
   ]
  },
  {
   "cell_type": "code",
   "execution_count": 34,
   "metadata": {},
   "outputs": [],
   "source": [
    "def get_third_EAFP(l):\n",
    "    try:  # Здесь мы не проверяем оператором if, а отлавливаем исключение и возвращаем из функции значение None\n",
    "        return l[2]\n",
    "    except IndexError:\n",
    "        return None"
   ]
  },
  {
   "cell_type": "markdown",
   "metadata": {},
   "source": [
    "## Форматирование строк\n",
    "\n",
    "https://docs.python.org/3/library/string.html"
   ]
  },
  {
   "cell_type": "code",
   "execution_count": 35,
   "metadata": {},
   "outputs": [
    {
     "name": "stdout",
     "output_type": "stream",
     "text": [
      "index=100\n"
     ]
    }
   ],
   "source": [
    "s = '{0}={1}'.format('index', 100)\n",
    "\n",
    "print(s)"
   ]
  },
  {
   "cell_type": "markdown",
   "metadata": {},
   "source": [
    "Можно передавать аргументы не только по номерам, но и по ключам:"
   ]
  },
  {
   "cell_type": "code",
   "execution_count": 36,
   "metadata": {},
   "outputs": [
    {
     "name": "stdout",
     "output_type": "stream",
     "text": [
      "index=100\n"
     ]
    }
   ],
   "source": [
    "s = '{key}={value}'.format(key='index', value=100)\n",
    "\n",
    "print(s)"
   ]
  },
  {
   "cell_type": "markdown",
   "metadata": {},
   "source": [
    "Можно вообще не указывать индексы:"
   ]
  },
  {
   "cell_type": "code",
   "execution_count": 37,
   "metadata": {},
   "outputs": [
    {
     "name": "stdout",
     "output_type": "stream",
     "text": [
      "x=1 and y=2\n"
     ]
    }
   ],
   "source": [
    "s = 'x={} and y={}'.format(1, 2)\n",
    "\n",
    "print(s)"
   ]
  },
  {
   "cell_type": "code",
   "execution_count": 38,
   "metadata": {},
   "outputs": [
    {
     "name": "stdout",
     "output_type": "stream",
     "text": [
      "x=1.000 and y=2.000000e+03\n"
     ]
    }
   ],
   "source": [
    "s = 'x={:.3f} and y={:e}'.format(1, 2e3)\n",
    "\n",
    "print(s)"
   ]
  },
  {
   "cell_type": "markdown",
   "metadata": {},
   "source": [
    "Опции выравнивания: align: “<” | “>” | “=” | “^”"
   ]
  },
  {
   "cell_type": "code",
   "execution_count": 39,
   "metadata": {},
   "outputs": [
    {
     "name": "stdout",
     "output_type": "stream",
     "text": [
      "|align left          |\n"
     ]
    }
   ],
   "source": [
    "s = '|{:<20}|'.format('align left')\n",
    "\n",
    "print(s)"
   ]
  },
  {
   "cell_type": "code",
   "execution_count": 40,
   "metadata": {},
   "outputs": [
    {
     "name": "stdout",
     "output_type": "stream",
     "text": [
      "|         align right|\n"
     ]
    }
   ],
   "source": [
    "s = '|{:>20}|'.format('align right')\n",
    "\n",
    "print(s)"
   ]
  },
  {
   "cell_type": "code",
   "execution_count": 41,
   "metadata": {},
   "outputs": [
    {
     "name": "stdout",
     "output_type": "stream",
     "text": [
      "******centered******\n"
     ]
    }
   ],
   "source": [
    "s = '{:*^20}'.format('centered')\n",
    "\n",
    "print(s)"
   ]
  },
  {
   "cell_type": "markdown",
   "metadata": {},
   "source": [
    "Групповые опции: grouping option: “_” | “,”"
   ]
  },
  {
   "cell_type": "code",
   "execution_count": 42,
   "metadata": {},
   "outputs": [
    {
     "name": "stdout",
     "output_type": "stream",
     "text": [
      "1,234,567,890\n"
     ]
    }
   ],
   "source": [
    "s = '{:,}'.format(1234567890)\n",
    "\n",
    "print(s)"
   ]
  }
 ],
 "metadata": {
  "kernelspec": {
   "display_name": "Python 3",
   "language": "python",
   "name": "python3"
  },
  "language_info": {
   "codemirror_mode": {
    "name": "ipython",
    "version": 3
   },
   "file_extension": ".py",
   "mimetype": "text/x-python",
   "name": "python",
   "nbconvert_exporter": "python",
   "pygments_lexer": "ipython3",
   "version": "3.6.3"
  },
  "toc": {
   "nav_menu": {
    "height": "158px",
    "width": "331px"
   },
   "number_sections": true,
   "sideBar": false,
   "skip_h1_title": true,
   "title_cell": "Table of Contents",
   "title_sidebar": "Contents",
   "toc_cell": false,
   "toc_position": {},
   "toc_section_display": true,
   "toc_window_display": false
  }
 },
 "nbformat": 4,
 "nbformat_minor": 2
}
