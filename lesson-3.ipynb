{
 "cells": [
  {
   "cell_type": "markdown",
   "metadata": {},
   "source": [
    "# Объекто-ориентированное программирование в Python\n",
    "\n",
    "Алексей Умнов https://www.youtube.com/watch?v=4RxAbBqqsqE  \n",
    "Слайды доступны по адресу: http://parallels.nsu.ru/~fat/Python/\n",
    "        \n",
    "Класс - тип данных, предоставляющий модель какой-то сущности.  \n",
    "Объект - конкретная реализация какого-то класса (экземпляр класса)  \n",
    "Класс int - тип данных, моделирующий целые числа. 1, 2, 15 и т.д. это объекты этого класса.\n"
   ]
  },
  {
   "cell_type": "markdown",
   "metadata": {},
   "source": [
    "## Минимальный класс в Python"
   ]
  },
  {
   "cell_type": "code",
   "execution_count": 1,
   "metadata": {},
   "outputs": [
    {
     "name": "stdout",
     "output_type": "stream",
     "text": [
      "<__main__.Empty object at 0x7efdd85724a8>\n"
     ]
    }
   ],
   "source": [
    "class Empty:\n",
    "    pass    # pass - ключевое слово для обозначения пустых блоков\n",
    "\n",
    "# Создание экземпляра класса:\n",
    "x = Empty()\n",
    "\n",
    "print(x) # Выведет краткое описание объекта класса"
   ]
  },
  {
   "cell_type": "markdown",
   "metadata": {},
   "source": [
    "## Методы класса\n",
    "\n",
    "Ниже реализация класса `Greeter` с методом `greet`. У методов всегда должен быть аргумент который называется `self`. Через этот аргумент передается экземпляр класса у которого этот метод вызывается:"
   ]
  },
  {
   "cell_type": "code",
   "execution_count": 2,
   "metadata": {},
   "outputs": [
    {
     "name": "stdout",
     "output_type": "stream",
     "text": [
      "<class '__main__.Greeter'>\n",
      "hi!\n"
     ]
    }
   ],
   "source": [
    "class Greeter():\n",
    "    \n",
    "    # У методов всегда должен быть аргумент self:\n",
    "    def greet(self):\n",
    "        print('hi!')\n",
    "\n",
    "\n",
    "print(Greeter)\n",
    "\n",
    "# Создадим экземпляр класса Greeter и вызовем метод greet()\n",
    "x = Greeter()\n",
    "x.greet()"
   ]
  },
  {
   "cell_type": "markdown",
   "metadata": {},
   "source": [
    "## Инициализация и атрибуты объектов"
   ]
  },
  {
   "cell_type": "code",
   "execution_count": 3,
   "metadata": {},
   "outputs": [
    {
     "name": "stdout",
     "output_type": "stream",
     "text": [
      "<class '__main__.NamedGreeter'>\n",
      "hi, my name is Guido\n"
     ]
    }
   ],
   "source": [
    "class NamedGreeter():\n",
    "\n",
    "    # Метод __init__ вызывается при инициализации экземпляра класса, тогда как конструктор это метод __new__\n",
    "    def __init__(self, name):\n",
    "        self.name = name      # Динамически создается атрибут 'name' экземпляра класса, тогда как в других языках,\n",
    "                              # например в PHP, атрибут должен быть сначала инициализирован в классе.\n",
    "    def greet(self):\n",
    "        print('hi, my name is', self.name)\n",
    "\n",
    "\n",
    "print(NamedGreeter)       # <class '__main__.NamedGreeter'>\n",
    "x = NamedGreeter('Guido') # Создаем экземпляр класса NamedGreeter и передаем в инициализатор параметр 'name'\n",
    "x.greet()                 # Выведет надпись: hi, my name is Guido"
   ]
  },
  {
   "cell_type": "markdown",
   "metadata": {},
   "source": [
    "## Создание атрибутов"
   ]
  },
  {
   "cell_type": "code",
   "execution_count": 4,
   "metadata": {},
   "outputs": [
    {
     "name": "stdout",
     "output_type": "stream",
     "text": [
      "hi, my name is Tom\n"
     ]
    }
   ],
   "source": [
    "class CreateveGreeter():\n",
    "\n",
    "    # Метод __init__ по умолчанию с пустой (с родительской) реализацией\n",
    "\n",
    "    def invent_name(self):\n",
    "        self.name = 'Tom' # В любом из методов можно создать атрибут экземпляра класса\n",
    "\n",
    "    def greet(self):\n",
    "        print('hi, my name is', self.name)\n",
    "\n",
    "\n",
    "x = CreateveGreeter()\n",
    "\n",
    "# Если вызвать метод сейчас, то получим ошибку, так как атрибута 'name' еще не существует:\n",
    "# x.greet() # AttributeError: 'CreateveGreeter' object has no attribute 'name'\n",
    "\n",
    "# Создаем атрибут экземпляра класса в методе invent_name:\n",
    "x.invent_name()\n",
    "x.greet()"
   ]
  },
  {
   "cell_type": "markdown",
   "metadata": {},
   "source": [
    "## Атрибуты классов"
   ]
  },
  {
   "cell_type": "code",
   "execution_count": 6,
   "metadata": {},
   "outputs": [
    {
     "name": "stdout",
     "output_type": "stream",
     "text": [
      "hi, my name is\n",
      "hi, my name is\n",
      "('hi, my name is', 'Guido')\n",
      "hi, my name is Guido\n"
     ]
    }
   ],
   "source": [
    "class NamedGreeter2():\n",
    "\n",
    "    def __init__(self, name): # Метод __init__ вызывается при инициализации экземпляра класса\n",
    "        self.name = name      # Динамически создается атрибут 'name' экземпляра класса\n",
    "\n",
    "    # Это атрибут класса. Это не атрибут экземпляра класса!\n",
    "    # То есть, этот атрибут будет доступен для всех экземпляров класса:\n",
    "    PREFIX = 'hi, my name is'\n",
    "\n",
    "    def greet(self):\n",
    "        return self.PREFIX, self.name # Возвращаемые объекты упаковываются в tuple() автоматически\n",
    "\n",
    "\n",
    "print(NamedGreeter2.PREFIX) # hi, my name is\n",
    "\n",
    "x = NamedGreeter2('Guido')  # Создаем экземпляр класса\n",
    "\n",
    "print(x.PREFIX)             # hi, my name is\n",
    "print(x.greet())            # ('hi, my name is', 'Guido')\n",
    "print(' '.join(x.greet()))  # hi, my name is Guido"
   ]
  },
  {
   "cell_type": "markdown",
   "metadata": {},
   "source": [
    "## Всё является объектом"
   ]
  },
  {
   "cell_type": "code",
   "execution_count": 8,
   "metadata": {},
   "outputs": [
    {
     "name": "stdout",
     "output_type": "stream",
     "text": [
      "<class 'int'>\n",
      "3\n"
     ]
    }
   ],
   "source": [
    "x = int       # Создается экземпляр класса int\n",
    "print(x)      # <class 'int'>\n",
    "print(x(3.5)) # Инициализируется число в экземпляре класса int. Выведет: 3"
   ]
  },
  {
   "cell_type": "markdown",
   "metadata": {},
   "source": [
    "Можно делать странные штуки:"
   ]
  },
  {
   "cell_type": "code",
   "execution_count": 9,
   "metadata": {},
   "outputs": [
    {
     "name": "stdout",
     "output_type": "stream",
     "text": [
      "{<class 'int'>: 'test', <class 'str'>: 1}\n"
     ]
    }
   ],
   "source": [
    "d = {}\n",
    "d[int] = 'test' # Классы могут быть ключами в словаре\n",
    "d[str] = 1\n",
    "\n",
    "print(d)"
   ]
  },
  {
   "cell_type": "markdown",
   "metadata": {},
   "source": [
    "В словарь можно положить функции определенные разными способами, так как функция это объект:"
   ]
  },
  {
   "cell_type": "code",
   "execution_count": 10,
   "metadata": {},
   "outputs": [
    {
     "name": "stdout",
     "output_type": "stream",
     "text": [
      "[<function f at 0x7efdd855ac80>, <built-in function len>, <function <lambda> at 0x7efdd851e048>]\n"
     ]
    }
   ],
   "source": [
    "def f():\n",
    "    pass\n",
    "\n",
    "l = [f, len, lambda x: x + 1] # [ Объявленная функция, встроенная функция, lambda-функция ]\n",
    "\n",
    "print(l)"
   ]
  },
  {
   "cell_type": "markdown",
   "metadata": {},
   "source": [
    "Экземпляры встроенных типов.  \n",
    "\n",
    "`1` - это экземпляр класса `int`. То есть, из класса `int`, который в свою очередь является экземпляром класса `type` создан экземпляр класса `1`:"
   ]
  },
  {
   "cell_type": "code",
   "execution_count": 14,
   "metadata": {},
   "outputs": [
    {
     "data": {
      "text/plain": [
       "int"
      ]
     },
     "execution_count": 14,
     "metadata": {},
     "output_type": "execute_result"
    }
   ],
   "source": [
    "type(1)"
   ]
  },
  {
   "cell_type": "markdown",
   "metadata": {},
   "source": [
    "`int` - это экземпляр класса `type`. Из класса `type` создан экземпляр класса `int`:"
   ]
  },
  {
   "cell_type": "code",
   "execution_count": 15,
   "metadata": {},
   "outputs": [
    {
     "data": {
      "text/plain": [
       "type"
      ]
     },
     "execution_count": 15,
     "metadata": {},
     "output_type": "execute_result"
    }
   ],
   "source": [
    "type(int)"
   ]
  },
  {
   "cell_type": "markdown",
   "metadata": {},
   "source": [
    "`type` - это экземпляр класса `type`:"
   ]
  },
  {
   "cell_type": "code",
   "execution_count": 16,
   "metadata": {},
   "outputs": [
    {
     "data": {
      "text/plain": [
       "type"
      ]
     },
     "execution_count": 16,
     "metadata": {},
     "output_type": "execute_result"
    }
   ],
   "source": [
    "type(type)"
   ]
  },
  {
   "cell_type": "markdown",
   "metadata": {},
   "source": [
    "## Атрибуты. Функции и методы класса\n",
    "\n",
    "**Функция** - это объект, который можно вызвать, использую круглые скобки.  \n",
    "**Метод** - это атрибут-функция, которая принимает экземпляр класса в качестве первого аргумента.\n",
    "\n",
    "Атрибут класса можно определять снаружи класса. Это не очень удобно, но это просто для понимания того, как они устроены. Одинаковый метод можно определить в разных классах, если по каким-то причинам не хочется использовать наследование:"
   ]
  },
  {
   "cell_type": "code",
   "execution_count": 17,
   "metadata": {},
   "outputs": [
    {
     "name": "stdout",
     "output_type": "stream",
     "text": [
      "1\n"
     ]
    }
   ],
   "source": [
    "def method(self):\n",
    "    self.x = 1\n",
    "\n",
    "class MyClass():\n",
    "    # Атрибут класса 'f' равен внешней функции 'method', которая определена снаружи класса 'MyClass'.\n",
    "    # Эта запись мысленно выглядит как 'def f(self):', f можно вызывать как метод класса:\n",
    "    f = method\n",
    "\n",
    "c = MyClass()\n",
    "\n",
    "# Вызовет ошибку так как атрибут 'x' объекта класса еще не создан внешним методом:\n",
    "# c.x         # AttributeError: 'MyClass' object has no attribute 'x'\n",
    "\n",
    "# Вызываем атрибут-метод f(self) который создает атрибут 'x' объекта 'c' класса 'MyClass':\n",
    "c.f()\n",
    "print(c.x)"
   ]
  },
  {
   "cell_type": "markdown",
   "metadata": {},
   "source": [
    "## Доступ к атрибутам"
   ]
  },
  {
   "cell_type": "code",
   "execution_count": 21,
   "metadata": {},
   "outputs": [
    {
     "name": "stdout",
     "output_type": "stream",
     "text": [
      "hi, my name is Guido\n"
     ]
    }
   ],
   "source": [
    "class NamedGreeter():\n",
    "\n",
    "    def __init__(self, name): # Метод __init__ вызывается при инициализации экземпляра класса\n",
    "        self.name = name      # Динамически создается атрибут 'name' экземпляра класса\n",
    "\n",
    "    def greet(self):\n",
    "        print('hi, my name is', self.name)\n",
    "\n",
    "\n",
    "x = NamedGreeter('Guido')\n",
    "x.greet()"
   ]
  },
  {
   "cell_type": "markdown",
   "metadata": {},
   "source": [
    "Атрибуты объекта класса можно изменять:"
   ]
  },
  {
   "cell_type": "code",
   "execution_count": 22,
   "metadata": {},
   "outputs": [
    {
     "name": "stdout",
     "output_type": "stream",
     "text": [
      "hi, my name is Tom\n"
     ]
    }
   ],
   "source": [
    "x.name = 'Tom'\n",
    "x.greet()"
   ]
  },
  {
   "cell_type": "markdown",
   "metadata": {},
   "source": [
    "Не только можно изменять атрибуты объекта класса, но можно их создавать:"
   ]
  },
  {
   "cell_type": "code",
   "execution_count": 23,
   "metadata": {},
   "outputs": [
    {
     "name": "stdout",
     "output_type": "stream",
     "text": [
      "1\n"
     ]
    }
   ],
   "source": [
    "x.smth = 1    # Создаем новый атрибут экземпляра класса\n",
    "print(x.smth)"
   ]
  },
  {
   "cell_type": "markdown",
   "metadata": {},
   "source": [
    "Изменение атрибутов из вне:\n",
    "\n",
    "* Преимущества\n",
    "  * Легче отлаживать и проверять код. Больше возможностей у IDE\n",
    "  * Легче писать группы классов, связанных друг с другом\n",
    "  * Изменение атрибутов можно \"перехватывать\"\n",
    "* Отсутствие \"защиты от дурака\":\n",
    "  * Всегда можно всё сломать, если есть желание\n",
    "  * Неявная типизация <-> документация. Необходимость смотреть в документацию и узнавать оттуда, что за тип представляет атрибут или аргумент функции/метода"
   ]
  },
  {
   "cell_type": "markdown",
   "metadata": {},
   "source": [
    "## \"Защищенные\" атрибуты\n",
    "\n",
    "Атрибут только для использования внутри класса.\n",
    "\n",
    "В классе ниже используется атрибут `_name` объекта класса с нижним подчеркиванием, которое демонстрирует, что его не желательно менять снаружи. Атрибут все равно можно использовать, но название предупреждает, что это запрещено (не желательно) делать. Это не какой-то механизм защиты, это просто распространненая нотация которая позволяет предупредить об этом:"
   ]
  },
  {
   "cell_type": "code",
   "execution_count": 24,
   "metadata": {},
   "outputs": [],
   "source": [
    "class SecureGreeter():\n",
    "\n",
    "    def __init__(self, name):\n",
    "        # Атрибут с нижним подчеркиванием:\n",
    "        self._name = name\n",
    "\n",
    "    def greet(self):\n",
    "        print('hi, my name is', self._name)\n"
   ]
  },
  {
   "cell_type": "markdown",
   "metadata": {},
   "source": [
    "Преимущества:\n",
    "* Легче отлаживать и проверять код. Больше возможностей у IDE\n",
    "* Легче писать группы классов, связанных друг с другом\n",
    "* Изменение атрибутов можно 'перехватывать'\n",
    "\n",
    "Отсутствие \"защиты от дурака\":\n",
    "* Всегда можно всё сломать, если есть желание\n",
    "* Неявная типизация <-> документация. Необходимость смотреть в документацию и узнавать оттуда, что за тип представляет атрибут или аргумент функции/метода\n",
    "* Многие IDE предупреждают в случае использования"
   ]
  },
  {
   "cell_type": "markdown",
   "metadata": {},
   "source": [
    "## Переопределение операторов\n",
    "\n",
    "Имена вида `__*__` переопределяют операторы.  \n",
    "Например, `__init__` это функция, которая переопределяет инициализацию объекта."
   ]
  },
  {
   "cell_type": "code",
   "execution_count": 25,
   "metadata": {},
   "outputs": [],
   "source": [
    "class Vector2D():\n",
    "\n",
    "    def __init__(self, x, y):\n",
    "        self.x = x\n",
    "        self.y = y\n",
    "\n",
    "    # Переопределяется оператор сложения '+'\n",
    "    def __add__(self, another):\n",
    "        return Vector2D(self.x + another.x, self.y + another.y) # Возвращает новый экземпляр класса Vector2D\n",
    "\n",
    "    # Переопределяется оператор умножения '*' (multiplay)\n",
    "    def __mul__(self, scalar):\n",
    "        return Vector2D(self.x * scalar, self.y * scalar) # Возвращает новый экземпляр класса Vector2D\n",
    "\n",
    "    # Переопределяется оператор \"строковое представление объекта\"\n",
    "    def __str__(self):\n",
    "        return 'x=' + str(self.x) + '; y=' + str(self.y)"
   ]
  },
  {
   "cell_type": "markdown",
   "metadata": {},
   "source": [
    "Другие арифметические операторы которые можно переопределить:\n",
    "\n",
    "\n",
    "* `__sub__` - Деление\n",
    "* `__div__` - Вычитание\n",
    "* `__eq__`  - Сравнение на равенство\n",
    "* `__neq__` - Сравнение на неравенство\n",
    "\n",
    "Другие операторы:\n",
    "\n",
    "* `__len__ ` - Длина объекта. Функция len() пользуется этим методом\n",
    "* `__str__ ` - Строковое представление объекта. Аналог toString() в Java. Функция str() пользуется этим методом\n",
    "* `__call__` - Оператор \"Круглые скобки\". Может принимать любые аргументы. Эта возможность позволяет превратить любой объект в функцию\n",
    "\n",
    "Полный список операторов которые можно переопределять вы найдете в документации Python."
   ]
  },
  {
   "cell_type": "code",
   "execution_count": 28,
   "metadata": {},
   "outputs": [
    {
     "name": "stdout",
     "output_type": "stream",
     "text": [
      "x=2; y=4\n"
     ]
    }
   ],
   "source": [
    "x = Vector2D(1, 2)\n",
    "\n",
    "y = x * 2           # Эта запись аналогична y = x.__mul__(2)\n",
    "\n",
    "print(y)            # Неявно вызывается метод __str__()"
   ]
  },
  {
   "cell_type": "code",
   "execution_count": 29,
   "metadata": {},
   "outputs": [
    {
     "name": "stdout",
     "output_type": "stream",
     "text": [
      "x=3; y=6\n"
     ]
    }
   ],
   "source": [
    "x1 = Vector2D(1, 2)\n",
    "x2 = Vector2D(2, 4)\n",
    "\n",
    "y = x1 + x2         # Эта запись аналогична y = x1.__add__(x2)\n",
    "\n",
    "print(y)            # Неявно вызывается метод __str__()"
   ]
  },
  {
   "cell_type": "markdown",
   "metadata": {},
   "source": [
    "Эта запись вызовет исключение, так как метод `__sub__` в классе не реализован и неизвестно как вычитать эти объекты:"
   ]
  },
  {
   "cell_type": "code",
   "execution_count": 30,
   "metadata": {},
   "outputs": [
    {
     "ename": "TypeError",
     "evalue": "unsupported operand type(s) for -: 'Vector2D' and 'Vector2D'",
     "output_type": "error",
     "traceback": [
      "\u001b[0;31m---------------------------------------------------------------------------\u001b[0m",
      "\u001b[0;31mTypeError\u001b[0m                                 Traceback (most recent call last)",
      "\u001b[0;32m<ipython-input-30-d27ec7f795e4>\u001b[0m in \u001b[0;36m<module>\u001b[0;34m()\u001b[0m\n\u001b[0;32m----> 1\u001b[0;31m \u001b[0my\u001b[0m \u001b[0;34m=\u001b[0m \u001b[0mx1\u001b[0m \u001b[0;34m-\u001b[0m \u001b[0mx2\u001b[0m\u001b[0;34m\u001b[0m\u001b[0m\n\u001b[0m",
      "\u001b[0;31mTypeError\u001b[0m: unsupported operand type(s) for -: 'Vector2D' and 'Vector2D'"
     ]
    }
   ],
   "source": [
    "y = x1 - x2"
   ]
  },
  {
   "cell_type": "markdown",
   "metadata": {},
   "source": [
    "## Оператор [] (квадратные скобки)"
   ]
  },
  {
   "cell_type": "code",
   "execution_count": 32,
   "metadata": {},
   "outputs": [
    {
     "name": "stdout",
     "output_type": "stream",
     "text": [
      "Get 0\n",
      "Set 0 1\n",
      "Set abc 1\n"
     ]
    }
   ],
   "source": [
    "class Vector2D():\n",
    "\n",
    "    def __init__(self, x, y):\n",
    "        self.x = x\n",
    "        self.y = y\n",
    "\n",
    "    # self  - Текущий экземпляр класса\n",
    "    # index - Значение указанное в квадратных скобках\n",
    "    def __getitem__(self, index):\n",
    "        print('Get', index)\n",
    "\n",
    "    # self  - Текущий экземпляр класса\n",
    "    # index - Значение указанное в квадратных скобках\n",
    "    # value - Значение указанное справа от знака равно\n",
    "    def __setitem__(self, index, value):\n",
    "        print('Set', index, value)\n",
    "\n",
    "\n",
    "v = Vector2D(1, 2)\n",
    "\n",
    "v[0]          # Аналогично вызову метода v.__getitem__(0)\n",
    "v[0] = 1      # Аналогично вызову метода v.__setitem__(0, 1)\n",
    "v['abc'] = 1  # Аналогично вызову метода v.__setitem__('abc', 1)"
   ]
  },
  {
   "cell_type": "markdown",
   "metadata": {},
   "source": [
    "Таким же образом можно применять (реализовывать) срезы (slices) в классах !!!"
   ]
  },
  {
   "cell_type": "code",
   "execution_count": 33,
   "metadata": {},
   "outputs": [
    {
     "name": "stdout",
     "output_type": "stream",
     "text": [
      "x = 10\n",
      "y = 20\n",
      "z = None\n"
     ]
    }
   ],
   "source": [
    "class Vector2D():\n",
    "\n",
    "    def __init__(self, x, y):\n",
    "        self.x = x\n",
    "        self.y = y\n",
    "\n",
    "    # Если функция или метод ничего не возвращают, как этом в примере, когда index не будет равен 'x' или 'y',\n",
    "    # или будет передан другой тип данных, то Python вернет специальный объект 'None'\n",
    "    def __getitem__(self, index):\n",
    "        if index == 'x':\n",
    "            return self.x\n",
    "        elif index == 'y':\n",
    "            return self.y\n",
    "\n",
    "    # Если функция или метод ничего не возвращают, как в этом примере, когда index не будет равен 'x' или 'y',\n",
    "    # или будет передан другой тип данных, то Python вернет специальный объект 'None'\n",
    "    def __setitem__(self, index, value):\n",
    "        if index == 'x':\n",
    "            self.x = value\n",
    "        elif index == 'y':\n",
    "            self.y = value\n",
    "\n",
    "v = Vector2D(10, 10)\n",
    "\n",
    "print('x =', v['x'])   # Аналогично вызову метода v.__getitem__('x')\n",
    "v['y'] = 20            # Аналогично вызову метода v.__setitem__('y', 20)\n",
    "print('y =', v['y'])   # Аналогично вызову метода v.__getitem__('y')\n",
    "print('z =', v['z'])   # Возвращает 'None'"
   ]
  },
  {
   "cell_type": "markdown",
   "metadata": {},
   "source": [
    "## Использование ООП в Python\n",
    "\n",
    "Классы на разных языках:\n",
    "\n",
    "\n",
    "<table style=\"display: inline-block;\">\n",
    "    <thead>\n",
    "        <tr>\n",
    "            <th>Утка на C++</th>\n",
    "            <th>Утка на Python</th>\n",
    "        </tr>\n",
    "    </thead>\n",
    "    <tbody>\n",
    "    <tr>\n",
    "        <td>Клюв</td>\n",
    "        <td>Крякает</td>\n",
    "    </tr>\n",
    "    <tr>\n",
    "        <td>Перья</td>\n",
    "        <td>Летает</td>\n",
    "    </tr>\n",
    "    <tr>\n",
    "        <td>Лапы</td>\n",
    "        <td>Плавает</td>\n",
    "    </tr>\n",
    "    </tbody>\n",
    " </table>\n",
    "\n",
    "Когда нужно использовать классы, а когда - функции?\n",
    "\n",
    "Функции:\n",
    "* Действия (глаголы)\n",
    "* Абстрагирование от внутреннего устройства действий\n",
    "\n",
    "Калассы:\n",
    "* Объекты (существительные)\n",
    "* Объединение данных и выполнение операций над ними \"в одном месте\"\n",
    "* Абстрагирование от внутреннего устройства данных и операций над ними"
   ]
  },
  {
   "cell_type": "markdown",
   "metadata": {},
   "source": [
    "## Неявная типизация\n",
    "\n",
    "Пример неявной типизации аргумента `function`:"
   ]
  },
  {
   "cell_type": "code",
   "execution_count": 34,
   "metadata": {},
   "outputs": [
    {
     "name": "stdout",
     "output_type": "stream",
     "text": [
      "0\n",
      "1\n",
      "2\n",
      "3\n",
      "4\n"
     ]
    }
   ],
   "source": [
    "def count_and_call(function, n):\n",
    "    for i in range(n):\n",
    "        # Неважно какой объект был передан в функцию, главное, чтобы он вел себя как функция\n",
    "        # (см. переопределение оператора круглых скобок магическим методом __call__)\n",
    "        function(i)\n",
    "\n",
    "def printer(x):\n",
    "    print(x)\n",
    "\n",
    "# Передаем функцию printer() в качестве первого аргумента:\n",
    "count_and_call(printer, 5)"
   ]
  },
  {
   "cell_type": "markdown",
   "metadata": {},
   "source": [
    "Еще пример с неявной типизацией:"
   ]
  },
  {
   "cell_type": "code",
   "execution_count": 35,
   "metadata": {},
   "outputs": [
    {
     "name": "stdout",
     "output_type": "stream",
     "text": [
      "[0, 1, 2, 3, 4]\n"
     ]
    }
   ],
   "source": [
    "x = []\n",
    "\n",
    "# Передаем функцию append. Так же, в принципе, могли бы передать любой объект:\n",
    "count_and_call(x.append, 5)\n",
    "\n",
    "print(x)"
   ]
  },
  {
   "cell_type": "markdown",
   "metadata": {},
   "source": [
    "Еще один пример с неявной типизацией. Заранее неизвестен тип передаваемый в функцию:"
   ]
  },
  {
   "cell_type": "code",
   "execution_count": 36,
   "metadata": {},
   "outputs": [
    {
     "name": "stdout",
     "output_type": "stream",
     "text": [
      "3\n",
      "ab\n",
      "[1, 2, 3]\n"
     ]
    }
   ],
   "source": [
    "def add(a, b):\n",
    "    # Возможно складывать тип int, str, list, а также любые другие объекты\n",
    "    # в которых реализован метод сложения (__mul__):\n",
    "    return a + b\n",
    "\n",
    "# Передан тип int, возвращается число 3:\n",
    "print(add(1, 2))\n",
    "\n",
    "# Передан тип str, возвращается строка 'ab':\n",
    "print(add('a', 'b'))\n",
    "\n",
    "# Передан тип list, возвращается список [1, 2, 3]:\n",
    "print(add([1, 2], [3]))"
   ]
  },
  {
   "cell_type": "markdown",
   "metadata": {},
   "source": [
    "## Разные способы проектирования\n",
    "\n",
    "Мы можем создать кукую-то библиотеку функций, например такую:"
   ]
  },
  {
   "cell_type": "code",
   "execution_count": 37,
   "metadata": {},
   "outputs": [],
   "source": [
    "def gamma(x):\n",
    "    pass\n",
    "\n",
    "def beta(x, y):\n",
    "    pass\n",
    "\n",
    "def log(x, base=2):\n",
    "    pass"
   ]
  },
  {
   "cell_type": "markdown",
   "metadata": {},
   "source": [
    "Затем её импортировать c помощью оператора `import` и использовать:"
   ]
  },
  {
   "cell_type": "code",
   "execution_count": 38,
   "metadata": {},
   "outputs": [],
   "source": [
    "gamma(3.5)"
   ]
  },
  {
   "cell_type": "markdown",
   "metadata": {},
   "source": [
    "А можем создать библиотеку функций класса:"
   ]
  },
  {
   "cell_type": "code",
   "execution_count": 40,
   "metadata": {},
   "outputs": [],
   "source": [
    "class MathFunction:\n",
    "    \n",
    "    def gamma(self, x):\n",
    "        pass\n",
    "    \n",
    "    def beta(self, x, y):\n",
    "        pass\n",
    "    \n",
    "    def log(self, x, base=2):\n",
    "        pass"
   ]
  },
  {
   "cell_type": "markdown",
   "metadata": {},
   "source": [
    "и далее использовать:"
   ]
  },
  {
   "cell_type": "code",
   "execution_count": 41,
   "metadata": {},
   "outputs": [],
   "source": [
    "math = MathFunction()\n",
    "math.gamma(3.5)"
   ]
  },
  {
   "cell_type": "markdown",
   "metadata": {},
   "source": [
    "## Особенности для Python\n",
    "\n",
    "* Очень мощные типы данных `list` и `dict`. Возможность класть всё что угодно, в любом порядке, любой вложенности. За счет этого, любые структуры данных можно в них хранить.\n",
    "* Просто == хорошо\n",
    "* \"Утиная\" типизация. Не забываем, что у нас объекты являются тем, что они делают. Это значит что классы в первую очередь должны появляться не тогда, когда у нас данные группируются, а тогда когда у них появляется какие-то действия. Т.е., данные храним в списках, словарях и т.д., а как только решаем ввести действия над ними, то тогда создаем класс который может \"действовать\" с переданными в него этими данными. Хороший пример выше под заголовком \"Неявная типизация\"."
   ]
  },
  {
   "cell_type": "markdown",
   "metadata": {},
   "source": [
    "## Документирование кода\n",
    "\n",
    "Документирование в Python встроено прямо в язык.  \n",
    "У каждого объекта может быть атрибут `__doc__` в котором находится документация к этому объекту.\n",
    "\n",
    "Вызов документации по классу `int`:"
   ]
  },
  {
   "cell_type": "code",
   "execution_count": 43,
   "metadata": {},
   "outputs": [
    {
     "name": "stdout",
     "output_type": "stream",
     "text": [
      "int(x=0) -> integer\n",
      "int(x, base=10) -> integer\n",
      "\n",
      "Convert a number or string to an integer, or return 0 if no arguments\n",
      "are given.  If x is a number, return x.__int__().  For floating point\n",
      "numbers, this truncates towards zero.\n",
      "\n",
      "If x is not a number or if base is given, then x must be a string,\n",
      "bytes, or bytearray instance representing an integer literal in the\n",
      "given base.  The literal can be preceded by '+' or '-' and be surrounded\n",
      "by whitespace.  The base defaults to 10.  Valid bases are 0 and 2-36.\n",
      "Base 0 means to interpret the base from the string as an integer literal.\n",
      ">>> int('0b100', base=0)\n",
      "4\n"
     ]
    }
   ],
   "source": [
    "print(int.__doc__)"
   ]
  },
  {
   "cell_type": "markdown",
   "metadata": {},
   "source": [
    "Вызов документации по библиотеке `os`:"
   ]
  },
  {
   "cell_type": "code",
   "execution_count": 45,
   "metadata": {},
   "outputs": [
    {
     "name": "stdout",
     "output_type": "stream",
     "text": [
      "OS routines for NT or Posix depending on what system we're on.\n",
      "\n",
      "This exports:\n",
      "  - all functions from posix or nt, e.g. unlink, stat, etc.\n",
      "  - os.path is either posixpath or ntpath\n",
      "  - os.name is either 'posix' or 'nt'\n",
      "  - os.curdir is a string representing the current directory (always '.')\n",
      "  - os.pardir is a string representing the parent directory (always '..')\n",
      "  - os.sep is the (or a most common) pathname separator ('/' or '\\\\')\n",
      "  - os.extsep is the extension separator (always '.')\n",
      "  - os.altsep is the alternate pathname separator (None or '/')\n",
      "  - os.pathsep is the component separator used in $PATH etc\n",
      "  - os.linesep is the line separator in text files ('\\r' or '\\n' or '\\r\\n')\n",
      "  - os.defpath is the default search path for executables\n",
      "  - os.devnull is the file path of the null device ('/dev/null', etc.)\n",
      "\n",
      "Programs that import and use 'os' stand a better chance of being\n",
      "portable between different platforms.  Of course, they must then\n",
      "only use functions that are defined by all platforms (e.g., unlink\n",
      "and opendir), and leave all pathname manipulation to os.path\n",
      "(e.g., split and join).\n",
      "\n"
     ]
    }
   ],
   "source": [
    "import os\n",
    "\n",
    "print(os.__doc__)"
   ]
  },
  {
   "cell_type": "markdown",
   "metadata": {},
   "source": [
    "Создание докстрингов:"
   ]
  },
  {
   "cell_type": "code",
   "execution_count": 52,
   "metadata": {},
   "outputs": [
    {
     "name": "stdout",
     "output_type": "stream",
     "text": [
      "Some docstring\n"
     ]
    }
   ],
   "source": [
    "def f():\n",
    "    \"Some docstring\"\n",
    "\n",
    "print(f.__doc__)"
   ]
  },
  {
   "cell_type": "markdown",
   "metadata": {},
   "source": [
    "Многострочная документация оформляется в тройных кавчках. В первой строке написано короткое описание в повелительном наклонении, а потом прямым текстом идут какие нибудь комментарии которые к этому можно еще добавить:"
   ]
  },
  {
   "cell_type": "code",
   "execution_count": 53,
   "metadata": {},
   "outputs": [
    {
     "name": "stdout",
     "output_type": "stream",
     "text": [
      "Do staff.\n",
      "    This function does this and that.\n",
      "    \n"
     ]
    }
   ],
   "source": [
    "def f(x, y, z):\n",
    "    \"\"\"Do staff.\n",
    "    This function does this and that.\n",
    "    \"\"\"\n",
    "\n",
    "print(f.__doc__)"
   ]
  },
  {
   "cell_type": "markdown",
   "metadata": {},
   "source": [
    "Документация классов выглядит похожим образом:"
   ]
  },
  {
   "cell_type": "code",
   "execution_count": 54,
   "metadata": {},
   "outputs": [
    {
     "name": "stdout",
     "output_type": "stream",
     "text": [
      "Short class description.\n",
      "    This class works with this stuff and that stuff.\n",
      "    \n"
     ]
    }
   ],
   "source": [
    "class ClassA():\n",
    "    \"\"\"Short class description.\n",
    "    This class works with this stuff and that stuff.\n",
    "    \"\"\"\n",
    "\n",
    "print(ClassA.__doc__)"
   ]
  },
  {
   "cell_type": "markdown",
   "metadata": {},
   "source": [
    "Документация к модулю описывается также, текст располагается в самом начале файла, до импортов и чего-то еще, например:"
   ]
  },
  {
   "cell_type": "code",
   "execution_count": 56,
   "metadata": {},
   "outputs": [
    {
     "name": "stdout",
     "output_type": "stream",
     "text": [
      "Short module description.\n",
      "Some things can be done with this module.\n",
      "\n"
     ]
    }
   ],
   "source": [
    "\"\"\"Short module description.\n",
    "Some things can be done with this module.\n",
    "\"\"\"\n",
    "import sys\n",
    "\n",
    "print(__doc__)"
   ]
  },
  {
   "cell_type": "markdown",
   "metadata": {},
   "source": [
    "## Наследование в Python"
   ]
  },
  {
   "cell_type": "code",
   "execution_count": 57,
   "metadata": {},
   "outputs": [],
   "source": [
    "class Animal():    # Класс неявно наследуется от класса object (в Python 3.x)\n",
    "    pass\n",
    "\n",
    "class Dog(Animal): # Класс наследуется от класса Animal\n",
    "    pass\n",
    "\n",
    "class Cat(Animal): # Класс наследуется от класса Animal\n",
    "    pass\n",
    "\n",
    "bob = Cat()"
   ]
  },
  {
   "cell_type": "markdown",
   "metadata": {},
   "source": [
    "В Python можно проверить, является тот или иной объект какого-то класса:"
   ]
  },
  {
   "cell_type": "code",
   "execution_count": 58,
   "metadata": {},
   "outputs": [
    {
     "data": {
      "text/plain": [
       "True"
      ]
     },
     "execution_count": 58,
     "metadata": {},
     "output_type": "execute_result"
    }
   ],
   "source": [
    "isinstance(bob, Cat)"
   ]
  },
  {
   "cell_type": "code",
   "execution_count": 59,
   "metadata": {},
   "outputs": [
    {
     "data": {
      "text/plain": [
       "True"
      ]
     },
     "execution_count": 59,
     "metadata": {},
     "output_type": "execute_result"
    }
   ],
   "source": [
    "isinstance(bob, Animal)"
   ]
  },
  {
   "cell_type": "code",
   "execution_count": 60,
   "metadata": {},
   "outputs": [
    {
     "data": {
      "text/plain": [
       "False"
      ]
     },
     "execution_count": 60,
     "metadata": {},
     "output_type": "execute_result"
    }
   ],
   "source": [
    "isinstance(bob, Dog)"
   ]
  },
  {
   "cell_type": "markdown",
   "metadata": {},
   "source": [
    "Универсальный класс `object`. От этого класса все стандартные классы неявно унаследованы в Python 3.x:"
   ]
  },
  {
   "cell_type": "code",
   "execution_count": 61,
   "metadata": {},
   "outputs": [
    {
     "data": {
      "text/plain": [
       "type"
      ]
     },
     "execution_count": 61,
     "metadata": {},
     "output_type": "execute_result"
    }
   ],
   "source": [
    "type(object)"
   ]
  },
  {
   "cell_type": "code",
   "execution_count": 62,
   "metadata": {},
   "outputs": [
    {
     "data": {
      "text/plain": [
       "True"
      ]
     },
     "execution_count": 62,
     "metadata": {},
     "output_type": "execute_result"
    }
   ],
   "source": [
    "isinstance(1, object)"
   ]
  },
  {
   "cell_type": "code",
   "execution_count": 63,
   "metadata": {},
   "outputs": [
    {
     "data": {
      "text/plain": [
       "True"
      ]
     },
     "execution_count": 63,
     "metadata": {},
     "output_type": "execute_result"
    }
   ],
   "source": [
    "isinstance(int, object)"
   ]
  },
  {
   "cell_type": "code",
   "execution_count": 64,
   "metadata": {},
   "outputs": [
    {
     "data": {
      "text/plain": [
       "True"
      ]
     },
     "execution_count": 64,
     "metadata": {},
     "output_type": "execute_result"
    }
   ],
   "source": [
    "isinstance(object, object)"
   ]
  },
  {
   "cell_type": "markdown",
   "metadata": {},
   "source": [
    "Наследование от универсального класса `object` в явном виде. В Python 3.x все объекты неявно наследуются от класса object. Можно явно его не писать:"
   ]
  },
  {
   "cell_type": "code",
   "execution_count": 66,
   "metadata": {},
   "outputs": [],
   "source": [
    "class ClassA(object):\n",
    "    pass"
   ]
  }
 ],
 "metadata": {
  "kernelspec": {
   "display_name": "Python 3",
   "language": "python",
   "name": "python3"
  },
  "language_info": {
   "codemirror_mode": {
    "name": "ipython",
    "version": 3
   },
   "file_extension": ".py",
   "mimetype": "text/x-python",
   "name": "python",
   "nbconvert_exporter": "python",
   "pygments_lexer": "ipython3",
   "version": "3.6.3"
  }
 },
 "nbformat": 4,
 "nbformat_minor": 2
}
