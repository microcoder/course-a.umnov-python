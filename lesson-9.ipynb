{
 "cells": [
  {
   "cell_type": "markdown",
   "metadata": {},
   "source": [
    "# Менеджеры контекстов. Переопределение оператора точка. Модификаторы доступа\n",
    "\n",
    "Алексей Умнов https://www.youtube.com/watch?v=0K8XzOqBMus  \n",
    "Слайды доступны по адресу: http://parallels.nsu.ru/~fat/Python/\n",
    "\n",
    "## Контекст с остановкой исключений"
   ]
  },
  {
   "cell_type": "code",
   "execution_count": 1,
   "metadata": {},
   "outputs": [],
   "source": [
    "class Context():\n",
    "\n",
    "    def __init__(self, stop_exception):\n",
    "        print('__init__({})'.format(stop_exception))\n",
    "        self.stop_exception = stop_exception\n",
    "\n",
    "    def __enter__(self):\n",
    "        print('__enter__()')\n",
    "        return 'Some data'\n",
    "\n",
    "    def __exit__(self, exc_type, exc_val, exc_tb):\n",
    "        print('__exit__({}, {}, {})'.format(exc_type, exc_val, exc_tb))\n",
    "        return self.stop_exception"
   ]
  },
  {
   "cell_type": "markdown",
   "metadata": {},
   "source": [
    "Например, в коде неожиданно возбуждается исключение... и оно отлавливается менеджером контекста в методе `__exit__`.  \n",
    "Так как метод `__exit__` в нашем случае возвращает `True`, то код `with ... as ...` завершится успешно и код за пределами `with` продолжит выполняться:"
   ]
  },
  {
   "cell_type": "code",
   "execution_count": 2,
   "metadata": {},
   "outputs": [
    {
     "name": "stdout",
     "output_type": "stream",
     "text": [
      "__init__(True)\n",
      "__enter__()\n",
      "Inside context, x = Some data\n",
      "__exit__(<class 'RuntimeError'>, Smth is wrong, <traceback object at 0x7f376e7291c8>)\n",
      "After context manager\n"
     ]
    }
   ],
   "source": [
    "with Context(True) as x:\n",
    "    print('Inside context, x =', x)\n",
    "    raise RuntimeError('Smth is wrong')\n",
    "    print('After exception') # не выведется\n",
    "\n",
    "print ('After context manager')"
   ]
  },
  {
   "cell_type": "markdown",
   "metadata": {},
   "source": [
    "Но если, метод `__exit__` вернет `False`, то код не пойдет дальше выброшенного исключения:"
   ]
  },
  {
   "cell_type": "code",
   "execution_count": 3,
   "metadata": {},
   "outputs": [
    {
     "name": "stdout",
     "output_type": "stream",
     "text": [
      "__init__(False)\n",
      "__enter__()\n",
      "Inside context, x = Some data\n",
      "__exit__(<class 'RuntimeError'>, Smth is wrong, <traceback object at 0x7f376e729f88>)\n"
     ]
    },
    {
     "ename": "RuntimeError",
     "evalue": "Smth is wrong",
     "output_type": "error",
     "traceback": [
      "\u001b[0;31m---------------------------------------------------------------------------\u001b[0m",
      "\u001b[0;31mRuntimeError\u001b[0m                              Traceback (most recent call last)",
      "\u001b[0;32m<ipython-input-3-d021de176a23>\u001b[0m in \u001b[0;36m<module>\u001b[0;34m()\u001b[0m\n\u001b[1;32m      2\u001b[0m    \u001b[0mprint\u001b[0m\u001b[0;34m(\u001b[0m\u001b[0;34m'Inside context, x ='\u001b[0m\u001b[0;34m,\u001b[0m \u001b[0mx\u001b[0m\u001b[0;34m)\u001b[0m\u001b[0;34m\u001b[0m\u001b[0m\n\u001b[1;32m      3\u001b[0m    \u001b[0;31m# Если в коде возбуждается исключение, то оно отлавливается менеджером контекста в методе __exit__\u001b[0m\u001b[0;34m\u001b[0m\u001b[0;34m\u001b[0m\u001b[0m\n\u001b[0;32m----> 4\u001b[0;31m    \u001b[0;32mraise\u001b[0m \u001b[0mRuntimeError\u001b[0m\u001b[0;34m(\u001b[0m\u001b[0;34m'Smth is wrong'\u001b[0m\u001b[0;34m)\u001b[0m\u001b[0;34m\u001b[0m\u001b[0m\n\u001b[0m\u001b[1;32m      5\u001b[0m \u001b[0;34m\u001b[0m\u001b[0m\n\u001b[1;32m      6\u001b[0m \u001b[0mprint\u001b[0m \u001b[0;34m(\u001b[0m\u001b[0;34m'After context manager'\u001b[0m\u001b[0;34m)\u001b[0m \u001b[0;31m# Не выведется\u001b[0m\u001b[0;34m\u001b[0m\u001b[0m\n",
      "\u001b[0;31mRuntimeError\u001b[0m: Smth is wrong"
     ]
    }
   ],
   "source": [
    "with Context(False) as x:\n",
    "   print('Inside context, x =', x)\n",
    "   # Если в коде возбуждается исключение, то оно отлавливается менеджером контекста в методе __exit__\n",
    "   raise RuntimeError('Smth is wrong')\n",
    "\n",
    "print ('After context manager') # Не выведется"
   ]
  },
  {
   "cell_type": "markdown",
   "metadata": {},
   "source": [
    "## Контекст без исключений"
   ]
  },
  {
   "cell_type": "code",
   "execution_count": 4,
   "metadata": {},
   "outputs": [
    {
     "name": "stdout",
     "output_type": "stream",
     "text": [
      "__enter__()\n",
      "Inside context, x = Some data\n",
      "__exit__(None, None, None)\n"
     ]
    }
   ],
   "source": [
    "class Context():\n",
    "\n",
    "    def __enter__(self):\n",
    "        print('__enter__()')\n",
    "        return 'Some data'\n",
    "\n",
    "    def __exit__(self, exc_type, exc_val, exc_tb):\n",
    "        print('__exit__({}, {}, {})'.format(exc_type, exc_val, exc_tb))\n",
    "        # Успешность отработки кода в контексте проверяется переменной exc_type:\n",
    "        # if exc_type != None:\n",
    "\n",
    "\n",
    "with Context() as x:\n",
    "    print('Inside context, x =', x)\n",
    "    # Если в коде исключение не возникает, то в __exit__ аргументы передаются с значением None"
   ]
  },
  {
   "cell_type": "markdown",
   "metadata": {},
   "source": [
    "## Менеджер контекста на примере временного файла\n",
    "\n",
    "* Существует только внутри контекста\n",
    "* Можно читать и писать\n",
    "\n",
    "````python\n",
    "with TmpFile('/tmp/') as path:\n",
    "    with open(path, 'w') as fw:\n",
    "        fw.write('Some stuff')\n",
    "        ...\n",
    "    ...\n",
    "    with open(path) as fr:\n",
    "        ... = fr.read()\n",
    "````\n",
    "\n",
    "(для использования временных файлов существует модуль tempfile)"
   ]
  },
  {
   "cell_type": "code",
   "execution_count": 5,
   "metadata": {},
   "outputs": [],
   "source": [
    "import os\n",
    "\n",
    "class TmpFile():\n",
    "\n",
    "    def __init__(self, folder):\n",
    "        self.folder = folder\n",
    "\n",
    "    def generate_name(self):\n",
    "        return 'test_python.tmp'\n",
    "\n",
    "    def __enter__(self):\n",
    "        name = self.generate_name()\n",
    "        self.path = os.path.join(self.folder, name)\n",
    "        print('__enter__', 'path =', self.path)\n",
    "        # Создаем пустой файл, на тот случай, если в менеджере контекстов файл открываться не будет,\n",
    "        # то при выходе из контекста, метод __exit__ выпадет в исключение при удалении несуществующего\n",
    "        # файла (os.remove ...)\n",
    "        with open(self.path, 'w'):\n",
    "            pass # create empty file\n",
    "        # Эта переменная возвращается в переменную после ключевого слова as в менеджере контекста\n",
    "        return self.path\n",
    "\n",
    "    def __exit__(self, exc_type, exc_value, exc_tb):\n",
    "        print('__exit__', 'Удаляем файл:', self.path)\n",
    "        os.remove(self.path)"
   ]
  },
  {
   "cell_type": "markdown",
   "metadata": {},
   "source": [
    "Использование:"
   ]
  },
  {
   "cell_type": "code",
   "execution_count": 6,
   "metadata": {},
   "outputs": [
    {
     "name": "stdout",
     "output_type": "stream",
     "text": [
      "__enter__ path = /tmp/test_python.tmp\n",
      "Write data: Some stuff\n",
      "Read data: Some stuff\n",
      "__exit__ Удаляем файл: /tmp/test_python.tmp\n"
     ]
    }
   ],
   "source": [
    "# <- Инициализация экземпляра класса TmpFile + вызов входа в контекст (метод __enter__)\n",
    "with TmpFile('/tmp/') as path:\n",
    "    with open(path, 'w') as fw:\n",
    "        print('Write data: Some stuff')\n",
    "        fw.write('Some stuff')\n",
    "    #\n",
    "    # Здесь файл на запись уже закрыт, так как контекст закрыт\n",
    "    #\n",
    "    with open(path) as fr:\n",
    "        data = fr.read()\n",
    "        print('Read data:', data)"
   ]
  },
  {
   "cell_type": "markdown",
   "metadata": {},
   "source": [
    "## Операторы доступа к атрибутам (оператор точка)\n",
    "\n",
    "Операторы доступа к атрибутам:\n",
    "\n",
    "````python\n",
    "a.x       # Чтение атрибута  \n",
    "a.x = ... # Запись атрибута\n",
    "````\n",
    "\n",
    "Примеры использования:\n",
    "* Не нужно всегда писать функции чтения и записи для всех атрибутов\n",
    "  (если атрибут нужно будет превратить в метод, он все равно сможет \"притворяться\" атрибутом)\n",
    "* Псевдо-атрибуты\n",
    "  (для которых данные не хранятся, а вычисляются)"
   ]
  },
  {
   "cell_type": "markdown",
   "metadata": {},
   "source": [
    "## Оператор __getattr__(self, name)\n",
    "\n",
    "Оператор `__getattr__(self, name)`:\n",
    "\n",
    "* Срабатывает при чтении атрибута, например: `obj.attr`\n",
    "* Не вызывается, если атрибут существует\n",
    "* Получает на вход имя атрибута\n",
    "* Должен вернуть его значение, например сгенерировать или создать `AttributeError`\n",
    "* Может использовать внутри другие атрибуты\n",
    "* Методы - тоже атрибуты"
   ]
  },
  {
   "cell_type": "code",
   "execution_count": 7,
   "metadata": {},
   "outputs": [
    {
     "name": "stdout",
     "output_type": "stream",
     "text": [
      "a.x = 1\n"
     ]
    }
   ],
   "source": [
    "class A():\n",
    "\n",
    "    def __init__(self):\n",
    "        self.x = 1\n",
    "\n",
    "    def __getattr__(self, name):\n",
    "        print('Доступ к несуществующему атрибуту:', name)\n",
    "        return self.x + 1\n",
    "\n",
    "\n",
    "a = A()\n",
    "\n",
    "print('a.x =', a.x)"
   ]
  },
  {
   "cell_type": "code",
   "execution_count": 8,
   "metadata": {},
   "outputs": [
    {
     "name": "stdout",
     "output_type": "stream",
     "text": [
      "Доступ к несуществующему атрибуту: attr\n",
      "a.attr = 2\n"
     ]
    }
   ],
   "source": [
    "print('a.attr =', a.attr)"
   ]
  },
  {
   "cell_type": "code",
   "execution_count": 9,
   "metadata": {},
   "outputs": [
    {
     "name": "stdout",
     "output_type": "stream",
     "text": [
      "Доступ к несуществующему атрибуту: method\n",
      "a.method = 2\n"
     ]
    }
   ],
   "source": [
    "print('a.method =', a.method)"
   ]
  },
  {
   "cell_type": "markdown",
   "metadata": {},
   "source": [
    "## Эмуляция отсутствия атрибута"
   ]
  },
  {
   "cell_type": "code",
   "execution_count": 10,
   "metadata": {},
   "outputs": [],
   "source": [
    "class A():\n",
    "\n",
    "    def __init__(self):\n",
    "        self.base = 1\n",
    "\n",
    "    def __getattr__(self, name):\n",
    "        if name == 'doubled':\n",
    "            return self.base * 2 # Атрибут doubled вычисляется через реальный атрибут\n",
    "        else:\n",
    "            raise AttributeError('Attribute not found')\n",
    "\n",
    "\n",
    "a = A()"
   ]
  },
  {
   "cell_type": "markdown",
   "metadata": {},
   "source": [
    "Реальный атрибут:"
   ]
  },
  {
   "cell_type": "code",
   "execution_count": 11,
   "metadata": {},
   "outputs": [
    {
     "name": "stdout",
     "output_type": "stream",
     "text": [
      "a.base = 1\n"
     ]
    }
   ],
   "source": [
    "print('a.base =', a.base)"
   ]
  },
  {
   "cell_type": "markdown",
   "metadata": {},
   "source": [
    "Вычислененный атрибут:"
   ]
  },
  {
   "cell_type": "code",
   "execution_count": 12,
   "metadata": {},
   "outputs": [
    {
     "name": "stdout",
     "output_type": "stream",
     "text": [
      "a.doubled = 2\n"
     ]
    }
   ],
   "source": [
    "print('a.doubled =', a.doubled)"
   ]
  },
  {
   "cell_type": "markdown",
   "metadata": {},
   "source": [
    "Вызовет исключение `AttributeError: Attribute not found`:"
   ]
  },
  {
   "cell_type": "code",
   "execution_count": 13,
   "metadata": {},
   "outputs": [
    {
     "ename": "AttributeError",
     "evalue": "Attribute not found",
     "output_type": "error",
     "traceback": [
      "\u001b[0;31m---------------------------------------------------------------------------\u001b[0m",
      "\u001b[0;31mAttributeError\u001b[0m                            Traceback (most recent call last)",
      "\u001b[0;32m<ipython-input-13-9ef094f2c615>\u001b[0m in \u001b[0;36m<module>\u001b[0;34m()\u001b[0m\n\u001b[0;32m----> 1\u001b[0;31m \u001b[0mprint\u001b[0m\u001b[0;34m(\u001b[0m\u001b[0;34m'a.other ='\u001b[0m\u001b[0;34m,\u001b[0m \u001b[0ma\u001b[0m\u001b[0;34m.\u001b[0m\u001b[0mother\u001b[0m\u001b[0;34m)\u001b[0m\u001b[0;34m\u001b[0m\u001b[0m\n\u001b[0m",
      "\u001b[0;32m<ipython-input-10-64b7cff2709c>\u001b[0m in \u001b[0;36m__getattr__\u001b[0;34m(self, name)\u001b[0m\n\u001b[1;32m      8\u001b[0m             \u001b[0;32mreturn\u001b[0m \u001b[0mself\u001b[0m\u001b[0;34m.\u001b[0m\u001b[0mbase\u001b[0m \u001b[0;34m*\u001b[0m \u001b[0;36m2\u001b[0m \u001b[0;31m# Атрибут doubled вычисляется через реальный атрибут\u001b[0m\u001b[0;34m\u001b[0m\u001b[0m\n\u001b[1;32m      9\u001b[0m         \u001b[0;32melse\u001b[0m\u001b[0;34m:\u001b[0m\u001b[0;34m\u001b[0m\u001b[0m\n\u001b[0;32m---> 10\u001b[0;31m             \u001b[0;32mraise\u001b[0m \u001b[0mAttributeError\u001b[0m\u001b[0;34m(\u001b[0m\u001b[0;34m'Attribute not found'\u001b[0m\u001b[0;34m)\u001b[0m\u001b[0;34m\u001b[0m\u001b[0m\n\u001b[0m\u001b[1;32m     11\u001b[0m \u001b[0;34m\u001b[0m\u001b[0m\n\u001b[1;32m     12\u001b[0m \u001b[0;34m\u001b[0m\u001b[0m\n",
      "\u001b[0;31mAttributeError\u001b[0m: Attribute not found"
     ]
    }
   ],
   "source": [
    "print('a.other =', a.other)"
   ]
  },
  {
   "cell_type": "markdown",
   "metadata": {},
   "source": [
    "Ошибки нет. Создается реальный атрибут со значением 1:"
   ]
  },
  {
   "cell_type": "code",
   "execution_count": 14,
   "metadata": {},
   "outputs": [],
   "source": [
    "a.doubled = 1"
   ]
  },
  {
   "cell_type": "markdown",
   "metadata": {},
   "source": [
    "Обращение идет к реальному атрибуту, а не к методу `__getattr__`:"
   ]
  },
  {
   "cell_type": "code",
   "execution_count": 15,
   "metadata": {},
   "outputs": [
    {
     "name": "stdout",
     "output_type": "stream",
     "text": [
      "a.doubled = 1\n"
     ]
    }
   ],
   "source": [
    "print('a.doubled =', a.doubled)"
   ]
  },
  {
   "cell_type": "code",
   "execution_count": 16,
   "metadata": {},
   "outputs": [
    {
     "name": "stdout",
     "output_type": "stream",
     "text": [
      "Реальные атрибуты объекта: {'base': 1, 'doubled': 1}\n"
     ]
    }
   ],
   "source": [
    "print('Реальные атрибуты объекта:', a.__dict__)"
   ]
  },
  {
   "cell_type": "markdown",
   "metadata": {},
   "source": [
    "## Оператор __setattr__(self, name, value)\n",
    "\n",
    "Оператор `__setattr__(self, name, value)`\n",
    "\n",
    "* Вызывается при изменении атрибута (a.x = ...)\n",
    "* Если определен, то вызывается всегда\n",
    "* Получает на вход имя атрибута и значение\n",
    "* Может изменять другие атрибуты через `super(C, self).__setattr__()`"
   ]
  },
  {
   "cell_type": "code",
   "execution_count": 17,
   "metadata": {},
   "outputs": [
    {
     "name": "stdout",
     "output_type": "stream",
     "text": [
      "a.x = 200\n"
     ]
    }
   ],
   "source": [
    "class A():\n",
    "\n",
    "    def __init__(self):\n",
    "        self.x = 1      # Вызывается метод __setattr__\n",
    "\n",
    "    def __setattr__(self, name, value):\n",
    "        # Здесь мы не можем просто обратиться к объекту через self.x чтобы установить ему какое-то значение,\n",
    "        # так как вызовем бесконечную рекурсию, поэтому применим следующий метод для доступа к самому себе:\n",
    "        super(A, self).__setattr__('x', value * 2) # Вызываем __setattr__ у предка.\n",
    "\n",
    "\n",
    "a = A()\n",
    "a.x = 100\n",
    "print('a.x =', a.x)"
   ]
  },
  {
   "cell_type": "markdown",
   "metadata": {},
   "source": [
    "При этом, больше нет возможности создать другой атрибут, так как завязано всё на атрибут `x` в методе `__setattr__()`. Изменится значение атрибута `x`, а атрибут `y` не создастся:"
   ]
  },
  {
   "cell_type": "code",
   "execution_count": 18,
   "metadata": {},
   "outputs": [
    {
     "name": "stdout",
     "output_type": "stream",
     "text": [
      "a.x = 600\n"
     ]
    }
   ],
   "source": [
    "a.y = 300\n",
    "\n",
    "print('a.x =', a.x)"
   ]
  },
  {
   "cell_type": "markdown",
   "metadata": {},
   "source": [
    "Атрибут `y` не доступен:"
   ]
  },
  {
   "cell_type": "code",
   "execution_count": 19,
   "metadata": {},
   "outputs": [
    {
     "ename": "AttributeError",
     "evalue": "'A' object has no attribute 'y'",
     "output_type": "error",
     "traceback": [
      "\u001b[0;31m---------------------------------------------------------------------------\u001b[0m",
      "\u001b[0;31mAttributeError\u001b[0m                            Traceback (most recent call last)",
      "\u001b[0;32m<ipython-input-19-12293d6984df>\u001b[0m in \u001b[0;36m<module>\u001b[0;34m()\u001b[0m\n\u001b[0;32m----> 1\u001b[0;31m \u001b[0mprint\u001b[0m\u001b[0;34m(\u001b[0m\u001b[0;34m'a.y ='\u001b[0m\u001b[0;34m,\u001b[0m \u001b[0ma\u001b[0m\u001b[0;34m.\u001b[0m\u001b[0my\u001b[0m\u001b[0;34m)\u001b[0m\u001b[0;34m\u001b[0m\u001b[0m\n\u001b[0m",
      "\u001b[0;31mAttributeError\u001b[0m: 'A' object has no attribute 'y'"
     ]
    }
   ],
   "source": [
    "print('a.y =', a.y)"
   ]
  },
  {
   "cell_type": "markdown",
   "metadata": {},
   "source": [
    "## Оператор __getattribute__(self, name)\n",
    "\n",
    "Оператор `__getattribute__(self, name)`:\n",
    "\n",
    "* Срабатывает при чтении атрибута (a.x)\n",
    "* Если определен, то вызывается всегда\n",
    "* Получает на вход имя атрибута\n",
    "* Должен вернуть его значение или создать `AttributeError`\n",
    "* Может получать другие атрибуты через `super(C, self).__getattribute__()`\n",
    "* Исключение - методы `__*__`\n",
    "* Более сложный вариант `__getattr__` который работает всегда (если определен в классе)"
   ]
  },
  {
   "cell_type": "code",
   "execution_count": 20,
   "metadata": {},
   "outputs": [
    {
     "name": "stdout",
     "output_type": "stream",
     "text": [
      "Доступ к атрибуту: x\n",
      "a.x = 1\n"
     ]
    }
   ],
   "source": [
    "class A():\n",
    "\n",
    "    def __init__(self):\n",
    "        self.x = 1\n",
    "\n",
    "    # Метод вызывается при отсутствии атрибута\n",
    "    def __getattr__(self, name):\n",
    "        print('Доступ к несуществующему атрибуту:', name)\n",
    "        return self.x * 2 # Аналогично вызову: self.__getattribute__(x) * 2\n",
    "\n",
    "    # Метод вызывается всегда\n",
    "    def __getattribute__(self, name):\n",
    "        print('Доступ к атрибуту:', name)\n",
    "        return super(A, self).__getattribute__(name) # Обращение к самому себе\n",
    "\n",
    "\n",
    "a = A()\n",
    "\n",
    "print('a.x =', a.x)"
   ]
  },
  {
   "cell_type": "code",
   "execution_count": 21,
   "metadata": {},
   "outputs": [
    {
     "name": "stdout",
     "output_type": "stream",
     "text": [
      "Доступ к атрибуту: y\n",
      "Доступ к несуществующему атрибуту: y\n",
      "Доступ к атрибуту: x\n",
      "a.y = 2\n"
     ]
    }
   ],
   "source": [
    "print('a.y =', a.y)"
   ]
  },
  {
   "cell_type": "markdown",
   "metadata": {},
   "source": [
    "Еще один пример:"
   ]
  },
  {
   "cell_type": "code",
   "execution_count": 22,
   "metadata": {},
   "outputs": [],
   "source": [
    "class A():\n",
    "\n",
    "    def __init__(self):\n",
    "        self.x = 1\n",
    "\n",
    "    def __getattribute__(self, name):\n",
    "        return super(A, self).__getattribute__('x') + 100\n",
    "\n",
    "\n",
    "a = A()"
   ]
  },
  {
   "cell_type": "markdown",
   "metadata": {},
   "source": [
    "Так как метод `__getattribute__` вызывается всегда, то можно переопределить значение для существующего и несуществующего атрибута:"
   ]
  },
  {
   "cell_type": "code",
   "execution_count": 23,
   "metadata": {},
   "outputs": [
    {
     "name": "stdout",
     "output_type": "stream",
     "text": [
      "a.x = 101\n"
     ]
    }
   ],
   "source": [
    "print('a.x =', a.x)"
   ]
  },
  {
   "cell_type": "code",
   "execution_count": 24,
   "metadata": {},
   "outputs": [
    {
     "name": "stdout",
     "output_type": "stream",
     "text": [
      "a.y = 101\n"
     ]
    }
   ],
   "source": [
    "print('a.y =', a.y)"
   ]
  },
  {
   "cell_type": "markdown",
   "metadata": {},
   "source": [
    "| Оператор         | Код   | Вызывается                        |\n",
    "|------------------|-------|-----------------------------------|\n",
    "| __getattr__      | a.x   | Если не сработал обычный механизм |\n",
    "| __getattribute__ | a.x   | Всегда                            |\n",
    "| __setattr__      | a.x = | Всегда                            |"
   ]
  },
  {
   "cell_type": "markdown",
   "metadata": {},
   "source": [
    "## Функции для работы с атрибутами"
   ]
  },
  {
   "cell_type": "code",
   "execution_count": 25,
   "metadata": {},
   "outputs": [],
   "source": [
    "class A():\n",
    "\n",
    "    def __init__(self):\n",
    "        self.x = 1\n",
    "\n",
    "a = A()"
   ]
  },
  {
   "cell_type": "markdown",
   "metadata": {},
   "source": [
    "Эквивалентно: `a.x`"
   ]
  },
  {
   "cell_type": "code",
   "execution_count": 26,
   "metadata": {},
   "outputs": [
    {
     "data": {
      "text/plain": [
       "1"
      ]
     },
     "execution_count": 26,
     "metadata": {},
     "output_type": "execute_result"
    }
   ],
   "source": [
    "getattr(a, 'x')"
   ]
  },
  {
   "cell_type": "markdown",
   "metadata": {},
   "source": [
    "Эквивалентно: `a.x = 100`"
   ]
  },
  {
   "cell_type": "code",
   "execution_count": 27,
   "metadata": {},
   "outputs": [],
   "source": [
    "setattr(a, 'x', 100)"
   ]
  },
  {
   "cell_type": "code",
   "execution_count": 29,
   "metadata": {},
   "outputs": [
    {
     "data": {
      "text/plain": [
       "100"
      ]
     },
     "execution_count": 29,
     "metadata": {},
     "output_type": "execute_result"
    }
   ],
   "source": [
    "getattr(a, 'x')"
   ]
  },
  {
   "cell_type": "markdown",
   "metadata": {},
   "source": [
    "Существует ли атрибут?"
   ]
  },
  {
   "cell_type": "code",
   "execution_count": 28,
   "metadata": {},
   "outputs": [
    {
     "data": {
      "text/plain": [
       "False"
      ]
     },
     "execution_count": 28,
     "metadata": {},
     "output_type": "execute_result"
    }
   ],
   "source": [
    "hasattr(a, 'y')"
   ]
  },
  {
   "cell_type": "markdown",
   "metadata": {},
   "source": [
    "## Модификаторы доступа\n",
    "\n",
    "Типы атрибутов:\n",
    "\n",
    "| Тип        | Доступен снаружи |  Доступен из наследников |\n",
    "|------------|------------------|--------------------------|\n",
    "| Открытый   | Да               | Да                       |\n",
    "| Защищенный | Нет              | Да                       |\n",
    "| Закрытый   | Нет              | Нет                      |\n",
    "\n",
    "Всегда есть доступ ко всем атрибутам.  \n",
    "Специальные обозначения для закрытых и защищенных атрибутов.\n",
    "* Нет \"защиты от дурака\"\n",
    "* Есть защита от ошибок\n",
    "* Полезно в некоторых программах (отладка, текстовые редакторы)\n",
    "\n",
    "### Защищенные атрибуты обозначаются префиксом _ (одинарное подчеркивание)"
   ]
  },
  {
   "cell_type": "code",
   "execution_count": 30,
   "metadata": {},
   "outputs": [],
   "source": [
    "class A():\n",
    "\n",
    "    def __init__(self):\n",
    "        self.normal_attr = 0\n",
    "        # Защищенный атрибут (это просто соглашение, для интерпретатора ничего не меняется)\n",
    "        self._protected_attr = 0"
   ]
  },
  {
   "cell_type": "markdown",
   "metadata": {},
   "source": [
    "Доступ изнутри:\n",
    "* По имени (так же, как для открытых атрибутов)\n",
    "\n",
    "Доступ снаружи:\n",
    "* По имени (так же, как для открытых атрибутов)\n",
    "* Легко заметен в коде\n",
    "* Обнаруживается редакторами и чекерами\n",
    "\n",
    "### Закрытые атрибуты обозначаются префиксом __ (двойное подчеркивание)"
   ]
  },
  {
   "cell_type": "code",
   "execution_count": 31,
   "metadata": {},
   "outputs": [],
   "source": [
    "class A():\n",
    "\n",
    "    def __init__(self):\n",
    "        self.normal_attr = 0\n",
    "        self._protected_attr = 0\n",
    "        self.__private_attr = 0\n",
    "\n",
    "    def __private_method(self):\n",
    "        pass"
   ]
  },
  {
   "cell_type": "markdown",
   "metadata": {},
   "source": [
    "Проблема. Как получить доступ, если в классе наследнике есть такое же имя?\n",
    "\n",
    "### Декорирование имен"
   ]
  },
  {
   "cell_type": "code",
   "execution_count": 32,
   "metadata": {},
   "outputs": [],
   "source": [
    "class A():\n",
    "\n",
    "    def public_method(self):\n",
    "        pass\n",
    "\n",
    "    def __private_method(self):\n",
    "        pass"
   ]
  },
  {
   "cell_type": "markdown",
   "metadata": {},
   "source": [
    "Меняется имя у атрибута `__private_method` (методы это тоже атрибуты):"
   ]
  },
  {
   "cell_type": "code",
   "execution_count": 33,
   "metadata": {},
   "outputs": [
    {
     "data": {
      "text/plain": [
       "['_A__private_method',\n",
       " '__class__',\n",
       " '__delattr__',\n",
       " '__dict__',\n",
       " '__dir__',\n",
       " '__doc__',\n",
       " '__eq__',\n",
       " '__format__',\n",
       " '__ge__',\n",
       " '__getattribute__',\n",
       " '__gt__',\n",
       " '__hash__',\n",
       " '__init__',\n",
       " '__init_subclass__',\n",
       " '__le__',\n",
       " '__lt__',\n",
       " '__module__',\n",
       " '__ne__',\n",
       " '__new__',\n",
       " '__reduce__',\n",
       " '__reduce_ex__',\n",
       " '__repr__',\n",
       " '__setattr__',\n",
       " '__sizeof__',\n",
       " '__str__',\n",
       " '__subclasshook__',\n",
       " '__weakref__',\n",
       " 'public_method']"
      ]
     },
     "execution_count": 33,
     "metadata": {},
     "output_type": "execute_result"
    }
   ],
   "source": [
    "dir(A)"
   ]
  },
  {
   "cell_type": "markdown",
   "metadata": {},
   "source": [
    "Закрытые атрибуты:\n",
    "\n",
    "````python\n",
    "class CLASSNAME():\n",
    "    __ATTRIBUTENAME = 0\n",
    "````\n",
    "\n",
    "Доступ изнутри:\n",
    "* `__ATTRIBUTENAME`\n",
    "\n",
    "Доступ снаружи:\n",
    "* `_CLASSNAME__ATTRIBUTENAME`\n",
    "* Легко заметен в коде\n",
    "* Обнаруживается редакторами и чекерами\n",
    "\n",
    "### Обзор обозначений\n",
    "\n",
    "\n",
    "| Обозначение  | Значение                   |\n",
    "|--------------|----------------------------|\n",
    "| name         | Открытый атрибут           |\n",
    "| _name        | Защищенный атрибут         |\n",
    "| __name       | Закрытый атрибут (внутри)  |\n",
    "| _class__name | Закрытый атрибут (снаружи) |\n",
    "| __name__     | Зарезервированный атрибут  |\n",
    "\n",
    "\n",
    "## Оформление атрибутов\n",
    "\n",
    "### Простое оформление атрибутов:"
   ]
  },
  {
   "cell_type": "code",
   "execution_count": 34,
   "metadata": {},
   "outputs": [],
   "source": [
    "class Parrot():\n",
    "\n",
    "    def __init__(self):\n",
    "        self.voltage = 1000 # Открытый атрибут\n",
    "\n",
    "\n",
    "p = Parrot()\n",
    "p.voltage = 'qwerty' # Изменение атрибута снаружи"
   ]
  },
  {
   "cell_type": "markdown",
   "metadata": {},
   "source": [
    "Особенности этого подхода:\n",
    "* **-** Класс не узнает, что его атрибут изменили\n",
    "* **-** Пользователь класса не узнает, что ошибся (программа запустится и будет корректно исполнятся)\n",
    "* **+** Быстро можно писать код\n",
    "\n",
    "### Сложное оформление атрибутов"
   ]
  },
  {
   "cell_type": "code",
   "execution_count": 36,
   "metadata": {},
   "outputs": [],
   "source": [
    "class Parrot():\n",
    "\n",
    "    def __init__(self):\n",
    "        # Закрытый атрибут (пользователи и наследники класса не могут пользоваться напрямую)\n",
    "        self.__voltage = 1000\n",
    "\n",
    "    def voltage(self):\n",
    "        return self.__voltage"
   ]
  },
  {
   "cell_type": "markdown",
   "metadata": {},
   "source": [
    "Особенности этого подхода:\n",
    "* **+** Атрибут защищен\n",
    "* **-** Нельзя изменять\n",
    "* **-** Доступ к атрибуту через voltage() вместо voltage\n",
    "\n",
    "### Перегрузка оператора `.` (точка)"
   ]
  },
  {
   "cell_type": "code",
   "execution_count": 39,
   "metadata": {},
   "outputs": [
    {
     "name": "stdout",
     "output_type": "stream",
     "text": [
      "Метод __setattr__(_Parrot__voltage, 1000) - Изменение атрибута\n",
      "Метод __getattr__(voltage) - Атрибут не существует\n",
      "p.voltage = 1000\n"
     ]
    }
   ],
   "source": [
    "class Parrot():\n",
    "\n",
    "    def __init__(self):\n",
    "        # Закрытый атрибут (пользователи и наследники класса не могут пользоваться напрямую)\n",
    "        self.__voltage = 1000\n",
    "\n",
    "    # Метод вызывается при отсутствии атрибута\n",
    "    def __getattr__(self, name):\n",
    "        print('Метод __getattr__({}) - Атрибут не существует'.format(name))\n",
    "        if name == 'voltage':\n",
    "            return self.__voltage\n",
    "\n",
    "        raise AttributeError('attribute \"' + name + '\" not found')\n",
    "\n",
    "    # Метод всегда вызывается когда определен атрибут\n",
    "    def __setattr__(self, name, value):\n",
    "        print('Метод __setattr__({}, {}) - Изменение атрибута'.format(name, value))\n",
    "        if name == 'voltage':\n",
    "            assert isinstance(value, int)\n",
    "            self.__voltage = value # Внимание! Вызовет этот же метод (__setattr__)\n",
    "        else:\n",
    "            super(Parrot, self).__setattr__(name, value) # Если атрибут не существует, то создаем его\n",
    "\n",
    "\n",
    "p = Parrot()\n",
    "print('p.voltage =', p.voltage)"
   ]
  },
  {
   "cell_type": "markdown",
   "metadata": {},
   "source": [
    "Атрибута `voltage` не существует, изменяем значение атрибута `__voltage` через метод `__setattr__`:"
   ]
  },
  {
   "cell_type": "code",
   "execution_count": 40,
   "metadata": {},
   "outputs": [
    {
     "name": "stdout",
     "output_type": "stream",
     "text": [
      "Метод __setattr__(voltage, 2500) - Изменение атрибута\n",
      "Метод __setattr__(_Parrot__voltage, 2500) - Изменение атрибута\n"
     ]
    }
   ],
   "source": [
    "p.voltage = 2500"
   ]
  },
  {
   "cell_type": "code",
   "execution_count": 41,
   "metadata": {},
   "outputs": [
    {
     "name": "stdout",
     "output_type": "stream",
     "text": [
      "Метод __getattr__(voltage) - Атрибут не существует\n",
      "p.voltage = 2500\n"
     ]
    }
   ],
   "source": [
    "print('p.voltage =', p.voltage)"
   ]
  },
  {
   "cell_type": "markdown",
   "metadata": {},
   "source": [
    "Создается новый атрибут через метод `__setattr__`:"
   ]
  },
  {
   "cell_type": "code",
   "execution_count": 42,
   "metadata": {},
   "outputs": [
    {
     "name": "stdout",
     "output_type": "stream",
     "text": [
      "Метод __setattr__(power, 1000) - Изменение атрибута\n"
     ]
    }
   ],
   "source": [
    "p.power = 1000"
   ]
  },
  {
   "cell_type": "code",
   "execution_count": 43,
   "metadata": {},
   "outputs": [
    {
     "name": "stdout",
     "output_type": "stream",
     "text": [
      "p.power = 1000\n"
     ]
    }
   ],
   "source": [
    "print('p.power =', p.power)"
   ]
  },
  {
   "cell_type": "code",
   "execution_count": 44,
   "metadata": {},
   "outputs": [
    {
     "data": {
      "text/plain": [
       "{'_Parrot__voltage': 2500, 'power': 1000}"
      ]
     },
     "execution_count": 44,
     "metadata": {},
     "output_type": "execute_result"
    }
   ],
   "source": [
    "p.__dict__"
   ]
  },
  {
   "cell_type": "markdown",
   "metadata": {},
   "source": [
    "## Декоратор-дескриптор property()"
   ]
  },
  {
   "cell_type": "code",
   "execution_count": 46,
   "metadata": {},
   "outputs": [
    {
     "name": "stdout",
     "output_type": "stream",
     "text": [
      "p.voltage = 1500\n"
     ]
    }
   ],
   "source": [
    "class Parrot():\n",
    "\n",
    "    def __init__(self):\n",
    "        self.__voltage = 1000\n",
    "\n",
    "    def __get_voltage(self):\n",
    "        return self.__voltage\n",
    "\n",
    "    def __set_voltage(self, value):\n",
    "        assert isinstance(value, int)\n",
    "        self.__voltage = value\n",
    "\n",
    "    # voltage здесь это открытый атрибут равный декоратору-дескриптору property().\n",
    "    # В property() можно также передать метод удаления, документацию:\n",
    "    voltage = property(__get_voltage, __set_voltage)\n",
    "\n",
    "\n",
    "p = Parrot()\n",
    "\n",
    "p.voltage = 1500\n",
    "print('p.voltage =', p.voltage)"
   ]
  },
  {
   "cell_type": "markdown",
   "metadata": {},
   "source": [
    "Альтернативная запись `property`:"
   ]
  },
  {
   "cell_type": "code",
   "execution_count": 47,
   "metadata": {},
   "outputs": [
    {
     "name": "stdout",
     "output_type": "stream",
     "text": [
      "p.voltage = 2000\n"
     ]
    }
   ],
   "source": [
    "class Parrot():\n",
    "\n",
    "    voltage = property() # voltage открытый атрибут равен декоратору-дескриптору property\n",
    "\n",
    "    def __init__(self):\n",
    "        self.__voltage = 1000\n",
    "\n",
    "    @voltage.getter\n",
    "    def voltage(self):\n",
    "        return self.__voltage\n",
    "\n",
    "    @voltage.setter\n",
    "    def voltage(self, value):\n",
    "        assert isinstance(value, int)\n",
    "        self.__voltage = value\n",
    "\n",
    "    @voltage.deleter\n",
    "    def voltage(self):\n",
    "        del self.__voltage\n",
    "\n",
    "\n",
    "p = Parrot()\n",
    "p.voltage = 2000\n",
    "print('p.voltage =', p.voltage)"
   ]
  },
  {
   "cell_type": "markdown",
   "metadata": {},
   "source": [
    "Альтернативная запись `property`:"
   ]
  },
  {
   "cell_type": "code",
   "execution_count": 48,
   "metadata": {},
   "outputs": [
    {
     "name": "stdout",
     "output_type": "stream",
     "text": [
      "p.voltage = 3000\n"
     ]
    }
   ],
   "source": [
    "class Parrot():\n",
    "\n",
    "    # Здесь явно атрибут voltage не декларируется, он создается декоратором @property\n",
    "\n",
    "    def __init__(self):\n",
    "        self.__voltage = 1000\n",
    "\n",
    "    @property       # Декоратор создаст открытый атрибут voltage и геттер из этого метода:\n",
    "    def voltage(self):\n",
    "        return self.__voltage\n",
    "\n",
    "    @voltage.setter # Декоратор создаст из этого метода сеттер\n",
    "    def voltage(self, value):\n",
    "        assert isinstance(value, int)\n",
    "        self.__voltage = value\n",
    "\n",
    "    @voltage.deleter\n",
    "    def voltage(self):\n",
    "        del self.__voltage\n",
    "\n",
    "\n",
    "p = Parrot()\n",
    "p.voltage = 3000\n",
    "print('p.voltage =', p.voltage)"
   ]
  },
  {
   "cell_type": "markdown",
   "metadata": {},
   "source": [
    "## Собственный дескриптор\n",
    "\n",
    "Кроме встроенного дескриптора `property` можно создавать собственные:"
   ]
  },
  {
   "cell_type": "code",
   "execution_count": 56,
   "metadata": {},
   "outputs": [],
   "source": [
    "# Класс дескриптор:\n",
    "class VoltageValue():\n",
    "\n",
    "    def __init__(self, value=1000):\n",
    "        print('Called: __init__({})'.format(value))\n",
    "        self.voltage = value\n",
    "\n",
    "    def __get__(self, obj, obj_type):\n",
    "        # obj - если равен None, то вызов атрибута идет через класс, а не через экземпляр класса\n",
    "        print('Called: __get__({}, {})'.format(obj, obj_type))\n",
    "        return self.voltage\n",
    "\n",
    "    def __set__(self, obj, value):\n",
    "        # obj - если равен None, то вызов атрибута идет через класс, а не через экземпляр класса\n",
    "        print('Called: __set__({}, {})'.format(obj, value))\n",
    "        assert isinstance(value, int)\n",
    "        self.voltage = value\n",
    "\n",
    "    def __delete__(self, obj):\n",
    "        print('Called: __delete__({})'.format(obj))\n",
    "        del self.voltage"
   ]
  },
  {
   "cell_type": "code",
   "execution_count": 57,
   "metadata": {},
   "outputs": [
    {
     "name": "stdout",
     "output_type": "stream",
     "text": [
      "Called: __init__(1500)\n",
      "Called: __set__(<__main__.A object at 0x7f376dead748>, 2000)\n"
     ]
    }
   ],
   "source": [
    "# Обычный класс\n",
    "class A():\n",
    "\n",
    "    # Дескриптор доложен быть объявлен как атрибут класса, а не объекта!\n",
    "    # Атрибут класса становится также атрибутом экземпляра этого класса!\n",
    "    voltage = VoltageValue(1500)\n",
    "\n",
    "    def __init__(self, value):\n",
    "        # Не смотря на то, что voltage объявлен как атрибут класса, мы к нему обращаемся как\n",
    "        # к атрибуту экземпляра класса! Такое поведение свойственно дескриптору.\n",
    "        # В ином случае, вызов self.voltage создал бы атрибут экземпляра класса и стало бы 2 атрибута:\n",
    "        # атрибут класса (voltage) и атрибут экземпляра класса(self.voltage) со своими значениями.\n",
    "        self.voltage = value\n",
    "\n",
    "\n",
    "\n",
    "a = A(2000)"
   ]
  },
  {
   "cell_type": "markdown",
   "metadata": {},
   "source": [
    "Установка значения атрибута `voltage` через дескриптор `VoltageValue`:"
   ]
  },
  {
   "cell_type": "code",
   "execution_count": 58,
   "metadata": {},
   "outputs": [
    {
     "name": "stdout",
     "output_type": "stream",
     "text": [
      "Called: __set__(<__main__.A object at 0x7f376dead748>, 2500)\n"
     ]
    }
   ],
   "source": [
    "a.voltage = 2500"
   ]
  },
  {
   "cell_type": "markdown",
   "metadata": {},
   "source": [
    "Получение значения атрибута `voltage` через дескриптор `VoltageValue`:"
   ]
  },
  {
   "cell_type": "code",
   "execution_count": 59,
   "metadata": {},
   "outputs": [
    {
     "name": "stdout",
     "output_type": "stream",
     "text": [
      "Called: __get__(<__main__.A object at 0x7f376dead748>, <class '__main__.A'>)\n",
      "a.voltage = 2500\n"
     ]
    }
   ],
   "source": [
    "print('a.voltage =', a.voltage)"
   ]
  },
  {
   "cell_type": "markdown",
   "metadata": {},
   "source": [
    "Удаление значения атрибута. Атрибут `voltage` не удаляется!"
   ]
  },
  {
   "cell_type": "code",
   "execution_count": 60,
   "metadata": {},
   "outputs": [
    {
     "name": "stdout",
     "output_type": "stream",
     "text": [
      "Called: __delete__(<__main__.A object at 0x7f376dead748>)\n"
     ]
    }
   ],
   "source": [
    "del a.voltage"
   ]
  },
  {
   "cell_type": "markdown",
   "metadata": {},
   "source": [
    "Атрибут `voltage` класса `A` не удален после вызова через объект `del a.voltage`:"
   ]
  },
  {
   "cell_type": "code",
   "execution_count": 61,
   "metadata": {},
   "outputs": [
    {
     "data": {
      "text/plain": [
       "<__main__.VoltageValue at 0x7f376deadd30>"
      ]
     },
     "execution_count": 61,
     "metadata": {},
     "output_type": "execute_result"
    }
   ],
   "source": [
    "A.__dict__['voltage']"
   ]
  },
  {
   "cell_type": "markdown",
   "metadata": {},
   "source": [
    "## Еще один пример собственного дескриптора"
   ]
  },
  {
   "cell_type": "code",
   "execution_count": 63,
   "metadata": {},
   "outputs": [],
   "source": [
    "class MyNumber():\n",
    "\n",
    "    def __init__(self, number=0):\n",
    "        self.number = number\n",
    "\n",
    "    def __get__(self, obj, obj_type):\n",
    "        print('Вызван дескриптор и метод __get__({}, {})'.format(obj, obj_type))\n",
    "        return self.number\n",
    "\n",
    "    def __set__(self, obj, value):\n",
    "        print('Вызван дескриптор и метод __set__({}, {})'.format(obj, value))\n",
    "        self.number = value\n",
    "\n",
    "\n",
    "class A():\n",
    "\n",
    "    counter = MyNumber(10)      # MyNumber это дескриптор, который хранит значение типа int\n",
    "    myvalue = MyNumber('mystr') # MyNumber это дескриптор, который хранит значение типа str\n",
    "\n",
    "\n",
    "\n",
    "a = A()"
   ]
  },
  {
   "cell_type": "markdown",
   "metadata": {},
   "source": [
    "Доступ как к атрибуту экземпляра класса:"
   ]
  },
  {
   "cell_type": "code",
   "execution_count": 65,
   "metadata": {},
   "outputs": [
    {
     "name": "stdout",
     "output_type": "stream",
     "text": [
      "Вызван дескриптор и метод __get__(<__main__.A object at 0x7f376de5a278>, <class '__main__.A'>)\n",
      "a.counter = 10\n"
     ]
    }
   ],
   "source": [
    "print('a.counter =', a.counter)"
   ]
  },
  {
   "cell_type": "markdown",
   "metadata": {},
   "source": [
    "Доступ как к атрибуту класса:"
   ]
  },
  {
   "cell_type": "code",
   "execution_count": 67,
   "metadata": {},
   "outputs": [
    {
     "name": "stdout",
     "output_type": "stream",
     "text": [
      "Вызван дескриптор и метод __get__(None, <class '__main__.A'>)\n",
      "A.counter = 10\n"
     ]
    }
   ],
   "source": [
    "print('A.counter =', A.counter)"
   ]
  },
  {
   "cell_type": "markdown",
   "metadata": {},
   "source": [
    "Какой тип будет у `A.counter` или `A.myvalue`? MyNumber? Нет:"
   ]
  },
  {
   "cell_type": "code",
   "execution_count": 70,
   "metadata": {},
   "outputs": [
    {
     "name": "stdout",
     "output_type": "stream",
     "text": [
      "Вызван дескриптор и метод __get__(None, <class '__main__.A'>)\n"
     ]
    },
    {
     "data": {
      "text/plain": [
       "int"
      ]
     },
     "execution_count": 70,
     "metadata": {},
     "output_type": "execute_result"
    }
   ],
   "source": [
    "type(A.counter)"
   ]
  },
  {
   "cell_type": "code",
   "execution_count": 71,
   "metadata": {},
   "outputs": [
    {
     "name": "stdout",
     "output_type": "stream",
     "text": [
      "Вызван дескриптор и метод __get__(None, <class '__main__.A'>)\n"
     ]
    },
    {
     "data": {
      "text/plain": [
       "str"
      ]
     },
     "execution_count": 71,
     "metadata": {},
     "output_type": "execute_result"
    }
   ],
   "source": [
    "type(A.myvalue)"
   ]
  }
 ],
 "metadata": {
  "kernelspec": {
   "display_name": "Python 3",
   "language": "python",
   "name": "python3"
  },
  "language_info": {
   "codemirror_mode": {
    "name": "ipython",
    "version": 3
   },
   "file_extension": ".py",
   "mimetype": "text/x-python",
   "name": "python",
   "nbconvert_exporter": "python",
   "pygments_lexer": "ipython3",
   "version": "3.6.3"
  }
 },
 "nbformat": 4,
 "nbformat_minor": 2
}
