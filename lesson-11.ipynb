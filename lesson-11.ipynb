{
 "cells": [
  {
   "cell_type": "markdown",
   "metadata": {},
   "source": [
    "# Метаклассы\n",
    "\n",
    "Алексей Умнов https://www.youtube.com/watch?v=q08Rvcd-w9Y  \n",
    "Слайды доступны по адресу: http://parallels.nsu.ru/~fat/Python/\n",
    "\n",
    "## Классы и метаклассы\n",
    "\n",
    "<blockquote>\n",
    "\"Metaclasses are deeper magic that 99% of users should never worry about.\n",
    "If you wonder whether you need them, you don't (the people who actually\n",
    "need them know with certainty that they need them, and don't need an\n",
    "explanation about why).\"\n",
    "</blockquote> - Python Guru Tim Peters on metaclasses.\n",
    "\n",
    "Краткий перевод: Метаклассы обычно использовать не нужно\n",
    "\n",
    "Метакласс - это объект, создающий классы  \n",
    "Класс     - это объект, создающий объекты"
   ]
  },
  {
   "cell_type": "code",
   "execution_count": 2,
   "metadata": {},
   "outputs": [
    {
     "name": "stdout",
     "output_type": "stream",
     "text": [
      "<class 'int'>\n"
     ]
    }
   ],
   "source": [
    "x = int\n",
    "\n",
    "print(int)"
   ]
  },
  {
   "cell_type": "markdown",
   "metadata": {},
   "source": [
    "Аналогично вызову: `y = int()` который возвращает объект типа `int` в переменную `y`:"
   ]
  },
  {
   "cell_type": "code",
   "execution_count": 3,
   "metadata": {},
   "outputs": [
    {
     "name": "stdout",
     "output_type": "stream",
     "text": [
      "0\n"
     ]
    }
   ],
   "source": [
    "y = x()\n",
    "\n",
    "print(y)"
   ]
  },
  {
   "cell_type": "markdown",
   "metadata": {},
   "source": [
    "Объект `y` принадлежит классу `int`, который его создал:"
   ]
  },
  {
   "cell_type": "code",
   "execution_count": 4,
   "metadata": {},
   "outputs": [
    {
     "data": {
      "text/plain": [
       "int"
      ]
     },
     "execution_count": 4,
     "metadata": {},
     "output_type": "execute_result"
    }
   ],
   "source": [
    "type(y)"
   ]
  },
  {
   "cell_type": "markdown",
   "metadata": {},
   "source": [
    "## Метакласс type"
   ]
  },
  {
   "cell_type": "markdown",
   "metadata": {},
   "source": [
    "Метакласс `type` - это самый главный метакласс\n",
    "\n",
    "type(name, bases, attrs)\n",
    "* Возвращает класс с именем `name`\n",
    "* Родителями `bases`\n",
    "* Атрибутами `attrs`\n",
    "\n",
    "Можно создать класс таким способом, \"на лету\" (сгенерировать):"
   ]
  },
  {
   "cell_type": "code",
   "execution_count": 1,
   "metadata": {},
   "outputs": [],
   "source": [
    "A = type('MyClass', (object,), {})"
   ]
  },
  {
   "cell_type": "markdown",
   "metadata": {},
   "source": [
    "Тип `type` является метаклассом для класса `A`:"
   ]
  },
  {
   "cell_type": "code",
   "execution_count": 2,
   "metadata": {},
   "outputs": [
    {
     "data": {
      "text/plain": [
       "type"
      ]
     },
     "execution_count": 2,
     "metadata": {},
     "output_type": "execute_result"
    }
   ],
   "source": [
    "type(A)"
   ]
  },
  {
   "cell_type": "markdown",
   "metadata": {},
   "source": [
    "Переменная `A` равна классу `MyClass`:"
   ]
  },
  {
   "cell_type": "code",
   "execution_count": 5,
   "metadata": {},
   "outputs": [
    {
     "name": "stdout",
     "output_type": "stream",
     "text": [
      "<class '__main__.MyClass'>\n"
     ]
    }
   ],
   "source": [
    "print(A)"
   ]
  },
  {
   "cell_type": "markdown",
   "metadata": {},
   "source": [
    "Следующий код создает экземпляр класса `MyClass`. `A` это ссылка (имя переменной) на класс `MyClass`:"
   ]
  },
  {
   "cell_type": "code",
   "execution_count": 4,
   "metadata": {},
   "outputs": [
    {
     "name": "stdout",
     "output_type": "stream",
     "text": [
      "<__main__.MyClass object at 0x7fda9803c908>\n"
     ]
    }
   ],
   "source": [
    "a = A()\n",
    "\n",
    "print(a)"
   ]
  },
  {
   "cell_type": "markdown",
   "metadata": {},
   "source": [
    "Создадим класс `B` с двумя атрибутами - `f1` и `f2`:"
   ]
  },
  {
   "cell_type": "code",
   "execution_count": 6,
   "metadata": {},
   "outputs": [],
   "source": [
    "B = type('MyClass', (object,), {'f1': lambda: 'abc', 'f2': lambda self: 'def'})"
   ]
  },
  {
   "cell_type": "markdown",
   "metadata": {},
   "source": [
    "Тип `type` является метаклассом для класса `B`:"
   ]
  },
  {
   "cell_type": "code",
   "execution_count": 7,
   "metadata": {},
   "outputs": [
    {
     "data": {
      "text/plain": [
       "type"
      ]
     },
     "execution_count": 7,
     "metadata": {},
     "output_type": "execute_result"
    }
   ],
   "source": [
    "type(B)"
   ]
  },
  {
   "cell_type": "code",
   "execution_count": 8,
   "metadata": {},
   "outputs": [
    {
     "name": "stdout",
     "output_type": "stream",
     "text": [
      "<class '__main__.MyClass'>\n"
     ]
    }
   ],
   "source": [
    "print(B)"
   ]
  },
  {
   "cell_type": "markdown",
   "metadata": {},
   "source": [
    "Атрибуты класса:"
   ]
  },
  {
   "cell_type": "code",
   "execution_count": 9,
   "metadata": {},
   "outputs": [
    {
     "data": {
      "text/plain": [
       "<function __main__.<lambda>>"
      ]
     },
     "execution_count": 9,
     "metadata": {},
     "output_type": "execute_result"
    }
   ],
   "source": [
    "B.f1"
   ]
  },
  {
   "cell_type": "code",
   "execution_count": 10,
   "metadata": {},
   "outputs": [
    {
     "data": {
      "text/plain": [
       "<function __main__.<lambda>>"
      ]
     },
     "execution_count": 10,
     "metadata": {},
     "output_type": "execute_result"
    }
   ],
   "source": [
    "B.f2"
   ]
  },
  {
   "cell_type": "markdown",
   "metadata": {},
   "source": [
    "Вызовим первый атрибут/метод класса:"
   ]
  },
  {
   "cell_type": "code",
   "execution_count": 11,
   "metadata": {},
   "outputs": [
    {
     "data": {
      "text/plain": [
       "'abc'"
      ]
     },
     "execution_count": 11,
     "metadata": {},
     "output_type": "execute_result"
    }
   ],
   "source": [
    "B.f1()"
   ]
  },
  {
   "cell_type": "markdown",
   "metadata": {},
   "source": [
    "Создадим экземпляр класса `MyClass`. `B` это ссылка (имя переменной) на класс `MyClass`:"
   ]
  },
  {
   "cell_type": "code",
   "execution_count": 13,
   "metadata": {},
   "outputs": [
    {
     "name": "stdout",
     "output_type": "stream",
     "text": [
      "<__main__.MyClass object at 0x7fda98058080>\n"
     ]
    }
   ],
   "source": [
    "b = B()\n",
    "\n",
    "print(b)"
   ]
  },
  {
   "cell_type": "markdown",
   "metadata": {},
   "source": [
    "Вызовим метод экземпляра класса:"
   ]
  },
  {
   "cell_type": "code",
   "execution_count": 14,
   "metadata": {},
   "outputs": [
    {
     "data": {
      "text/plain": [
       "'def'"
      ]
     },
     "execution_count": 14,
     "metadata": {},
     "output_type": "execute_result"
    }
   ],
   "source": [
    "b.f2()"
   ]
  },
  {
   "cell_type": "markdown",
   "metadata": {},
   "source": [
    "## Универсальный меткласс"
   ]
  },
  {
   "cell_type": "code",
   "execution_count": 15,
   "metadata": {},
   "outputs": [],
   "source": [
    "x = 1"
   ]
  },
  {
   "cell_type": "markdown",
   "metadata": {},
   "source": [
    "Вызов с одним аргументом возвращает тип объекта (класса).\n",
    "\n",
    "`x` является объектом класса `int`:"
   ]
  },
  {
   "cell_type": "code",
   "execution_count": 16,
   "metadata": {},
   "outputs": [
    {
     "data": {
      "text/plain": [
       "int"
      ]
     },
     "execution_count": 16,
     "metadata": {},
     "output_type": "execute_result"
    }
   ],
   "source": [
    "type(x)"
   ]
  },
  {
   "cell_type": "markdown",
   "metadata": {},
   "source": [
    "Класс `int` является объектом метакласса `type`:"
   ]
  },
  {
   "cell_type": "code",
   "execution_count": 17,
   "metadata": {},
   "outputs": [
    {
     "data": {
      "text/plain": [
       "type"
      ]
     },
     "execution_count": 17,
     "metadata": {},
     "output_type": "execute_result"
    }
   ],
   "source": [
    "type(int)"
   ]
  },
  {
   "cell_type": "markdown",
   "metadata": {},
   "source": [
    "Класс `type` создает сам себя:"
   ]
  },
  {
   "cell_type": "code",
   "execution_count": 18,
   "metadata": {},
   "outputs": [
    {
     "data": {
      "text/plain": [
       "type"
      ]
     },
     "execution_count": 18,
     "metadata": {},
     "output_type": "execute_result"
    }
   ],
   "source": [
    "type(type)"
   ]
  },
  {
   "cell_type": "markdown",
   "metadata": {},
   "source": [
    "Пример. `type` создает класс `A`, он является метаклассом для класса `A`:"
   ]
  },
  {
   "cell_type": "code",
   "execution_count": 19,
   "metadata": {},
   "outputs": [],
   "source": [
    "class A(): pass"
   ]
  },
  {
   "cell_type": "markdown",
   "metadata": {},
   "source": [
    "Для класса `A` является метакласс (или его тип) `type`:"
   ]
  },
  {
   "cell_type": "code",
   "execution_count": 20,
   "metadata": {},
   "outputs": [
    {
     "data": {
      "text/plain": [
       "type"
      ]
     },
     "execution_count": 20,
     "metadata": {},
     "output_type": "execute_result"
    }
   ],
   "source": [
    "type(A)"
   ]
  },
  {
   "cell_type": "markdown",
   "metadata": {},
   "source": [
    "Этот анонимный объект является экземпляром класса `A`:"
   ]
  },
  {
   "cell_type": "code",
   "execution_count": 21,
   "metadata": {},
   "outputs": [
    {
     "data": {
      "text/plain": [
       "__main__.A"
      ]
     },
     "execution_count": 21,
     "metadata": {},
     "output_type": "execute_result"
    }
   ],
   "source": [
    "type(A())"
   ]
  },
  {
   "cell_type": "markdown",
   "metadata": {},
   "source": [
    "## Атрибут `__class__`\n",
    "\n",
    "Класс это ~= Тип"
   ]
  },
  {
   "cell_type": "code",
   "execution_count": 23,
   "metadata": {},
   "outputs": [],
   "source": [
    "class A(): pass\n",
    "\n",
    "a = A()"
   ]
  },
  {
   "cell_type": "markdown",
   "metadata": {},
   "source": [
    "Класс `A` был создан метаклассом `type`:"
   ]
  },
  {
   "cell_type": "code",
   "execution_count": 24,
   "metadata": {},
   "outputs": [
    {
     "data": {
      "text/plain": [
       "type"
      ]
     },
     "execution_count": 24,
     "metadata": {},
     "output_type": "execute_result"
    }
   ],
   "source": [
    "A.__class__"
   ]
  },
  {
   "cell_type": "markdown",
   "metadata": {},
   "source": [
    "Экземпляр класса `a` был создан классом `A`:"
   ]
  },
  {
   "cell_type": "code",
   "execution_count": 25,
   "metadata": {},
   "outputs": [
    {
     "data": {
      "text/plain": [
       "__main__.A"
      ]
     },
     "execution_count": 25,
     "metadata": {},
     "output_type": "execute_result"
    }
   ],
   "source": [
    "a.__class__"
   ]
  },
  {
   "cell_type": "markdown",
   "metadata": {},
   "source": [
    "Класс `type` создал сам себя:"
   ]
  },
  {
   "cell_type": "code",
   "execution_count": 26,
   "metadata": {},
   "outputs": [
    {
     "data": {
      "text/plain": [
       "type"
      ]
     },
     "execution_count": 26,
     "metadata": {},
     "output_type": "execute_result"
    }
   ],
   "source": [
    "type.__class__"
   ]
  },
  {
   "cell_type": "markdown",
   "metadata": {},
   "source": [
    "* **a**    - является экземпляром класса `A`\n",
    "* **A**    - является экземпляром метакласса `type` и классом (типом) для объекта `a`\n",
    "* **type** - является метаклассом\n",
    "\n",
    "## Механизм создания классов"
   ]
  },
  {
   "cell_type": "code",
   "execution_count": 27,
   "metadata": {},
   "outputs": [],
   "source": [
    "class A():\n",
    "\n",
    "    def f(self):\n",
    "        print('abc')\n",
    "\n",
    "    x = 1"
   ]
  },
  {
   "cell_type": "markdown",
   "metadata": {},
   "source": [
    "* Создаются `f`, `x`, ... (рекурсивно)\n",
    "* Вызывается:\n",
    "  ````A = type('A', (object,), {'f': f, 'x': x})````\n",
    "* `type` делает все внутренние регистрации и т.п.\n",
    "* `type` - меткласс по умолчанию\n",
    "\n",
    "## Изменение метакласса"
   ]
  },
  {
   "cell_type": "code",
   "execution_count": 28,
   "metadata": {},
   "outputs": [],
   "source": [
    "class A():\n",
    "    pass\n",
    "\n",
    "class B(type): # Собственный метакласс должен наследоваться от класса type\n",
    "    pass\n",
    "\n",
    "class C(metaclass=B):\n",
    "    pass"
   ]
  },
  {
   "cell_type": "markdown",
   "metadata": {},
   "source": [
    "Метаклассом для класса `A` является класс `type`:"
   ]
  },
  {
   "cell_type": "code",
   "execution_count": 29,
   "metadata": {},
   "outputs": [
    {
     "data": {
      "text/plain": [
       "type"
      ]
     },
     "execution_count": 29,
     "metadata": {},
     "output_type": "execute_result"
    }
   ],
   "source": [
    "type(A)"
   ]
  },
  {
   "cell_type": "markdown",
   "metadata": {},
   "source": [
    "Метаклассом для класса `B` является класс `type`:"
   ]
  },
  {
   "cell_type": "code",
   "execution_count": 30,
   "metadata": {},
   "outputs": [
    {
     "data": {
      "text/plain": [
       "type"
      ]
     },
     "execution_count": 30,
     "metadata": {},
     "output_type": "execute_result"
    }
   ],
   "source": [
    "type(B)"
   ]
  },
  {
   "cell_type": "markdown",
   "metadata": {},
   "source": [
    "Метаклассом для класса `C` является класс `B`:"
   ]
  },
  {
   "cell_type": "code",
   "execution_count": 31,
   "metadata": {},
   "outputs": [
    {
     "data": {
      "text/plain": [
       "__main__.B"
      ]
     },
     "execution_count": 31,
     "metadata": {},
     "output_type": "execute_result"
    }
   ],
   "source": [
    "type(C)"
   ]
  },
  {
   "cell_type": "markdown",
   "metadata": {},
   "source": [
    "## Метаклассы в общем виде\n",
    "\n",
    "Особые методы:\n",
    "* `__new__`  - Конструирование класса/объекта\n",
    "* `__init__` - Инициализация класса/объекта\n",
    "\n",
    "Пример демонстрирует пользу изменения метакласса по умолчанию (type) на собственный, чтобы для производных классов создавалось что-то общее (атрибуты, методы). Например, когда класс `A` будет создаваться, то его метакласс `MyMeta`, который его создает, создаст в классе метод `f(self)`:"
   ]
  },
  {
   "cell_type": "code",
   "execution_count": 32,
   "metadata": {},
   "outputs": [
    {
     "name": "stdout",
     "output_type": "stream",
     "text": [
      "Called: MyMeta.__new__(type, A, (), {'__module__': '__main__', '__qualname__': 'A'})\n",
      "Called: MyMeta.__init__(A, A, (), {'__module__': '__main__', '__qualname__': 'A'})\n",
      "Called: MyMeta.__new__(type, B, (), {'__module__': '__main__', '__qualname__': 'B', 'f': <function B.f at 0x7fda89fc7598>})\n",
      "Called: MyMeta.__init__(B, B, (), {'__module__': '__main__', '__qualname__': 'B', 'f': <function B.f at 0x7fda89fc7598>})\n",
      "Called: MyMeta.__new__(type, C, (), {'__module__': '__main__', '__qualname__': 'C'})\n",
      "Called: MyMeta.__init__(C, C, (), {'__module__': '__main__', '__qualname__': 'C'})\n"
     ]
    }
   ],
   "source": [
    "class MyMeta(type):\n",
    "\n",
    "    # В этом методе класс создается и на него возвращается из этого метода ссылка\n",
    "    def __new__(cls, name, bases, attrs):\n",
    "        print('Called: MyMeta.__new__({}, {}, {}, {})'.format(cls.__class__.__name__, name, bases, attrs))\n",
    "        return super().__new__(cls, name, bases, attrs)\n",
    "\n",
    "    # Класс уже создан методом __new__ и сюда передается по ссылке cls вместе с другими атрибутами\n",
    "    def __init__(cls, name, bases, attrs):\n",
    "        print('Called: MyMeta.__init__({}, {}, {}, {})'.format(cls.__name__, name, bases, attrs))\n",
    "        super().__init__(name, bases, attrs)\n",
    "        # В каждом производном классе создается метод f (это атрибут класса которому\n",
    "        # присваивается безымянная функция)\n",
    "        cls.f = lambda self: print('qwerty')\n",
    "\n",
    "def myfunc(name, bases, attrs):\n",
    "    return MyMeta(name, bases, attrs)\n",
    "\n",
    "class A(metaclass=MyMeta):\n",
    "    pass\n",
    "\n",
    "class B(metaclass=MyMeta):\n",
    "    def f(self):\n",
    "        print('Этот метод будет переопределен метаклассом MyMeta')\n",
    "\n",
    "class C(metaclass=myfunc):\n",
    "    # Можно еще указать метакласс как функцию возвращающую метакласс,\n",
    "    # в которой могут быть определены какие-то особые процедуры\n",
    "    pass"
   ]
  },
  {
   "cell_type": "markdown",
   "metadata": {},
   "source": [
    "Это метакласс для класса `A`:"
   ]
  },
  {
   "cell_type": "code",
   "execution_count": 33,
   "metadata": {},
   "outputs": [
    {
     "data": {
      "text/plain": [
       "__main__.MyMeta"
      ]
     },
     "execution_count": 33,
     "metadata": {},
     "output_type": "execute_result"
    }
   ],
   "source": [
    "type(A)"
   ]
  },
  {
   "cell_type": "markdown",
   "metadata": {},
   "source": [
    "Создается экземпляр класса `A`:"
   ]
  },
  {
   "cell_type": "code",
   "execution_count": 34,
   "metadata": {},
   "outputs": [],
   "source": [
    "a = A()"
   ]
  },
  {
   "cell_type": "markdown",
   "metadata": {},
   "source": [
    "В классе `A` появился метод, который создал метакласс `MyMeta`:"
   ]
  },
  {
   "cell_type": "code",
   "execution_count": 35,
   "metadata": {},
   "outputs": [
    {
     "name": "stdout",
     "output_type": "stream",
     "text": [
      "qwerty\n"
     ]
    }
   ],
   "source": [
    "a.f()"
   ]
  },
  {
   "cell_type": "markdown",
   "metadata": {},
   "source": [
    "Это метакласс для класса `B`:"
   ]
  },
  {
   "cell_type": "code",
   "execution_count": 37,
   "metadata": {},
   "outputs": [
    {
     "data": {
      "text/plain": [
       "__main__.MyMeta"
      ]
     },
     "execution_count": 37,
     "metadata": {},
     "output_type": "execute_result"
    }
   ],
   "source": [
    "type(B)"
   ]
  },
  {
   "cell_type": "markdown",
   "metadata": {},
   "source": [
    "Создается экземпляр класса `B`:"
   ]
  },
  {
   "cell_type": "code",
   "execution_count": 38,
   "metadata": {},
   "outputs": [],
   "source": [
    "b = B()"
   ]
  },
  {
   "cell_type": "markdown",
   "metadata": {},
   "source": [
    "Метакласс `MyMeta` переопределил метод `f(self)` изначально записанный в классе:"
   ]
  },
  {
   "cell_type": "code",
   "execution_count": 39,
   "metadata": {},
   "outputs": [
    {
     "name": "stdout",
     "output_type": "stream",
     "text": [
      "qwerty\n"
     ]
    }
   ],
   "source": [
    "b.f()"
   ]
  },
  {
   "cell_type": "markdown",
   "metadata": {},
   "source": [
    "Это метакласс для класса `C`:"
   ]
  },
  {
   "cell_type": "code",
   "execution_count": 40,
   "metadata": {},
   "outputs": [
    {
     "data": {
      "text/plain": [
       "__main__.MyMeta"
      ]
     },
     "execution_count": 40,
     "metadata": {},
     "output_type": "execute_result"
    }
   ],
   "source": [
    "type(C)"
   ]
  },
  {
   "cell_type": "markdown",
   "metadata": {},
   "source": [
    "Создается экземпляр класса `C`:"
   ]
  },
  {
   "cell_type": "code",
   "execution_count": 41,
   "metadata": {},
   "outputs": [],
   "source": [
    "c = C()"
   ]
  },
  {
   "cell_type": "markdown",
   "metadata": {},
   "source": [
    "Метакласс `MyMeta` определил метод `f(self)`:"
   ]
  },
  {
   "cell_type": "code",
   "execution_count": 42,
   "metadata": {},
   "outputs": [
    {
     "name": "stdout",
     "output_type": "stream",
     "text": [
      "qwerty\n"
     ]
    }
   ],
   "source": [
    "c.f()"
   ]
  },
  {
   "cell_type": "markdown",
   "metadata": {},
   "source": [
    "Создаем класс `D` с помощью метакласса `MyMeta` и назначаем на него переменную `D`:"
   ]
  },
  {
   "cell_type": "code",
   "execution_count": 43,
   "metadata": {},
   "outputs": [
    {
     "name": "stdout",
     "output_type": "stream",
     "text": [
      "Called: MyMeta.__new__(type, D, (<class 'object'>,), {})\n",
      "Called: MyMeta.__init__(D, D, (<class 'object'>,), {})\n"
     ]
    }
   ],
   "source": [
    "D = MyMeta('D', (object,), {})"
   ]
  },
  {
   "cell_type": "code",
   "execution_count": 44,
   "metadata": {},
   "outputs": [
    {
     "data": {
      "text/plain": [
       "__main__.MyMeta"
      ]
     },
     "execution_count": 44,
     "metadata": {},
     "output_type": "execute_result"
    }
   ],
   "source": [
    "type(D)"
   ]
  },
  {
   "cell_type": "code",
   "execution_count": 45,
   "metadata": {},
   "outputs": [
    {
     "name": "stdout",
     "output_type": "stream",
     "text": [
      "qwerty\n"
     ]
    }
   ],
   "source": [
    "d = D()\n",
    "\n",
    "d.f()"
   ]
  },
  {
   "cell_type": "markdown",
   "metadata": {},
   "source": [
    "Процесс создания класса, `type`:\n",
    "\n",
    "Предположим, что мы пишем следующую строчку:\n",
    "\n",
    "````python\n",
    "C = type(name, bases, attrs)\n",
    "````\n",
    "\n",
    "Это будет эквивалентно следующим вызовам:\n",
    "1. `type` является Callable-объектом (переопределены круглые скобки), поэтому:\n",
    "  ````python\n",
    "  C = type.__call__(name, bases, attrs)\n",
    "  ````\n",
    "2. Затем, происходит конструирование класса:\n",
    "  ````python\n",
    "  C = type.__new__(metacls, name, bases, attrs)\n",
    "  ````\n",
    "3. Инициализация класса:\n",
    "  ````python\n",
    "  C = type.__init__(C, name, bases, attrs)\n",
    "  ````\n",
    "\n",
    "## Метаклассы, наследование, разрешение имен\n",
    "\n",
    "* Метаклассы наследуются от `type`\n",
    "* При наследовании классов метакласс сохраняется\n",
    "* Разрешение имен в классах: сам класс и его метакласс (с учетом наследования)\n",
    "* Разрешение имен в экземплярах: экземпляр и его класс (с учетом наследования)"
   ]
  },
  {
   "cell_type": "code",
   "execution_count": 46,
   "metadata": {},
   "outputs": [],
   "source": [
    "class Meta(type):\n",
    "\n",
    "    def f(cls):\n",
    "        print('hi, from ', __class__.__name__)\n",
    "\n",
    "\n",
    "class A(metaclass=Meta):\n",
    "    pass"
   ]
  },
  {
   "cell_type": "markdown",
   "metadata": {},
   "source": [
    "Метод `f` класса `Meta` наследуется в классе `A`, но класс `A` на самом деле наследуется от класса `object`:"
   ]
  },
  {
   "cell_type": "code",
   "execution_count": 48,
   "metadata": {},
   "outputs": [
    {
     "name": "stdout",
     "output_type": "stream",
     "text": [
      "hi, from  Meta\n"
     ]
    }
   ],
   "source": [
    "A.f()"
   ]
  },
  {
   "cell_type": "markdown",
   "metadata": {},
   "source": [
    "Класс `A` явно наследуется от класса `object`:"
   ]
  },
  {
   "cell_type": "code",
   "execution_count": 49,
   "metadata": {},
   "outputs": [
    {
     "data": {
      "text/plain": [
       "(object,)"
      ]
     },
     "execution_count": 49,
     "metadata": {},
     "output_type": "execute_result"
    }
   ],
   "source": [
    "A.__bases__"
   ]
  },
  {
   "cell_type": "markdown",
   "metadata": {},
   "source": [
    "Метод `f` наследуется НЕявно в классе `A`. Его нет в списке:"
   ]
  },
  {
   "cell_type": "code",
   "execution_count": 50,
   "metadata": {},
   "outputs": [
    {
     "data": {
      "text/plain": [
       "False"
      ]
     },
     "execution_count": 50,
     "metadata": {},
     "output_type": "execute_result"
    }
   ],
   "source": [
    "'f' in dir(A)"
   ]
  },
  {
   "cell_type": "code",
   "execution_count": 51,
   "metadata": {},
   "outputs": [
    {
     "data": {
      "text/plain": [
       "['__class__',\n",
       " '__delattr__',\n",
       " '__dict__',\n",
       " '__dir__',\n",
       " '__doc__',\n",
       " '__eq__',\n",
       " '__format__',\n",
       " '__ge__',\n",
       " '__getattribute__',\n",
       " '__gt__',\n",
       " '__hash__',\n",
       " '__init__',\n",
       " '__init_subclass__',\n",
       " '__le__',\n",
       " '__lt__',\n",
       " '__module__',\n",
       " '__ne__',\n",
       " '__new__',\n",
       " '__reduce__',\n",
       " '__reduce_ex__',\n",
       " '__repr__',\n",
       " '__setattr__',\n",
       " '__sizeof__',\n",
       " '__str__',\n",
       " '__subclasshook__',\n",
       " '__weakref__']"
      ]
     },
     "execution_count": 51,
     "metadata": {},
     "output_type": "execute_result"
    }
   ],
   "source": [
    "dir(A)"
   ]
  },
  {
   "cell_type": "markdown",
   "metadata": {},
   "source": [
    "Также, метод `f` не доступен через экземпляр класса:"
   ]
  },
  {
   "cell_type": "code",
   "execution_count": 52,
   "metadata": {},
   "outputs": [
    {
     "ename": "AttributeError",
     "evalue": "'A' object has no attribute 'f'",
     "output_type": "error",
     "traceback": [
      "\u001b[0;31m---------------------------------------------------------------------------\u001b[0m",
      "\u001b[0;31mAttributeError\u001b[0m                            Traceback (most recent call last)",
      "\u001b[0;32m<ipython-input-52-ab5236285d3c>\u001b[0m in \u001b[0;36m<module>\u001b[0;34m()\u001b[0m\n\u001b[1;32m      1\u001b[0m \u001b[0ma\u001b[0m \u001b[0;34m=\u001b[0m \u001b[0mA\u001b[0m\u001b[0;34m(\u001b[0m\u001b[0;34m)\u001b[0m\u001b[0;34m\u001b[0m\u001b[0m\n\u001b[1;32m      2\u001b[0m \u001b[0;34m\u001b[0m\u001b[0m\n\u001b[0;32m----> 3\u001b[0;31m \u001b[0ma\u001b[0m\u001b[0;34m.\u001b[0m\u001b[0mf\u001b[0m\u001b[0;34m(\u001b[0m\u001b[0;34m)\u001b[0m\u001b[0;34m\u001b[0m\u001b[0m\n\u001b[0m",
      "\u001b[0;31mAttributeError\u001b[0m: 'A' object has no attribute 'f'"
     ]
    }
   ],
   "source": [
    "a = A()\n",
    "\n",
    "a.f()"
   ]
  },
  {
   "cell_type": "markdown",
   "metadata": {},
   "source": [
    "## Пример метакласса\n",
    "\n",
    "Задача:\n",
    "\n",
    "Для каждого метода в классе добавлять для него короткий псевдоним (первая буква в верхнем регистре)"
   ]
  },
  {
   "cell_type": "code",
   "execution_count": 53,
   "metadata": {},
   "outputs": [
    {
     "name": "stdout",
     "output_type": "stream",
     "text": [
      "Создаем альяс F для объекта <function A.foo at 0x7fda89fabe18>\n",
      "Создаем альяс B для объекта <function A.bar at 0x7fda89fabf28>\n"
     ]
    }
   ],
   "source": [
    "class AddShortNames(type):\n",
    "\n",
    "    def __init__(cls, name, bases, attrs):\n",
    "        super().__init__(name, bases, attrs)\n",
    "\n",
    "        for k, v in attrs.items():\n",
    "            if callable(v):\n",
    "                short_name = k[0].upper()\n",
    "                print('Создаем альяс {} для объекта {}'.format(short_name, v))\n",
    "                setattr(cls, short_name, v)\n",
    "                # Также, можно было бы\n",
    "                # 1) Удалять какие-то атрибуты с помощью delattr()\n",
    "                # 2) Проверять наличие каких-то атрибутов с помощью hasattr()\n",
    "\n",
    "\n",
    "class A(metaclass=AddShortNames):\n",
    "\n",
    "    def foo(self):\n",
    "        print('Called foo')\n",
    "\n",
    "    def bar(self):\n",
    "        print('Called bar')"
   ]
  },
  {
   "cell_type": "code",
   "execution_count": 56,
   "metadata": {},
   "outputs": [
    {
     "name": "stdout",
     "output_type": "stream",
     "text": [
      "Called foo\n"
     ]
    }
   ],
   "source": [
    "a = A()\n",
    "\n",
    "a.foo()"
   ]
  },
  {
   "cell_type": "code",
   "execution_count": 57,
   "metadata": {},
   "outputs": [
    {
     "name": "stdout",
     "output_type": "stream",
     "text": [
      "Called bar\n"
     ]
    }
   ],
   "source": [
    "a.bar()"
   ]
  },
  {
   "cell_type": "code",
   "execution_count": 58,
   "metadata": {},
   "outputs": [
    {
     "name": "stdout",
     "output_type": "stream",
     "text": [
      "Called foo\n"
     ]
    }
   ],
   "source": [
    "a.F() # Метод создан динамически в метаклассе AddShortNames"
   ]
  },
  {
   "cell_type": "code",
   "execution_count": 59,
   "metadata": {},
   "outputs": [
    {
     "name": "stdout",
     "output_type": "stream",
     "text": [
      "Called bar\n"
     ]
    }
   ],
   "source": [
    "a.B() # Метод создан динамически в метаклассе AddShortNames"
   ]
  },
  {
   "cell_type": "code",
   "execution_count": 60,
   "metadata": {},
   "outputs": [
    {
     "name": "stdout",
     "output_type": "stream",
     "text": [
      "Атрибуты callable в классе A:\n",
      "foo: <function A.foo at 0x7fda89fabe18>\n",
      "bar: <function A.bar at 0x7fda89fabf28>\n",
      "  F: <function A.foo at 0x7fda89fabe18>\n",
      "  B: <function A.bar at 0x7fda89fabf28>\n"
     ]
    }
   ],
   "source": [
    "print('Атрибуты callable в классе A:')\n",
    "\n",
    "for k, v in A.__dict__.items():\n",
    "    if callable(v):\n",
    "        print('{: >3}: {}'.format(k, v))"
   ]
  },
  {
   "cell_type": "markdown",
   "metadata": {},
   "source": [
    "## Абстрактные атрибуты\n",
    "\n",
    "Запрет на создание экземпляров классов-потомков, которые не переопределяют какие-то атрибуты."
   ]
  },
  {
   "cell_type": "code",
   "execution_count": 61,
   "metadata": {},
   "outputs": [],
   "source": [
    "from abc import ABCMeta, abstractmethod # ABC = Abstract Base Classes\n",
    "\n",
    "class Shape(metaclass=ABCMeta):\n",
    "\n",
    "    @abstractmethod\n",
    "    def area(self):\n",
    "        pass"
   ]
  }
 ],
 "metadata": {
  "kernelspec": {
   "display_name": "Python 3",
   "language": "python",
   "name": "python3"
  },
  "language_info": {
   "codemirror_mode": {
    "name": "ipython",
    "version": 3
   },
   "file_extension": ".py",
   "mimetype": "text/x-python",
   "name": "python",
   "nbconvert_exporter": "python",
   "pygments_lexer": "ipython3",
   "version": "3.6.3"
  }
 },
 "nbformat": 4,
 "nbformat_minor": 2
}
