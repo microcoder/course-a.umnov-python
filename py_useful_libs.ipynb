{
 "cells": [
  {
   "cell_type": "markdown",
   "metadata": {},
   "source": [
    "# Полезные библиотеки Python:\n",
    "\n",
    "1. pdb                   - Встроенный отладчик (debugger). Поставляется с Python3\n",
    "2. unittest              - Unit тестирование. Генерация красивых отчетов по тестированию\n",
    "3. traceback             - Доступ к стеку вызовов. Например, traceback.print_exc()\n",
    "4. ipyhon                - расширенная версия интерактивного интерпретатора Python\n",
    "5. re                    - Регулярные выражения. Поставляется с Python3\n",
    "6. urllib                - для Python v3.x. Для Python v2.x - urllib2\n",
    "7. xml.etree.ElementTree - Разбор элементов HTML и XML\n",
    "8. random                - Генератор случайных чисел. Поставляется с Python3\n",
    "9. calendar              - Операции с календарем, например вычисление високосного года: calendar.isleap(2017)\n",
    "10. requests              - Библиотека для работы с HTTP запросами. Поставляется с Python3. Дополнительно смотреть модуль selenium.\n",
    "11. statistics            - Метод вычисления медианы (statistics.median)\n",
    "12. collections           - Класс \"Counter\" который помогает вычислить самые часто повторяемые значения в словаре с помощью метода \"most_common\"\n",
    "13. datetime              - Работа с датой и временем\n",
    "14. time                  - Работа со временем. time.time() - текущее время; time.sleep(2) - остановка процесса на n секунд. Поставляется с Python3\n",
    "15. python-dateutil       - Строчное представление даты в Python представление, в модуль объекта datetime\n",
    "16. pprint                - Pretty print\n",
    "17. json                  - Работа с JSON. Поставляется с Python3\n",
    "18. multiprocessing       - Модуль для управления процессами python в ОС. Поставляется с Python3\n",
    "19. threading             - Модуль для управления потоками процесса в Python. Поставляется с Python3\n",
    "20. queue                 - Модуль позволяет организовать очередь элементов для обработки их потоками. Поставляется с Python3\n",
    "21. socket                - Создание прослушивающего сокета на стороне сервера. Поставляется с Python3\n",
    "22. asyncio               - Неблокирующий ввод/вывод, позволяет создавать сервисы с тысячами соединений одновременно. Поставляется с Python3\n",
    "23. subprocess            -\n",
    "24. selenium              - Selenium WebDriver – Программная библиотека для управления браузерами. Позволяет создавать ботов, которые с помощью драйвера ходят по http страницам, кликают и совершают другие действия на странице.\n",
    "25. pillow                - (Python Image Library) - Библиотека для работы с изображениями"
   ]
  }
 ],
 "metadata": {
  "kernelspec": {
   "display_name": "Python 3",
   "language": "python",
   "name": "python3"
  },
  "language_info": {
   "codemirror_mode": {
    "name": "ipython",
    "version": 3
   },
   "file_extension": ".py",
   "mimetype": "text/x-python",
   "name": "python",
   "nbconvert_exporter": "python",
   "pygments_lexer": "ipython3",
   "version": "3.6.3"
  }
 },
 "nbformat": 4,
 "nbformat_minor": 2
}
