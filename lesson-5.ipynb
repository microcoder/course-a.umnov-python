{
 "cells": [
  {
   "cell_type": "markdown",
   "metadata": {},
   "source": [
    "# Модель данных. Тестирование\n",
    "\n",
    "Алексей Умнов https://www.youtube.com/watch?v=wbigj-HsTt4  \n",
    "Слайды доступны по адресу: http://parallels.nsu.ru/~fat/Python/\n",
    "\n",
    "## Модель данных\n",
    "\n",
    "Все данные в программе - объекты:\n",
    "* Числа, строки, списки\n",
    "* Классы, функции\n",
    "\n",
    "Основные свойства объектов:\n",
    "* Идентичность (identity)\n",
    "  * ~ адрес в памяти\n",
    "  * Не может изменяться\n",
    "  * методы и операторы идентичности - id(), is, is not\n",
    "* Тип (type)\n",
    "  * Возможные операции и значения\n",
    "  * Не может изменяться\n",
    "  * type()\n",
    "* Значение (value)\n",
    "  * Текущее состояние объекта\n",
    "  * ~ состояние памяти\n",
    "  * Изменяемость (mutabbility) зависит от типа\n",
    "\n",
    "## Идентичность объектов\n",
    "\n",
    "Проверка объектов на идентичность. Идентичность строки сравнивается по значению!!!"
   ]
  },
  {
   "cell_type": "code",
   "execution_count": 2,
   "metadata": {},
   "outputs": [
    {
     "name": "stdout",
     "output_type": "stream",
     "text": [
      "139738089109408\n",
      "139738089109408\n"
     ]
    }
   ],
   "source": [
    "s1 = 'str'\n",
    "s2 = 'str'\n",
    "\n",
    "print(id(s1))\n",
    "print(id(s2))"
   ]
  },
  {
   "cell_type": "code",
   "execution_count": 3,
   "metadata": {},
   "outputs": [
    {
     "name": "stdout",
     "output_type": "stream",
     "text": [
      "Yes, objects \"s1\" and \"s2\" identity: s1=str s2=str\n"
     ]
    }
   ],
   "source": [
    "if s2 is s1:\n",
    "    print('Yes, objects \"s1\" and \"s2\" identity: s1=' + s1, 's2=' + s2)\n",
    "else:\n",
    "    print('No, objects \"s1\" and \"s2: not identity: s1=' + s1, 's2=' + s2)"
   ]
  },
  {
   "cell_type": "markdown",
   "metadata": {},
   "source": [
    "Проверка на идентичность. Идентичность не по значению:"
   ]
  },
  {
   "cell_type": "code",
   "execution_count": 4,
   "metadata": {},
   "outputs": [
    {
     "name": "stdout",
     "output_type": "stream",
     "text": [
      "139737970218432\n",
      "139737970218376\n"
     ]
    }
   ],
   "source": [
    "class A():\n",
    "    pass\n",
    "\n",
    "class B():\n",
    "    pass\n",
    "\n",
    "a = A()\n",
    "b = B()\n",
    "\n",
    "print(id(a))\n",
    "print(id(b))"
   ]
  },
  {
   "cell_type": "code",
   "execution_count": 5,
   "metadata": {},
   "outputs": [
    {
     "name": "stdout",
     "output_type": "stream",
     "text": [
      "No, objects \"a\" and \"b\" not identity\n"
     ]
    }
   ],
   "source": [
    "if a is b:\n",
    "    print('Yes, objects \"a\" and \"b\" identity')\n",
    "else:\n",
    "    print('No, objects \"a\" and \"b\" not identity')"
   ]
  },
  {
   "cell_type": "code",
   "execution_count": 6,
   "metadata": {},
   "outputs": [],
   "source": [
    "x = 1  # Создан объект типа int() со значением 1 и ему присвоена переменная x\n",
    "x = [] # Создан объект типа list() и ему присвоена переменная x"
   ]
  },
  {
   "cell_type": "markdown",
   "metadata": {},
   "source": [
    "Во втором присваивании объект типа `int()` не был изменен, он был утерян присваиванием другого типа. Утерянные или потерявшие связь объекты Python удаляет автоматически из памяти. Переменные могут менять тип, а сам тип менять идентичность и тип не может.\n",
    "\n",
    "Когда мы присваиваем `x = 1` это выглядит примерно так:\n",
    "\n",
    "```\n",
    "var (name & link)               object (type & value)\n",
    "     | x |---------| ссылка |--------->| 1 |\n",
    "```\n",
    "\n",
    "В Python все значения переменных хранятся по ссылке, переменная не может хранить значение без ссылки на объект."
   ]
  },
  {
   "cell_type": "code",
   "execution_count": 7,
   "metadata": {},
   "outputs": [
    {
     "name": "stdout",
     "output_type": "stream",
     "text": [
      "Yes, x and y identity: x=10935488 y=10935488\n"
     ]
    }
   ],
   "source": [
    "x = 1\n",
    "y = x    # 'y' ссылается на идентичный объект, что и переменная 'x'\n",
    "\n",
    "if y is x:\n",
    "    print('Yes, x and y identity: x=' + str(id(x)), 'y=' + str(id(y)))"
   ]
  },
  {
   "cell_type": "markdown",
   "metadata": {},
   "source": [
    "## Изменяемый тип объектов"
   ]
  },
  {
   "cell_type": "code",
   "execution_count": 12,
   "metadata": {},
   "outputs": [],
   "source": [
    "def print_id(x, y):\n",
    "    \"Это вспомогательная функция для демонстрации примеров\"\n",
    "    print('x=' + str(x), 'y=' + str(y), \n",
    "          'identity=' + str(id(x) == id(y)),\n",
    "          '(x_id:' + str(id(x)), 'y_id: ' + str(id(y)) + ')')"
   ]
  },
  {
   "cell_type": "markdown",
   "metadata": {},
   "source": [
    "Значение объектов может меняться:"
   ]
  },
  {
   "cell_type": "code",
   "execution_count": 13,
   "metadata": {},
   "outputs": [
    {
     "name": "stdout",
     "output_type": "stream",
     "text": [
      "x=[1, 2, 3] y=[1, 2, 3] identity=True (x_id:139737969723272 y_id: 139737969723272)\n"
     ]
    }
   ],
   "source": [
    "x = [1, 2] # 'x' ссылается на объект типа list() со значениями [1, 2]\n",
    "y = x      # 'y' ссылается на тот же объект, что и переменная 'x'\n",
    "y += [3]   # Добавим новый элемент в список через переменную 'y'\n",
    "\n",
    "# Переменные 'x' и 'y' имеют идентичное значение, так как ссылаются на один и тот же объект в памяти:\n",
    "print_id(x, y)"
   ]
  },
  {
   "cell_type": "markdown",
   "metadata": {},
   "source": [
    "Аналогично, изменяя объект через переменную `x`, переменная `y` будет также выводить идентичные значения:"
   ]
  },
  {
   "cell_type": "code",
   "execution_count": 14,
   "metadata": {},
   "outputs": [
    {
     "name": "stdout",
     "output_type": "stream",
     "text": [
      "x=[0, 2, 3] y=[0, 2, 3] identity=True (x_id:139737969723272 y_id: 139737969723272)\n"
     ]
    }
   ],
   "source": [
    "x[0] = 0\n",
    "\n",
    "print_id(x, y)"
   ]
  },
  {
   "cell_type": "markdown",
   "metadata": {},
   "source": [
    "## Неизменяемый тип объектов"
   ]
  },
  {
   "cell_type": "markdown",
   "metadata": {},
   "source": [
    "### Некоторые операции не допустимы\n",
    "\n",
    "Например, можно создать объект типа `tuple()`, а при попытке изменить его значение вызовется ошибка:"
   ]
  },
  {
   "cell_type": "code",
   "execution_count": 15,
   "metadata": {},
   "outputs": [
    {
     "ename": "TypeError",
     "evalue": "'tuple' object does not support item assignment",
     "output_type": "error",
     "traceback": [
      "\u001b[0;31m---------------------------------------------------------------------------\u001b[0m",
      "\u001b[0;31mTypeError\u001b[0m                                 Traceback (most recent call last)",
      "\u001b[0;32m<ipython-input-15-a738110ba018>\u001b[0m in \u001b[0;36m<module>\u001b[0;34m()\u001b[0m\n\u001b[1;32m      1\u001b[0m \u001b[0mx\u001b[0m \u001b[0;34m=\u001b[0m \u001b[0;34m(\u001b[0m\u001b[0;36m1\u001b[0m\u001b[0;34m,\u001b[0m \u001b[0;36m2\u001b[0m\u001b[0;34m)\u001b[0m\u001b[0;34m\u001b[0m\u001b[0m\n\u001b[1;32m      2\u001b[0m \u001b[0;34m\u001b[0m\u001b[0m\n\u001b[0;32m----> 3\u001b[0;31m \u001b[0mx\u001b[0m\u001b[0;34m[\u001b[0m\u001b[0;36m0\u001b[0m\u001b[0;34m]\u001b[0m \u001b[0;34m=\u001b[0m \u001b[0;36m0\u001b[0m\u001b[0;34m\u001b[0m\u001b[0m\n\u001b[0m",
      "\u001b[0;31mTypeError\u001b[0m: 'tuple' object does not support item assignment"
     ]
    }
   ],
   "source": [
    "x = (1, 2)\n",
    "\n",
    "x[0] = 0"
   ]
  },
  {
   "cell_type": "markdown",
   "metadata": {},
   "source": [
    "### Некоторые операции создают новый объект\n",
    "\n",
    "Например, создадим объект `tuple()` и присвоим ему переменную `x`:"
   ]
  },
  {
   "cell_type": "code",
   "execution_count": 17,
   "metadata": {},
   "outputs": [
    {
     "name": "stdout",
     "output_type": "stream",
     "text": [
      "x=(1, 2) y=(1, 2) identity=True (x_id:139737987813128 y_id: 139737987813128)\n"
     ]
    }
   ],
   "source": [
    "x = (1, 2)\n",
    "y = x\n",
    "\n",
    "print_id(x, y)"
   ]
  },
  {
   "cell_type": "markdown",
   "metadata": {},
   "source": [
    "А теперь попробуем добавить новый элемент:"
   ]
  },
  {
   "cell_type": "code",
   "execution_count": 18,
   "metadata": {},
   "outputs": [
    {
     "name": "stdout",
     "output_type": "stream",
     "text": [
      "x=(1, 2) y=(1, 2, 3) identity=False (x_id:139737987813128 y_id: 139737970015976)\n"
     ]
    }
   ],
   "source": [
    "y += (3,)\n",
    "\n",
    "print_id(x, y)"
   ]
  },
  {
   "cell_type": "markdown",
   "metadata": {},
   "source": [
    "Что произошло?  \n",
    "Переменные `x` и `y` теперь ссылаются на разные объекты.  \n",
    "Так как объект на который ссылается переменная `x` изменить нельзя, то при попытке изменить его через переменную `y`, был создан новый объект с копированием значений из первого объекта и присвоением нового третьего элемента другого объекта."
   ]
  },
  {
   "cell_type": "markdown",
   "metadata": {},
   "source": [
    "## Контейнеры и изменяемость\n",
    "\n",
    "Контейнеры - объекты со ссылками на другие объекты. Например: списки, словари, классы.\n",
    "\n",
    "Пример 1:"
   ]
  },
  {
   "cell_type": "code",
   "execution_count": 19,
   "metadata": {},
   "outputs": [
    {
     "name": "stdout",
     "output_type": "stream",
     "text": [
      "('a', [1, 2])\n"
     ]
    }
   ],
   "source": [
    "x = [1, 2]    # Изменяемый тип\n",
    "y = ('a', x)  # В неизменяемый тип tuple() поместили строку 'a' и изменяемый! объект 'x'\n",
    "\n",
    "print(y)"
   ]
  },
  {
   "cell_type": "markdown",
   "metadata": {},
   "source": [
    "Что это значит? Объект `y` не изменяемый тип, но возможность изменить элементы объекта `x` сохраняются:"
   ]
  },
  {
   "cell_type": "code",
   "execution_count": 20,
   "metadata": {},
   "outputs": [
    {
     "name": "stdout",
     "output_type": "stream",
     "text": [
      "('a', [0, 2])\n"
     ]
    }
   ],
   "source": [
    "x[0] = 0\n",
    "\n",
    "print(y)"
   ]
  },
  {
   "cell_type": "markdown",
   "metadata": {},
   "source": [
    "Таким образом, в объекте типа `tuple()` находятся только ссылки на объекты, и они не могут быть изменены на другие объекты. Хороший пример иллюстрирующий суть ссылок и объектов:"
   ]
  },
  {
   "cell_type": "code",
   "execution_count": 22,
   "metadata": {},
   "outputs": [
    {
     "name": "stdout",
     "output_type": "stream",
     "text": [
      "['', '', '']\n",
      "ID row[0] = 139738089015984\n",
      "ID row[1] = 139738089015984\n",
      "ID row[2] = 139738089015984\n",
      "ID row = 139738003035272\n"
     ]
    }
   ],
   "source": [
    "row = [''] * 3 # Создаются 3 объекта типа str() в списке с одинаковым значением\n",
    "\n",
    "print(row)\n",
    "print('ID row[0] =', id(row[0]))\n",
    "print('ID row[1] =', id(row[1]))\n",
    "print('ID row[2] =', id(row[2]))\n",
    "print('ID row =', id(row))"
   ]
  },
  {
   "cell_type": "code",
   "execution_count": 23,
   "metadata": {},
   "outputs": [
    {
     "name": "stdout",
     "output_type": "stream",
     "text": [
      "[['', '', ''], ['', '', ''], ['', '', '']]\n",
      "ID board[0] = 139738003035272\n",
      "ID board[1] = 139738003035272\n",
      "ID board[2] = 139738003035272\n",
      "ID board = 139737970042056\n"
     ]
    }
   ],
   "source": [
    "board = [row] * 3   # Создаются 3 ссылки на объект row\n",
    "\n",
    "print(board)\n",
    "print('ID board[0] =', id(board[0]))\n",
    "print('ID board[1] =', id(board[1]))\n",
    "print('ID board[2] =', id(board[2]))\n",
    "print('ID board =', id(board))"
   ]
  },
  {
   "cell_type": "markdown",
   "metadata": {},
   "source": [
    "Поэтому, изменение по адресу `[0][0]` отражается сразу в 3-х ссылках на объект `row` которые принадлежат объекту `board`:"
   ]
  },
  {
   "cell_type": "code",
   "execution_count": 24,
   "metadata": {},
   "outputs": [
    {
     "name": "stdout",
     "output_type": "stream",
     "text": [
      "[['', '', ''], ['', '', ''], ['', '', '']]\n",
      "[['X', '', ''], ['X', '', ''], ['X', '', '']]\n"
     ]
    }
   ],
   "source": [
    "print(board)\n",
    "\n",
    "board[0][0] = 'X'\n",
    "\n",
    "print(board)"
   ]
  },
  {
   "cell_type": "markdown",
   "metadata": {},
   "source": [
    "## Аргументы функций\n",
    "\n",
    "Если `l` это тип `list()`, то запись `('a', 'b')` преобразуется к типу `list()` и значения объединятся.  \n",
    "Если `l` это тип `tuple()`, тогда создастся новый объект типа `tuple()` и значения в нем объединятся из двух объектов."
   ]
  },
  {
   "cell_type": "code",
   "execution_count": 31,
   "metadata": {},
   "outputs": [
    {
     "name": "stdout",
     "output_type": "stream",
     "text": [
      "id before change = 139737970165064\n",
      "id after change = 139737970165064\n",
      "[1, 2, 'a', 'b']\n",
      "[1, 2, 'a', 'b']\n"
     ]
    }
   ],
   "source": [
    "def f(l):\n",
    "    print('id before change =', id(l))\n",
    "    l += ('a', 'b')\n",
    "    print('id after change =', id(l))\n",
    "    return l\n",
    "\n",
    "x = [1, 2]\n",
    "\n",
    "# Вернулась ссылка 'l' из функции\n",
    "print(f(x))\n",
    "\n",
    "# Объект не изменился, изменились значения, так как в функцию пришла ссылка на изменяемый объект\n",
    "print(x)"
   ]
  },
  {
   "cell_type": "markdown",
   "metadata": {},
   "source": [
    "ID объекта у переменной `x` осталось прежним, так как объект `list()` это изменяемый объект.  \n",
    "Присваивание в функции в виде записи типа `tuple()` было преобразовано к типу `list()`.\n",
    "\n",
    "Другой пример:"
   ]
  },
  {
   "cell_type": "code",
   "execution_count": 32,
   "metadata": {},
   "outputs": [
    {
     "name": "stdout",
     "output_type": "stream",
     "text": [
      "id before change = 139737988137096\n",
      "id after change = 139737969620056\n",
      "(1, 2, 'a', 'b')\n",
      "(1, 2)\n"
     ]
    }
   ],
   "source": [
    "y = (1, 2)\n",
    "\n",
    "# Вернулась ссылка 'l' из функции.\n",
    "# Здесь вернулся новый объект, так как тип tuple() переданный в функцию является неизменяемым типом:\n",
    "print(f(y))\n",
    "\n",
    "# Объект у переменной 'y' не изменился, так как в функции был создан новый объект:\n",
    "print(y)"
   ]
  },
  {
   "cell_type": "markdown",
   "metadata": {},
   "source": [
    "## Изменяемые и неизменяемые типы данных\n",
    "\n",
    "| Изменяемые | Неизменяемые |\n",
    "|------------|--------------|\n",
    "| list       | int          |\n",
    "| dict       | float        |\n",
    "| set        | complex      |\n",
    "|            | bool         |\n",
    "|            | str          |\n",
    "|            | tuple        |\n",
    "|            | frozenset    |"
   ]
  },
  {
   "cell_type": "code",
   "execution_count": 33,
   "metadata": {},
   "outputs": [
    {
     "name": "stdout",
     "output_type": "stream",
     "text": [
      "x id = 10935488\n"
     ]
    }
   ],
   "source": [
    "x = 1\n",
    "\n",
    "print('x id =', id(x))"
   ]
  },
  {
   "cell_type": "markdown",
   "metadata": {},
   "source": [
    "Числа являются неизменяемым объектом, поэтому создается новый объект типа `int()` и в него помещается результат вычисления:"
   ]
  },
  {
   "cell_type": "code",
   "execution_count": 34,
   "metadata": {},
   "outputs": [
    {
     "name": "stdout",
     "output_type": "stream",
     "text": [
      "x id = 10935520\n"
     ]
    }
   ],
   "source": [
    "x += 1\n",
    "\n",
    "print('x id =', id(x))"
   ]
  },
  {
   "cell_type": "markdown",
   "metadata": {},
   "source": [
    "Переменная `x` уже указывает на другой объект, а объект с первоначальным ID будет уничтожен Python'ом.  \n",
    "Если мы зарегистрируем новую переменную со значением равным переменной `x`, то они **обе будут ссылаться на один и тот же объект!**"
   ]
  },
  {
   "cell_type": "code",
   "execution_count": 35,
   "metadata": {},
   "outputs": [
    {
     "name": "stdout",
     "output_type": "stream",
     "text": [
      "y id = 10935520\n",
      "x=2 y=2 identity=True (x_id:10935520 y_id: 10935520)\n"
     ]
    }
   ],
   "source": [
    "y = 2\n",
    "\n",
    "print('y id =', id(y))\n",
    "print_id(x, y)"
   ]
  },
  {
   "cell_type": "markdown",
   "metadata": {},
   "source": [
    "Почему так происходит? Ответ в оптимизации Python значений переменных которые равны до значения 256."
   ]
  },
  {
   "cell_type": "markdown",
   "metadata": {},
   "source": [
    "## Конкатенация строк\n",
    "\n",
    "Как долго первый вариант кода будет работать?\n",
    "\n",
    "### Вариант 1:"
   ]
  },
  {
   "cell_type": "code",
   "execution_count": 44,
   "metadata": {},
   "outputs": [
    {
     "name": "stdout",
     "output_type": "stream",
     "text": [
      "s =  id = 139738089015984\n",
      "s = В id = 139737969678896\n",
      "s = Ва id = 139737969204800\n",
      "s = Вас id = 139737969201360\n",
      "s = Васи id = 139737970227224\n",
      "s = Васил id = 139737969214632\n",
      "s = Васили id = 139737969215160\n",
      "s = Василий id = 139737969215248\n"
     ]
    }
   ],
   "source": [
    "text = 'Василий'\n",
    "s = ''\n",
    "\n",
    "print('s =', s, 'id =', id(s))\n",
    "\n",
    "for i in text:\n",
    "    # Каждый раз создается новый объект (это может быть не так в реализации CPython)\n",
    "    # и ему присваивается ссылка 's':\n",
    "    s += i\n",
    "    print('s =', s, 'id =', id(s))"
   ]
  },
  {
   "cell_type": "markdown",
   "metadata": {},
   "source": [
    "Как поправить производительность кода? Например, так:\n",
    "\n",
    "### Вариант 2:"
   ]
  },
  {
   "cell_type": "code",
   "execution_count": 45,
   "metadata": {},
   "outputs": [
    {
     "name": "stdout",
     "output_type": "stream",
     "text": [
      "parts id = 139737969705224\n",
      "parts id = 139737969705224\n",
      "parts id = 139737969705224\n",
      "parts id = 139737969705224\n",
      "parts id = 139737969705224\n",
      "parts id = 139737969705224\n",
      "parts id = 139737969705224\n",
      "s = Василий id = 139737969561512\n"
     ]
    }
   ],
   "source": [
    "parts = [] # Создаем изменяемый объект типа list()\n",
    "\n",
    "for a in text:\n",
    "    # Добавляем символы в один и тот же объект.\n",
    "    # Метод append() в Python реализован эффективней, чем обычная конкатенация строк:\n",
    "    parts.append(a)\n",
    "    print('parts id =', id(parts))\n",
    "\n",
    "s = ''.join(parts)  # Создаем объект типа str() из объекта типа list()\n",
    "\n",
    "print('s =', s, 'id =', id(s))"
   ]
  },
  {
   "cell_type": "markdown",
   "metadata": {},
   "source": [
    "В реализации CPython:\n",
    "\n",
    "* В первом варианте создалось 8 объектов для переменной `s`\n",
    "* Во втором варианте создалось 2 объекта, один для переменной `parts` и один для `s`"
   ]
  },
  {
   "cell_type": "markdown",
   "metadata": {},
   "source": [
    "## Копирование\n",
    "\n",
    "Задача: скопировать старый объект в новый объект\n",
    "\n",
    "Неизменяемые объекты:\n",
    "* Использовать оператор присваивания: `y = x`\n",
    "* Фактически это не будет копированием, потому что новое имя переменной будет ссылаться на тот же объект, что и первая переменная.\n",
    "* Python'у нет необходимости дублировать объект, который и так является неизменным\n",
    "\n",
    "Изменяемые объекты:\n",
    "* Использовать модуль `copy`: `copy`, `deepcopy`\n",
    "* Функция `copy` - не глубокое копирование.\n",
    "* Функция `deepcopy` - глубокое копирование. Циклично копирует в контейнере по ссылкам объекты"
   ]
  },
  {
   "cell_type": "markdown",
   "metadata": {},
   "source": [
    "## Словари и множества\n",
    "\n",
    "`dict()` и `set()`\n",
    "\n",
    "Ключами могут быть только хэшируемые объекты. Что такое хэш? Хэш это какое-то целое число вычисленное функцией `hash()`. Хэш нужен для того, чтобы быстро обрабатывать операции сравнения. У каждого объекта есть хэш и он не должен меняться, т.е. он у объекта всегда один.\n",
    "\n",
    "Объекты <--> Целые числа\n",
    "\n",
    "Если `x == y`, то `hash(x) == hash(y)`\n",
    "\n",
    "`list`, `dict`, `set` - нехэшируемые объекты, их нельзя указать в качестве ключей в `dict`, `set`."
   ]
  },
  {
   "cell_type": "code",
   "execution_count": 48,
   "metadata": {},
   "outputs": [
    {
     "name": "stdout",
     "output_type": "stream",
     "text": [
      "8733623110187\n",
      "{<__main__.C object at 0x7f17480ca2b0>: 'a'}\n",
      "8733623110187\n"
     ]
    }
   ],
   "source": [
    "class C():\n",
    "    pass\n",
    "\n",
    "c = C()         # Создается экземпляр класса\n",
    "print(hash(c))\n",
    "\n",
    "d = {c: 'a'}    # Ключ в словаре как пользовательский объект класса 'С'\n",
    "print(d)\n",
    "\n",
    "c.x = 1         # 'с' это изменяемый объект, регистрируем в нем атрибут 'x' со значением 1\n",
    "print(hash(c))  # Хэш объекта не изменился"
   ]
  },
  {
   "cell_type": "markdown",
   "metadata": {},
   "source": [
    "Сравнение и хэш по умолчанию:\n",
    "\n",
    "`x == y` эквивалентно `id(x) == id(y)`  \n",
    "`hash(x)` определяется по `id(x)`"
   ]
  },
  {
   "cell_type": "code",
   "execution_count": 49,
   "metadata": {},
   "outputs": [
    {
     "name": "stdout",
     "output_type": "stream",
     "text": [
      "False\n"
     ]
    }
   ],
   "source": [
    "x = C()       # Создается экземпляр класса\n",
    "y = C()       # Создается новый экземпляр класса\n",
    "\n",
    "print(x == y) # False. Объекты не равны. Это два разных объекта"
   ]
  },
  {
   "cell_type": "markdown",
   "metadata": {},
   "source": [
    "ID и хэш у объектов разные:"
   ]
  },
  {
   "cell_type": "code",
   "execution_count": 50,
   "metadata": {},
   "outputs": [
    {
     "name": "stdout",
     "output_type": "stream",
     "text": [
      "x id = 139737969763720 hash = -9223363303231665576\n",
      "y id = 139737969764280 hash = -9223363303231665541\n"
     ]
    }
   ],
   "source": [
    "print('x id =', id(x), 'hash =', hash(x))\n",
    "print('y id =', id(y), 'hash =', hash(y))"
   ]
  },
  {
   "cell_type": "markdown",
   "metadata": {},
   "source": [
    "Если добавить/изменить какие-то атрибуты объекта, то хэш его не изменится:"
   ]
  },
  {
   "cell_type": "code",
   "execution_count": 51,
   "metadata": {},
   "outputs": [
    {
     "name": "stdout",
     "output_type": "stream",
     "text": [
      "x id = 139737969763720 hash = -9223363303231665576\n",
      "y id = 139737969764280 hash = -9223363303231665541\n"
     ]
    }
   ],
   "source": [
    "x.a = 1 # Добавляется атрибут 'a' со значением 1\n",
    "\n",
    "print('x id =', id(x), 'hash =', hash(x))\n",
    "print('y id =', id(y), 'hash =', hash(y))"
   ]
  },
  {
   "cell_type": "markdown",
   "metadata": {},
   "source": [
    "## Синглтон\n",
    "\n",
    "Синглтоном называется такой класс, у которого может существовать только один экземпляр объекта.\n",
    "\n",
    "Пример: `None`  \n",
    "Это синглтон. Если написать `x = None` и `y = None`, то обе переменных будут ссылаться на один и тот же объект:"
   ]
  },
  {
   "cell_type": "code",
   "execution_count": 52,
   "metadata": {},
   "outputs": [
    {
     "name": "stdout",
     "output_type": "stream",
     "text": [
      "True\n"
     ]
    }
   ],
   "source": [
    "x = None\n",
    "y = None\n",
    "\n",
    "print(x is y)"
   ]
  },
  {
   "cell_type": "markdown",
   "metadata": {},
   "source": [
    "## Сборщик мусора\n",
    "\n",
    "В Python есть свой сборщик мусора (Garbage Collector), который имеет свойства:\n",
    "* **Подсчет кол-ва ссылок** - Для каждого созданного объекта считается сколько переменных на него ссылается\n",
    "* **Удаление объектов** - Когда счетчик достигает значения 0, то это означает, что объект уже не нужен, и может быть удален из памяти. Удаление происходит не сразу. Существуют менеджеры контекстов, которые умеют открыть файл и закрыть его в конкретный момент времени. Например оператор `with`, гарантирует, что по выходу из контекста будут вызваны операции, в данном конкретном случае закрытие файла и освобождение всех соответствующих ресурсов:\n",
    "```\n",
    "with open('path/to/file') as f:\n",
    "    ...\n",
    "```                           \n",
    "* **Циклические ссылки** - Обнаруживает цикличность. Пример ниже:"
   ]
  },
  {
   "cell_type": "code",
   "execution_count": 53,
   "metadata": {},
   "outputs": [
    {
     "name": "stdout",
     "output_type": "stream",
     "text": [
      "[]\n",
      "[[]]\n",
      "[[[...]]]\n",
      "[[[...]]]\n"
     ]
    }
   ],
   "source": [
    "x = []\n",
    "y = [x]\n",
    "\n",
    "print(x)\n",
    "print(y)\n",
    "\n",
    "x.append(y)\n",
    "\n",
    "print(x)\n",
    "print(y)"
   ]
  },
  {
   "cell_type": "markdown",
   "metadata": {},
   "source": [
    "## Байт-код\n",
    "\n",
    "Выполнение скрипта состоит из 2-х шагов:\n",
    "* Компиляция в байт-код (файлы с раширением *.pyc)\n",
    "* Исполнение байт-кода\n",
    "\n",
    "Модуль dis (CPython)"
   ]
  },
  {
   "cell_type": "markdown",
   "metadata": {},
   "source": [
    "## Библиотеки\n",
    "\n",
    "* Стандартные библиотеки\n",
    "* Огромный набор внешних библиотек:\n",
    "  * PyPI (the Python Package Index) - Это сервис пользовательских библиотек. С этим сервисом работает утилита `pip`, например:\n",
    "\n",
    "````bash\n",
    "pip install some_package\n",
    "pip install --upgrade another_package\n",
    "````"
   ]
  },
  {
   "cell_type": "markdown",
   "metadata": {},
   "source": [
    "## Тестирование\n",
    "\n",
    "Юнит-тесты\n",
    "\n",
    "Общая идея:\n",
    "* Разбивать код на независимые части (юниты)\n",
    "* Тестировать каждую часть отдельно\n",
    "\n",
    "Преимущества:\n",
    "* Нужно меньше тестов\n",
    "* Проще отлаживать\n",
    "\n",
    "Рассмотрим несколько способов юнит-тестирования.\n",
    "\n",
    "### Тесты вручную"
   ]
  },
  {
   "cell_type": "code",
   "execution_count": 55,
   "metadata": {},
   "outputs": [],
   "source": [
    "def factorial(n):\n",
    "    current = 1\n",
    "    for i in range(1, n + 1):\n",
    "        current *= i\n",
    "    return current\n",
    "\n",
    "\n",
    "# Напишем для функции factorial() тестовые функции и запустим их:\n",
    "def test_1():\n",
    "    return factorial(1) == 1\n",
    "def test_2():\n",
    "    return factorial(5) == 120\n",
    "\n",
    "if not (test_1() and test_2()):\n",
    "    print('Tests failed!')"
   ]
  },
  {
   "cell_type": "markdown",
   "metadata": {},
   "source": [
    "### Тесты с помощью модуля unittest\n",
    "\n",
    "Возможности `unittest`:\n",
    "* Отчеты (сколько сломалось, что сломалось)\n",
    "* В чем проблема (assertEqual(), assertTrue(), assertIn(), ...)\n",
    "* Поиск тестов в директории"
   ]
  },
  {
   "cell_type": "code",
   "execution_count": 57,
   "metadata": {},
   "outputs": [],
   "source": [
    "import unittest\n",
    "\n",
    "class TestFactorial(unittest.TestCase):\n",
    "    \n",
    "    # Методы должны называться с префиксом test*\n",
    "    def test_1(self):\n",
    "        self.assertEqual(factorial(1), 1)\n",
    "\n",
    "    def test_2(self):\n",
    "        self.assertEqual(factorial(5), 120)\n",
    "\n",
    "    # Проверка исключений\n",
    "    def test_float():\n",
    "        with self.assertRaises(TypeError):\n",
    "            factorial(2.5)\n",
    "\n",
    "    def test_str():\n",
    "        with self.assertRaises(TypeError):\n",
    "            factorial('qwerty')\n",
    "\n",
    "\n",
    "# unittest.main() # Запускаем тесты"
   ]
  },
  {
   "cell_type": "markdown",
   "metadata": {},
   "source": [
    "### Тесты с помощью модуля pytest\n",
    "\n",
    "Этот модуль не включен в стандартную библиотеку, но её легко установить с помощью `pip`."
   ]
  },
  {
   "cell_type": "code",
   "execution_count": 58,
   "metadata": {},
   "outputs": [],
   "source": [
    "def test_1():\n",
    "    assert factorial(1) == 1\n",
    "\n",
    "def test_2():\n",
    "    assert factorial(5) == 120\n",
    "\n",
    "# $ py.test <filename>"
   ]
  },
  {
   "cell_type": "markdown",
   "metadata": {},
   "source": [
    "## Проверка кода\n",
    "\n",
    "Оператор `assert` - Проверка корректности \"на лету\":\n",
    "\n",
    "````python\n",
    "assert CONDITION, TEXT\n",
    "````\n",
    "\n",
    "Если выражение возвращает `True`, то `assert` ничего не делает, а если выражение возвращает `False`, то `assert` генерирует исключение `AssertionError` с текстом указанным вторым аргументом. Конструкция `assert` эквивалентна следующей записи:\n",
    "\n",
    "````python\n",
    "if not CONDITION:\n",
    "    raise AssertionError(TEXT)\n",
    "````"
   ]
  },
  {
   "cell_type": "code",
   "execution_count": 59,
   "metadata": {},
   "outputs": [
    {
     "ename": "AssertionError",
     "evalue": "My description on error",
     "output_type": "error",
     "traceback": [
      "\u001b[0;31m---------------------------------------------------------------------------\u001b[0m",
      "\u001b[0;31mAssertionError\u001b[0m                            Traceback (most recent call last)",
      "\u001b[0;32m<ipython-input-59-e55ac6eb3e71>\u001b[0m in \u001b[0;36m<module>\u001b[0;34m()\u001b[0m\n\u001b[1;32m      3\u001b[0m     \u001b[0;32massert\u001b[0m \u001b[0mn\u001b[0m \u001b[0;34m>\u001b[0m \u001b[0;36m1\u001b[0m\u001b[0;34m,\u001b[0m \u001b[0;34m\"My description on error\"\u001b[0m\u001b[0;34m\u001b[0m\u001b[0m\n\u001b[1;32m      4\u001b[0m \u001b[0;34m\u001b[0m\u001b[0m\n\u001b[0;32m----> 5\u001b[0;31m \u001b[0mtest_assert\u001b[0m\u001b[0;34m(\u001b[0m\u001b[0;36m1\u001b[0m\u001b[0;34m)\u001b[0m\u001b[0;34m\u001b[0m\u001b[0m\n\u001b[0m",
      "\u001b[0;32m<ipython-input-59-e55ac6eb3e71>\u001b[0m in \u001b[0;36mtest_assert\u001b[0;34m(n)\u001b[0m\n\u001b[1;32m      1\u001b[0m \u001b[0;32mdef\u001b[0m \u001b[0mtest_assert\u001b[0m\u001b[0;34m(\u001b[0m\u001b[0mn\u001b[0m\u001b[0;34m)\u001b[0m\u001b[0;34m:\u001b[0m\u001b[0;34m\u001b[0m\u001b[0m\n\u001b[1;32m      2\u001b[0m     \u001b[0;31m# ... Здесь какой-то код\u001b[0m\u001b[0;34m\u001b[0m\u001b[0;34m\u001b[0m\u001b[0m\n\u001b[0;32m----> 3\u001b[0;31m     \u001b[0;32massert\u001b[0m \u001b[0mn\u001b[0m \u001b[0;34m>\u001b[0m \u001b[0;36m1\u001b[0m\u001b[0;34m,\u001b[0m \u001b[0;34m\"My description on error\"\u001b[0m\u001b[0;34m\u001b[0m\u001b[0m\n\u001b[0m\u001b[1;32m      4\u001b[0m \u001b[0;34m\u001b[0m\u001b[0m\n\u001b[1;32m      5\u001b[0m \u001b[0mtest_assert\u001b[0m\u001b[0;34m(\u001b[0m\u001b[0;36m1\u001b[0m\u001b[0;34m)\u001b[0m\u001b[0;34m\u001b[0m\u001b[0m\n",
      "\u001b[0;31mAssertionError\u001b[0m: My description on error"
     ]
    }
   ],
   "source": [
    "def test_assert(n):\n",
    "    # ... Здесь какой-то код\n",
    "    assert n > 1, \"My description on error\"\n",
    "\n",
    "test_assert(1)"
   ]
  },
  {
   "cell_type": "markdown",
   "metadata": {},
   "source": [
    "Использование assert:\n",
    "* В корректной программе не срабатывает\n",
    "* Обычно не используется для проверки аргументов, их лучше обрабатывать с помощью обычных исключений\n",
    "* Отражают инварианты программы\n",
    "* Есть опция, отключающая их проверку для ускорения работы. Т.е., интепретатор проигнорирует их, отключит их. assert не надо опасаться писать в большом количестве\n",
    "\n",
    "Утилиты для проверки\n",
    "\n",
    "(Проверка кода без выполнения)\n",
    "* pep8.py\n",
    "* PyChecker\n",
    "* PyFlakes\n",
    "* pylint\n",
    "* (IDE PyCharm)"
   ]
  }
 ],
 "metadata": {
  "kernelspec": {
   "display_name": "Python 3",
   "language": "python",
   "name": "python3"
  },
  "language_info": {
   "codemirror_mode": {
    "name": "ipython",
    "version": 3
   },
   "file_extension": ".py",
   "mimetype": "text/x-python",
   "name": "python",
   "nbconvert_exporter": "python",
   "pygments_lexer": "ipython3",
   "version": "3.6.3"
  }
 },
 "nbformat": 4,
 "nbformat_minor": 2
}
