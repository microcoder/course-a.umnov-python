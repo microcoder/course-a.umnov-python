{
 "cells": [
  {
   "cell_type": "markdown",
   "metadata": {},
   "source": [
    "# Наследование. Работа с вебом\n",
    "\n",
    "Алексей Умнов https://www.youtube.com/watch?v=0wgAZL9yV0I  \n",
    "Слайды доступны по адресу: http://parallels.nsu.ru/~fat/Python/\n",
    "\n",
    "## Доступ к переопределенным методам\n",
    "\n",
    "В Python наследуются только методы от родительского класса, атрибуты объекта созданного от родительского класса унаследовать потомком нельзя (что вообщем-то логично):"
   ]
  },
  {
   "cell_type": "code",
   "execution_count": 3,
   "metadata": {},
   "outputs": [
    {
     "name": "stdout",
     "output_type": "stream",
     "text": [
      "a\n",
      "b\n"
     ]
    }
   ],
   "source": [
    "class A():\n",
    "    \n",
    "    def __init__(self):\n",
    "        # Создается атрибут у объекта, а не класса!!!\n",
    "        # Атрибут пренадлежит объекту вызвавшего этот метод\n",
    "        self.x = 'a'\n",
    "\n",
    "\n",
    "class B(A):\n",
    "    \n",
    "    def __init__(self):\n",
    "        # В Python версии 3.x в круглых скобках super() можно не писать класс, он сам его определяет автоматически\n",
    "        super(B, self).__init__() # Вызывается метод инициализации экземпляра класса (не класса!)\n",
    "        # A.__init__(self)        # Нежелаетельный способ\n",
    "        self.y = 'b'              # Создается атрибут у объекта, а не класса!!!\n",
    "\n",
    "\n",
    "\n",
    "b = B()\n",
    "\n",
    "print(b.x)\n",
    "print(b.y)"
   ]
  },
  {
   "cell_type": "markdown",
   "metadata": {},
   "source": [
    "Дополнение методов (extend):"
   ]
  },
  {
   "cell_type": "code",
   "execution_count": 4,
   "metadata": {},
   "outputs": [
    {
     "name": "stdout",
     "output_type": "stream",
     "text": [
      "6\n"
     ]
    }
   ],
   "source": [
    "class A():\n",
    "    \n",
    "    def f(self, a, b):\n",
    "        return a + b\n",
    "\n",
    "\n",
    "class B(A):\n",
    "\n",
    "    # Это переопределенный метод. В Python не существует перегрузки методов!\n",
    "    # Расширяется (совершенствуется) базовый метод 'f' родительского класса 'A':\n",
    "    def f(self, a, b):\n",
    "        return super(B, self).f(a, b) * 2\n",
    "        # return super().f(a, b) * 2 # Аналогично для Python версии > 3.х\n",
    "\n",
    "\n",
    "\n",
    "b = B()\n",
    "print(b.f(1, 2))"
   ]
  },
  {
   "cell_type": "markdown",
   "metadata": {},
   "source": [
    "## Множественное наследование\n",
    "\n",
    "#### Ромбовидное наследование"
   ]
  },
  {
   "cell_type": "code",
   "execution_count": 5,
   "metadata": {},
   "outputs": [],
   "source": [
    "class X():\n",
    "    pass\n",
    "\n",
    "class A(X):\n",
    "    pass\n",
    "\n",
    "class B(X):\n",
    "    pass\n",
    "\n",
    "class C(A, B):\n",
    "    pass"
   ]
  },
  {
   "cell_type": "markdown",
   "metadata": {},
   "source": [
    "Порядок разрешения имен? Ответ:\n",
    "\n",
    "**MRO** - **M**ethod **R**esolution **O**rder\n",
    "\n",
    "Используется алгоритм C3-линеаризации. В случае ромбовидного наследования, порядок получается следующий: \n",
    "````\n",
    "C0 -> A1 -> B2 -> X3\n",
    "````\n",
    "\n",
    "В Python существует метод `mro()`, который отображает иерархию наследования, порядок в котором методы классов будут вызываться:"
   ]
  },
  {
   "cell_type": "code",
   "execution_count": 6,
   "metadata": {},
   "outputs": [
    {
     "data": {
      "text/plain": [
       "[__main__.A,\n",
       " __main__.B,\n",
       " __main__.C,\n",
       " __main__.D,\n",
       " __main__.E,\n",
       " __main__.F,\n",
       " object]"
      ]
     },
     "execution_count": 6,
     "metadata": {},
     "output_type": "execute_result"
    }
   ],
   "source": [
    "class F():\n",
    "    pass\n",
    "\n",
    "class E():\n",
    "    pass\n",
    "\n",
    "class D():\n",
    "    pass\n",
    "\n",
    "class C(D, F):\n",
    "    pass\n",
    "\n",
    "class B(D, E):\n",
    "    pass\n",
    "\n",
    "class A(B, C):\n",
    "    pass\n",
    "\n",
    "\n",
    "A.mro()"
   ]
  },
  {
   "cell_type": "markdown",
   "metadata": {},
   "source": [
    "Пример, доступ к переопределенным методам:"
   ]
  },
  {
   "cell_type": "code",
   "execution_count": 7,
   "metadata": {},
   "outputs": [
    {
     "name": "stdout",
     "output_type": "stream",
     "text": [
      "Method of B class\n"
     ]
    },
    {
     "data": {
      "text/plain": [
       "3"
      ]
     },
     "execution_count": 7,
     "metadata": {},
     "output_type": "execute_result"
    }
   ],
   "source": [
    "class C():\n",
    "    \n",
    "    def f(self, a, b):\n",
    "        print('Method of C class')\n",
    "        return a + b\n",
    "\n",
    "\n",
    "class B():\n",
    "    \n",
    "    def f(self, a, b):\n",
    "        print('Method of B class')\n",
    "        return a + b\n",
    "\n",
    "\n",
    "class A(B, C): # Важность порядка наследования\n",
    "    \n",
    "    def f(self, a, b):\n",
    "        # Python сам определяет к какому методу какого класса обратиться по порядку наследования классов.\n",
    "        return super().f(1, 2) # Сначала, вызываемый метод будет искаться в классе B, а затем в классе C\n",
    "\n",
    "\n",
    "\n",
    "a = A()\n",
    "a.f(1, 2)"
   ]
  },
  {
   "cell_type": "markdown",
   "metadata": {},
   "source": [
    "## Работа с интернет-ресурсами\n",
    "\n",
    "Библиотека `urllib` для Python v3.x, для Python v2.x - `urllib2`"
   ]
  },
  {
   "cell_type": "code",
   "execution_count": 12,
   "metadata": {},
   "outputs": [
    {
     "name": "stdout",
     "output_type": "stream",
     "text": [
      "real_url = https://yandex.ru\n",
      "http_code = 200\n",
      "data =  <!DOCTYPE html><html class=\"i-ua_js_no i-ua_css_standart i-ua_browser_ i-ua_browser_desktop i-ua_platform_other\" lang=\"ru\"><head xmlns:og=\"http://ogp.me/ns#\"><meta http-equiv=\"X-UA-Compatible\" content=\"IE=edge\"><title>Яндекс</title><link rel=\"shortcut icon\" href=\"//yastatic.net/iconostasis/_/8lFaTHLDzmsEZz-5XaQg9iTWZGE.png\"><meta http-equiv=Content-Type content=\"text/html;charset=UTF-8\"><link rel=\"apple-touch-icon\" href=\"//yastatic.net/iconostasis/_/5mdPq4V7ghRgzBvMkCaTzd2fjYg.png\" sizes=\"76x76\"\n"
     ]
    }
   ],
   "source": [
    "from urllib.request import urlopen\n",
    "\n",
    "with urlopen('https://yandex.ru') as conn:\n",
    "    data = conn.read()\n",
    "    html = data.decode('utf-8') # Из байтов получаем unicode текст\n",
    "    print('real_url =', conn.geturl())\n",
    "    # print('conn_info =', conn.info())\n",
    "    print('http_code =', conn.getcode())\n",
    "    print('data = ', html[:500])"
   ]
  },
  {
   "cell_type": "markdown",
   "metadata": {},
   "source": [
    "Кодирование ссылок:"
   ]
  },
  {
   "cell_type": "code",
   "execution_count": 13,
   "metadata": {},
   "outputs": [
    {
     "name": "stdout",
     "output_type": "stream",
     "text": [
      "id=1&q=hello%21\n"
     ]
    }
   ],
   "source": [
    "from urllib.parse import urlencode\n",
    "\n",
    "try:\n",
    "    url = urlencode((('id', 1), ('q', 'hello!')))  # можно передать кортеж кортежей\n",
    "    url = urlencode({'id': 1, 'q': 'hello!'})      # или словарь\n",
    "    print(url)                                     # id=1&q=hello%21\n",
    "except TypeError as e:\n",
    "    print('Exception:', e)"
   ]
  },
  {
   "cell_type": "markdown",
   "metadata": {},
   "source": [
    "## Обработка XML и HTML\n",
    "\n",
    "Дерево элементов HTML:"
   ]
  },
  {
   "cell_type": "code",
   "execution_count": null,
   "metadata": {},
   "outputs": [],
   "source": [
    "# %load sample.html\n",
    "<html>\n",
    "    <head>\n",
    "        <title>Page title</title>\n",
    "    </head>\n",
    "    <body>\n",
    "        <b>important</b>\n",
    "        <br />\n",
    "        <p id=\"main\">\n",
    "            Some text\n",
    "            Text line 2\n",
    "        </p>\n",
    "    </body>\n",
    "</html>\n"
   ]
  },
  {
   "cell_type": "markdown",
   "metadata": {},
   "source": [
    "Библиотека `xml.etree.ElementTree`:"
   ]
  },
  {
   "cell_type": "code",
   "execution_count": 23,
   "metadata": {},
   "outputs": [
    {
     "name": "stdout",
     "output_type": "stream",
     "text": [
      "2 <class 'xml.etree.ElementTree.Element'>\n",
      "<class 'xml.etree.ElementTree.Element'>\n",
      "p\n",
      "{'id': 'main'}\n",
      "\n",
      "            Some text\n",
      "            Text line 2\n",
      "        \n"
     ]
    }
   ],
   "source": [
    "import xml.etree.ElementTree as ET\n",
    "\n",
    "tree = ET.parse('sample.html')\n",
    "root = tree.getroot()\n",
    "\n",
    "print(len(root), type(root))  # len = 2 элемента, тип = <class 'xml.etree.ElementTree.Element'>\n",
    "\n",
    "# Этот тип умеет притворятся быть списком через переопределение квадратных скобок:\n",
    "par = root[1][2]       # <body> --> <p>\n",
    "print(type(par))       # <class 'xml.etree.ElementTree.Element'>\n",
    "print(par.tag)         # p\n",
    "print(par.attrib)      # {'id': 'main'}\n",
    "print(par.text)        # Some text"
   ]
  },
  {
   "cell_type": "markdown",
   "metadata": {},
   "source": [
    "Еще пример обхода дерева элементов:"
   ]
  },
  {
   "cell_type": "code",
   "execution_count": 24,
   "metadata": {},
   "outputs": [
    {
     "name": "stdout",
     "output_type": "stream",
     "text": [
      "['\\n            Some text\\n            Text line 2\\n        ']\n"
     ]
    }
   ],
   "source": [
    "body = None\n",
    "\n",
    "for child in root:     # Так как объект root может претворятся списком, то мы можем пройтись по нему циклом\n",
    "    if child.tag == 'body':\n",
    "        body = child   # child это объект\n",
    "        break\n",
    "\n",
    "texts = []\n",
    "\n",
    "for child in body:     # Цикл по объектам в объекте body\n",
    "    if(child.tag == 'p' and 'id' in child.attrib and child.attrib['id'] == 'main'):\n",
    "        texts.append(child.text)\n",
    "\n",
    "print(texts)"
   ]
  },
  {
   "cell_type": "markdown",
   "metadata": {},
   "source": [
    "Но так делать, как выше не обязательно, есть специальный язык запросов дерева XML, это XPath:"
   ]
  },
  {
   "cell_type": "code",
   "execution_count": 25,
   "metadata": {},
   "outputs": [
    {
     "name": "stdout",
     "output_type": "stream",
     "text": [
      "[<Element 'html' at 0x7f55ec0494a8>]\n"
     ]
    }
   ],
   "source": [
    "print(root.findall('.')) # Текущее поддерево"
   ]
  },
  {
   "cell_type": "markdown",
   "metadata": {},
   "source": [
    "Все элементы, которые можно получить из текущего поддерева, встретив на пути теги `<body>` и `<b>`:"
   ]
  },
  {
   "cell_type": "code",
   "execution_count": 27,
   "metadata": {},
   "outputs": [
    {
     "name": "stdout",
     "output_type": "stream",
     "text": [
      "[<Element 'b' at 0x7f55ec0497c8>]\n"
     ]
    }
   ],
   "source": [
    "print(root.findall('./body/b'))"
   ]
  },
  {
   "cell_type": "markdown",
   "metadata": {},
   "source": [
    "Все элементы, которые можно получить из текущего поддерева, встретив на пути любые теги (//), а затем теги `<p>` и `<span>`:"
   ]
  },
  {
   "cell_type": "code",
   "execution_count": 28,
   "metadata": {},
   "outputs": [
    {
     "name": "stdout",
     "output_type": "stream",
     "text": [
      "[]\n"
     ]
    }
   ],
   "source": [
    "print(root.findall('.//p/span'))"
   ]
  },
  {
   "cell_type": "markdown",
   "metadata": {},
   "source": [
    "Все элементы, которые можно получить из текущего поддерева, встретив на пути любые теги (//), а затем теги `<p>` и с атрибутом `id` равным `main`:"
   ]
  },
  {
   "cell_type": "code",
   "execution_count": 29,
   "metadata": {},
   "outputs": [
    {
     "name": "stdout",
     "output_type": "stream",
     "text": [
      "[<Element 'p' at 0x7f55ec049868>]\n"
     ]
    }
   ],
   "source": [
    "print(root.findall('.//p[@id=\"main\"]'))"
   ]
  },
  {
   "cell_type": "markdown",
   "metadata": {},
   "source": [
    "`xml.tree` плохо работает со \"сломанным\" HTML (Почти любая HTML-страница - \"сломанный\" XML), т.е. могут быть не закрыты теги или что-то где-то не так поставили и `xml.tree` такое не допускает, он работает только с правильным кодом.\n",
    "\n",
    "Альтернативы (не в стандартной библиотеке):\n",
    "* **lxml** - lxml.html имеет тот же синтакис, что и xml.tree, но может работать с HTML\n",
    "* **BeautifulSoup**"
   ]
  },
  {
   "cell_type": "markdown",
   "metadata": {},
   "source": [
    "## HTML Parser\n",
    "\n",
    "Предыдущие примеры нежелательно использовать для больших документов XML, так как они для того чтобы построить дерево, загружают весь документ в память. Для этого есть библиотеки которые не загружают его полностью в память, а\n",
    "последовательно просматривают его какие-то части:\n",
    "\n",
    "````python\n",
    "from html.parser import HTMLParser\n",
    "\n",
    "class MyHTMLParser(HTMLParser):\n",
    "\n",
    "   # HTMLParser бежит по документу и вызывает события соответствующие переопределенным методам handle_*\n",
    "   def handle_starttag(self, tag, attrs):\n",
    "       print('Start tag:', tag, attrs)\n",
    "\n",
    "   def handle_endtag(self, tag):\n",
    "       print('End tag:', tag)\n",
    "   \n",
    "   def handle_data(self, data):\n",
    "       text = data.strip()\n",
    "       if text:\n",
    "           print('Data:', text)\n",
    "\n",
    "\n",
    "parser = MyHTMLParser()\n",
    "parser.feed(html)\n",
    "````\n",
    "\n",
    "Пример программы:\n",
    "\n",
    "````python\n",
    "from html.parser import HTMLParser\n",
    "\n",
    "class MainTextParser(HTMLParser):\n",
    "\n",
    "   def __init__(self):\n",
    "       super().__init__(self)\n",
    "       self.main_text = False\n",
    "   \n",
    "   # HTMLParser бежит по документу и вызывает события соответствующие переопределенным методам handle_*\n",
    "   def handle_starttag(self, tag, attrs):\n",
    "       if(tag == 'p' and any([(k,v) == ('id', 'main') for k, v in attrs])):\n",
    "           self.main_text = True\n",
    "   \n",
    "   def handle_endtag(self, tag):\n",
    "       if self.main_text and tag == 'p':\n",
    "           self.main_text = False\n",
    "   \n",
    "   def handle_data(self, data):\n",
    "       if self.main_text:\n",
    "           print(data)\n",
    "````"
   ]
  }
 ],
 "metadata": {
  "kernelspec": {
   "display_name": "Python 3",
   "language": "python",
   "name": "python3"
  },
  "language_info": {
   "codemirror_mode": {
    "name": "ipython",
    "version": 3
   },
   "file_extension": ".py",
   "mimetype": "text/x-python",
   "name": "python",
   "nbconvert_exporter": "python",
   "pygments_lexer": "ipython3",
   "version": "3.6.3"
  }
 },
 "nbformat": 4,
 "nbformat_minor": 2
}
