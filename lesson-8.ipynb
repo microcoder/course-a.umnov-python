{
 "cells": [
  {
   "cell_type": "markdown",
   "metadata": {},
   "source": [
    "# Элементы профессионального программирования\n",
    "\n",
    "Алексей Умнов https://www.youtube.com/watch?v=n6PgUI-TUMU  \n",
    "Слайды доступны по адресу: http://parallels.nsu.ru/~fat/Python/\n",
    "\n",
    "## Итераторы. Введение\n",
    "\n",
    "Зачем нужны интераторы?\n",
    "\n",
    "````python\n",
    "for i in range(10 ** 6): # от 0 до 1 000 000\n",
    "    ...\n",
    "````\n",
    "\n",
    "* В памяти будет хранится список из миллиона чисел которые нагенерит функция `range()` и это плохо\n",
    "* Можно обойтись двумя числами:\n",
    "  * Неудобный способ:\n",
    "  ````python\n",
    "  end = 10 ** 6\n",
    "  i = 0\n",
    "  while i < end:\n",
    "    ...\n",
    "    i += 1\n",
    "  ````\n",
    "  * Правильный способ, использовать xrange() (для Python v2.x):\n",
    "  ````python\n",
    "  for i in xrange(10 ** 6):\n",
    "    ...\n",
    "  ````\n",
    "\n",
    "| Python 2 | Python 3 |\n",
    "|----------|----------|\n",
    "| range    | ---      |\n",
    "| xrange   | range    |\n",
    "\n",
    "Далее рассмотрим:\n",
    "* Как работает функция `xrange()` и как она взаимодействует с циклом `for`?\n",
    "* Где можно использовать итераторы?\n",
    "* Как создавать итераторы?\n",
    "\n",
    "## Функции-Генераторы\n",
    "\n",
    "Наличие ключевого слова `yield` внутри функции говорит о том, что данная функция является не обычной функцией, а функцией генераторов. Функция превращается в такой объект, у которого результат что-то вроде списка, при чём `yield` здесь является некоторым аналогом `return`, оно вроде как возвращает очередное значение, но не совсем возвращает, а так сказать добавляет в список элементы которые нужно вернуть из функции.\n",
    "\n",
    "Если использован оператор `yield`, то уже нельзя использовать обычный оператор `return`, потому что Python функцию сильно изменяет и она теперь возвращает не конкретное какое-то одно значение, а объект, который по очереди передает вот эти три значения, например, которые вы передали в `yield`:"
   ]
  },
  {
   "cell_type": "code",
   "execution_count": 1,
   "metadata": {},
   "outputs": [
    {
     "name": "stdout",
     "output_type": "stream",
     "text": [
      "1\n",
      "abc\n",
      "[1, 2, 3]\n"
     ]
    }
   ],
   "source": [
    "def g():\n",
    "    yield 1\n",
    "    yield 'abc'\n",
    "    yield [1, 2, 3]\n",
    "\n",
    "for x in g(): # Будет 3 итерации по функции 'g'\n",
    "    print(x)"
   ]
  },
  {
   "cell_type": "markdown",
   "metadata": {},
   "source": [
    "Пример генератора `range`:"
   ]
  },
  {
   "cell_type": "code",
   "execution_count": 2,
   "metadata": {},
   "outputs": [
    {
     "name": "stdout",
     "output_type": "stream",
     "text": [
      "<generator object myrange at 0x7f20dcadfa40>\n",
      "[0, 2, 4, 6, 8]\n"
     ]
    }
   ],
   "source": [
    "def myrange(begin, end, step):\n",
    "    while begin < end:\n",
    "        yield begin      # Итератор. При каждом обращении к функции myrange() вернет следующее значение\n",
    "        begin += step\n",
    "\n",
    "x = myrange(0, 10, 2) # Функция не запускается, а создается объект типа generator\n",
    "print(x)              # <generator object myrange at 0x7fe7cbb9c048>\n",
    "print(list(x))        # [0, 2, 4, 6, 8]"
   ]
  },
  {
   "cell_type": "code",
   "execution_count": 4,
   "metadata": {},
   "outputs": [
    {
     "name": "stdout",
     "output_type": "stream",
     "text": [
      "0\n",
      "2\n",
      "4\n",
      "6\n",
      "8\n"
     ]
    }
   ],
   "source": [
    "x = myrange(0, 10, 2) # Функция не запускается, а создается объект типа generator\n",
    "for i in x:\n",
    "    print(i)"
   ]
  },
  {
   "cell_type": "markdown",
   "metadata": {},
   "source": [
    "### Схема работы генераторов\n",
    "\n",
    "Вызов функции-генератора:\n",
    "* Позиция = начало функции\n",
    "\n",
    "Необходимость отдать очередной элемент:\n",
    "* Начать исполнение функции с текущей позиции\n",
    "* Если встретился оператор yield\n",
    " * Отдать аргумент оператора yield\n",
    " * Остановить исполнение\n",
    " * Запомнить текущую позицию\n",
    "* Иначе сообщить, что больше элементов нет"
   ]
  },
  {
   "cell_type": "markdown",
   "metadata": {},
   "source": [
    "### Генератор random_length_repeat()\n",
    "\n",
    "Пример генерации случайного количества размножения объектов:"
   ]
  },
  {
   "cell_type": "code",
   "execution_count": 11,
   "metadata": {},
   "outputs": [
    {
     "data": {
      "text/plain": [
       "['a', 'a', 'a', 'a', 'a', 'a']"
      ]
     },
     "execution_count": 11,
     "metadata": {},
     "output_type": "execute_result"
    }
   ],
   "source": [
    "import random\n",
    "\n",
    "def random_length_repeat(obj, i): # Итерируемая функция-генератор\n",
    "    while True:\n",
    "        if random.random() < i:\n",
    "            break\n",
    "        yield obj\n",
    "\n",
    "list(random_length_repeat('a', 0.2)) # Создается переменое число элементов"
   ]
  },
  {
   "cell_type": "code",
   "execution_count": 18,
   "metadata": {},
   "outputs": [
    {
     "data": {
      "text/plain": [
       "['a', 'a', 'a', 'a', 'a', 'a']"
      ]
     },
     "execution_count": 18,
     "metadata": {},
     "output_type": "execute_result"
    }
   ],
   "source": [
    "list(random_length_repeat('a', 0.2))"
   ]
  },
  {
   "cell_type": "code",
   "execution_count": 20,
   "metadata": {},
   "outputs": [
    {
     "data": {
      "text/plain": [
       "['a', 'a', 'a', 'a']"
      ]
     },
     "execution_count": 20,
     "metadata": {},
     "output_type": "execute_result"
    }
   ],
   "source": [
    "[x for x in random_length_repeat('a', 0.2)]"
   ]
  },
  {
   "cell_type": "code",
   "execution_count": 16,
   "metadata": {},
   "outputs": [
    {
     "data": {
      "text/plain": [
       "['aa', 'aa', 'aa', 'aa', 'aa', 'aa', 'aa', 'aa', 'aa', 'aa', 'aa', 'aa']"
      ]
     },
     "execution_count": 16,
     "metadata": {},
     "output_type": "execute_result"
    }
   ],
   "source": [
    "[x * 2 for x in random_length_repeat('a', 0.2)]"
   ]
  },
  {
   "cell_type": "markdown",
   "metadata": {},
   "source": [
    "### Списковое выражение"
   ]
  },
  {
   "cell_type": "code",
   "execution_count": 21,
   "metadata": {},
   "outputs": [
    {
     "data": {
      "text/plain": [
       "[0, 1, 2, 3, 4]"
      ]
     },
     "execution_count": 21,
     "metadata": {},
     "output_type": "execute_result"
    }
   ],
   "source": [
    "[x for x in range(5)]"
   ]
  },
  {
   "cell_type": "markdown",
   "metadata": {},
   "source": [
    "### Генераторное выражение\n",
    "\n",
    "Передается как генератор. Можно передавать в другую функцию как аргумент, вместо готового списка и итерировать с помощью цикла `for`:"
   ]
  },
  {
   "cell_type": "code",
   "execution_count": 22,
   "metadata": {},
   "outputs": [
    {
     "data": {
      "text/plain": [
       "<generator object <genexpr> at 0x7f20dcadfa40>"
      ]
     },
     "execution_count": 22,
     "metadata": {},
     "output_type": "execute_result"
    }
   ],
   "source": [
    "(x for x in range(5))"
   ]
  },
  {
   "cell_type": "markdown",
   "metadata": {},
   "source": [
    "### Упрощенное генераторное выражение\n",
    "\n",
    "Передается как генератор. Круглые скобки не обязательны, это эквивалентно предыдущему примеру:"
   ]
  },
  {
   "cell_type": "code",
   "execution_count": 24,
   "metadata": {},
   "outputs": [
    {
     "name": "stdout",
     "output_type": "stream",
     "text": [
      "<generator object <genexpr> at 0x7f20dcadffc0>\n"
     ]
    }
   ],
   "source": [
    "print(x for x in range(5))"
   ]
  },
  {
   "cell_type": "markdown",
   "metadata": {},
   "source": [
    "## Итераторы. Теория\n",
    "\n",
    "Последвательность (sequence) - упорядочненный набор объектов, к элементам которого можно обращаться по индексу.\n",
    "\n",
    "Должны быть определены операции:\n",
    "* `__len__`\n",
    "* `__getitem__` (для индексов)\n",
    "\n",
    "Примеры последовательностей:\n",
    "* list\n",
    "* tuple\n",
    "* str\n",
    "\n",
    "Цикл `for` для последовательностей. Что имитируем:\n",
    "\n",
    "  ````python\n",
    "   for x in sequence:\n",
    "     action(x)\n",
    "  ````\n",
    "\n",
    "Имитация цикла `for` с последоательностью:\n",
    "\n",
    "````python\n",
    "def for_sequence(sequence, action):\n",
    "    length = len(sequence)\n",
    "    i = 0\n",
    "    while i < length:\n",
    "        x = sequence[i]\n",
    "        action(x)\n",
    "        i += 1\n",
    "````\n",
    "\n",
    "## Итерируемые и итераторы\n",
    "\n",
    "Итерируемое (iterable) - упорядочненный набор объектов, элементы которого можно получать по одному. Должна быть определена операция `__iter__` (возвращает итератор).\n",
    "\n",
    "Итератор (iterator) - объект, представляющий поток данных. Должна быть определена операция `__next__` (возвращает очередной объект). Окончание потока: исключение `StopIteration`.\n",
    "\n",
    "Цикл `for` для **iterable**. Что имитируем:\n",
    "\n",
    "````python\n",
    "for x in iterable:\n",
    "    action(x)\n",
    "````\n",
    "\n",
    "Имитация цикла `for` с итерируемым объектом:\n",
    "\n",
    "````python\n",
    "def for_iterable(iterable, action):\n",
    "    iterator = iter(iterable) # Встроенная функция iter обращается к методу объекта __iter__\n",
    "    try:\n",
    "        while True:\n",
    "            x = next(iterator) # Встроенная функция next обращается к методу объекта __next__\n",
    "            action(x)\n",
    "    exception StopIteration:\n",
    "        pass\n",
    "````\n",
    "\n",
    "Пример итератора и интерируемого объекта:\n",
    "\n",
    "### Код для Iterator (Итератор)"
   ]
  },
  {
   "cell_type": "code",
   "execution_count": 25,
   "metadata": {},
   "outputs": [],
   "source": [
    "class MyRangeIterator():\n",
    "\n",
    "    def __init__(self, end):\n",
    "        self.end = end\n",
    "        self.current = 0\n",
    "\n",
    "    def __next__(self):\n",
    "        if self.current == self.end:\n",
    "            # Исключение можно кидать, а можно не кидать, чтобы сделать бесконечный итератор-генератор:\n",
    "            raise StopIteration()\n",
    "        result = self.current\n",
    "        self.current += 1\n",
    "        return result"
   ]
  },
  {
   "cell_type": "markdown",
   "metadata": {},
   "source": [
    "### Код для Iterable (Итерируемое)"
   ]
  },
  {
   "cell_type": "code",
   "execution_count": 26,
   "metadata": {},
   "outputs": [],
   "source": [
    "class MyRange():\n",
    "\n",
    "    def __init__(self, end):\n",
    "        self.end = end\n",
    "\n",
    "    def __iter__(self):\n",
    "        # А можно вернуть здесь self и в этом классе реализовать метод __next__,\n",
    "        # тогда будет Итерируемое + Итератор в одном\n",
    "        return MyRangeIterator(self.end)"
   ]
  },
  {
   "cell_type": "markdown",
   "metadata": {},
   "source": [
    "### Использование итератора для итерируемого"
   ]
  },
  {
   "cell_type": "code",
   "execution_count": 28,
   "metadata": {},
   "outputs": [
    {
     "name": "stdout",
     "output_type": "stream",
     "text": [
      "0\n",
      "1\n",
      "2\n",
      "3\n",
      "4\n"
     ]
    }
   ],
   "source": [
    "x = MyRange(5)\n",
    "\n",
    "for i in x:\n",
    "    print(i)"
   ]
  },
  {
   "cell_type": "markdown",
   "metadata": {},
   "source": [
    "Каждый вызов, `list` видит, что это итерируемое, вызывает у него функцию `__iter__`, чтобы получить итератор\n",
    "и каким-то внутренним циклом `for` по итератору проходится и все элементы из него извлекаются. Два вызова `list(x)` они совершенно независимы, каждый из них создает свой итератор от 0 до 4:"
   ]
  },
  {
   "cell_type": "code",
   "execution_count": 31,
   "metadata": {},
   "outputs": [
    {
     "data": {
      "text/plain": [
       "[0, 1, 2, 3, 4]"
      ]
     },
     "execution_count": 31,
     "metadata": {},
     "output_type": "execute_result"
    }
   ],
   "source": [
    "list(x)"
   ]
  },
  {
   "cell_type": "code",
   "execution_count": 32,
   "metadata": {},
   "outputs": [
    {
     "data": {
      "text/plain": [
       "[0, 1, 2, 3, 4]"
      ]
     },
     "execution_count": 32,
     "metadata": {},
     "output_type": "execute_result"
    }
   ],
   "source": [
    "list(x)"
   ]
  },
  {
   "cell_type": "markdown",
   "metadata": {},
   "source": [
    "А генераторы ведут себя не так. Вызовом `myrange(0, 5, 1)` создается новый объект типа `generator` и присваивается переменной `y`:"
   ]
  },
  {
   "cell_type": "code",
   "execution_count": 37,
   "metadata": {},
   "outputs": [
    {
     "data": {
      "text/plain": [
       "[0, 1, 2, 3, 4]"
      ]
     },
     "execution_count": 37,
     "metadata": {},
     "output_type": "execute_result"
    }
   ],
   "source": [
    "def myrange(begin, end, step):\n",
    "    while begin < end:\n",
    "        yield begin      # Итератор. При каждом обращении к функции myrange() вернет следующее значение\n",
    "        begin += step\n",
    "\n",
    "\n",
    "y = myrange(0, 5, 1)\n",
    "\n",
    "list(y)"
   ]
  },
  {
   "cell_type": "markdown",
   "metadata": {},
   "source": [
    "Возвращает пустой список. Истощение генератора. Генератор проходится по элементам только 1 раз:"
   ]
  },
  {
   "cell_type": "code",
   "execution_count": 38,
   "metadata": {},
   "outputs": [
    {
     "data": {
      "text/plain": [
       "[]"
      ]
     },
     "execution_count": 38,
     "metadata": {},
     "output_type": "execute_result"
    }
   ],
   "source": [
    "list(y)"
   ]
  },
  {
   "cell_type": "markdown",
   "metadata": {},
   "source": [
    "Однако, если вызвать генератор не через переменную, т.е., каждый раз создавая новый объект, то данные будут возвращаться. Создается новый объект типа `generator`, поэтому генератор не истощается:"
   ]
  },
  {
   "cell_type": "code",
   "execution_count": 39,
   "metadata": {},
   "outputs": [
    {
     "data": {
      "text/plain": [
       "[0, 1, 2, 3, 4]"
      ]
     },
     "execution_count": 39,
     "metadata": {},
     "output_type": "execute_result"
    }
   ],
   "source": [
    "list(myrange(0, 5, 1))"
   ]
  },
  {
   "cell_type": "code",
   "execution_count": 40,
   "metadata": {},
   "outputs": [
    {
     "data": {
      "text/plain": [
       "[0, 1, 2, 3, 4]"
      ]
     },
     "execution_count": 40,
     "metadata": {},
     "output_type": "execute_result"
    }
   ],
   "source": [
    "list(myrange(0, 5, 1))"
   ]
  },
  {
   "cell_type": "markdown",
   "metadata": {},
   "source": [
    "Итерируемые и истощение:\n",
    "\n",
    "* Последовательность - list, tuple, str, ...\n",
    "  * Итерируемое\n",
    "  * Не истощается\n",
    "\n",
    "* Итерируемое, но не последовательность может:\n",
    "  * Истощаться (генераторы)\n",
    "  * Не истощаться (xrange или range в Python 3)\n",
    "\n",
    "* Итератор\n",
    "  * Итерируемое\n",
    "  * Истощается\n",
    "\n",
    "Итерируемость итераторов:\n",
    "\n",
    "`x` - итератор\n",
    "  * `iter(x)` - возвращает `x`\n",
    "  * `x` истощается"
   ]
  },
  {
   "cell_type": "markdown",
   "metadata": {},
   "source": [
    "Пример использования в функции. Правда ли, что все элементы в нем равны? :)  \n",
    "Не самый простой способ, можно сделать по другому, но мне хочется так:\n",
    "\n",
    "````python\n",
    "def all_equal(iterable):\n",
    "    iterator = iter(iterable)\n",
    "    first_element = next(iterator)\n",
    "    for element in iterator:\n",
    "        if element != first_element:\n",
    "            return False\n",
    "        return True\n",
    "````\n",
    "\n",
    "В примере есть логическая ошибка. Что будет, если `iterable` пустой или с одним элементом?\n",
    "\n",
    "## Инструменты функционального программирования\n",
    "\n",
    "### Функция map()\n",
    "\n",
    "`map(func, iterable)`\n",
    "* Применяет `func` ко всем элементам `iterable`\n",
    "* Возвращает список результатов"
   ]
  },
  {
   "cell_type": "code",
   "execution_count": 41,
   "metadata": {},
   "outputs": [
    {
     "data": {
      "text/plain": [
       "['1', '2', '3']"
      ]
     },
     "execution_count": 41,
     "metadata": {},
     "output_type": "execute_result"
    }
   ],
   "source": [
    "x = map(str, [1, 2, 3]) # Применяет ко всем элементам списка функцию str()\n",
    "\n",
    "list(x)"
   ]
  },
  {
   "cell_type": "markdown",
   "metadata": {},
   "source": [
    "`map(lambda, списковое выражение)`:"
   ]
  },
  {
   "cell_type": "code",
   "execution_count": 42,
   "metadata": {},
   "outputs": [
    {
     "data": {
      "text/plain": [
       "[2, 3, 4]"
      ]
     },
     "execution_count": 42,
     "metadata": {},
     "output_type": "execute_result"
    }
   ],
   "source": [
    "x = map(lambda x: x + 1, [1, 2, 3])\n",
    "\n",
    "list(x)"
   ]
  },
  {
   "cell_type": "markdown",
   "metadata": {},
   "source": [
    "Но лучше использовать аналогичную запись, вместо функции `map()`, чтобы было меньше ключевых слов (`map`, `lambda`, `list`, ...), лучше было читать:"
   ]
  },
  {
   "cell_type": "code",
   "execution_count": 43,
   "metadata": {},
   "outputs": [
    {
     "name": "stdout",
     "output_type": "stream",
     "text": [
      "[2, 3, 4]\n"
     ]
    }
   ],
   "source": [
    "x = [x + 1 for x in [1, 2, 3]]\n",
    "\n",
    "print(x)"
   ]
  },
  {
   "cell_type": "markdown",
   "metadata": {},
   "source": [
    "Еще примеры для `map()`:\n",
    "\n",
    "Пользователь вводит числа: `1 2 3 4 5`:"
   ]
  },
  {
   "cell_type": "code",
   "execution_count": 45,
   "metadata": {},
   "outputs": [
    {
     "name": "stdout",
     "output_type": "stream",
     "text": [
      "Введите несколько чисел через пробел и нажмите <Enter>: 1 2 3 4 5\n",
      "Результат: [1, 2, 3, 4, 5]\n"
     ]
    }
   ],
   "source": [
    "numbers = map(int, input(\"Введите несколько чисел через пробел и нажмите <Enter>: \").split())\n",
    "\n",
    "print('Результат:', list(numbers)) # Все введенные пользователем числа преобразованы к типу int"
   ]
  },
  {
   "cell_type": "markdown",
   "metadata": {},
   "source": [
    "Аналогично можно было бы использовать списковый генератор:"
   ]
  },
  {
   "cell_type": "code",
   "execution_count": 46,
   "metadata": {},
   "outputs": [
    {
     "name": "stdout",
     "output_type": "stream",
     "text": [
      "Введите несколько чисел через пробел и нажмите <Enter>: 1 2 3 4 5\n",
      "[1, 2, 3, 4, 5]\n"
     ]
    }
   ],
   "source": [
    "x = [int(x) for x in input(\"Введите несколько чисел через пробел и нажмите <Enter>: \").split()]\n",
    "\n",
    "print(x)"
   ]
  },
  {
   "cell_type": "markdown",
   "metadata": {},
   "source": [
    "Подсчет длин слов в тексте:"
   ]
  },
  {
   "cell_type": "code",
   "execution_count": 47,
   "metadata": {},
   "outputs": [
    {
     "name": "stdout",
     "output_type": "stream",
     "text": [
      "<map object at 0x7f20dc2376a0>\n",
      "[3, 5, 3, 5]\n"
     ]
    }
   ],
   "source": [
    "text = 'Dog barks cat meows'\n",
    "\n",
    "x = map(len, text.split())\n",
    "\n",
    "print(x)\n",
    "print(list(x))"
   ]
  },
  {
   "cell_type": "markdown",
   "metadata": {},
   "source": [
    "`map` - итерируемое, можно использовать цикл:"
   ]
  },
  {
   "cell_type": "code",
   "execution_count": 49,
   "metadata": {},
   "outputs": [
    {
     "name": "stdout",
     "output_type": "stream",
     "text": [
      "3\n",
      "5\n",
      "3\n",
      "5\n"
     ]
    }
   ],
   "source": [
    "x = map(len, text.split())\n",
    "\n",
    "for i in x:\n",
    "    print(i)"
   ]
  },
  {
   "cell_type": "markdown",
   "metadata": {},
   "source": [
    "### Функция enumerate()\n",
    "\n",
    "enumerate(iterable)\n",
    "* Нумерует элементы в iterable\n",
    "* Возвращает истощаемый iterable"
   ]
  },
  {
   "cell_type": "code",
   "execution_count": 50,
   "metadata": {},
   "outputs": [
    {
     "name": "stdout",
     "output_type": "stream",
     "text": [
      "0 a\n",
      "1 b\n",
      "2 c\n"
     ]
    }
   ],
   "source": [
    "for i, e in enumerate(['a', 'b', 'c']):\n",
    "    print(i, e)"
   ]
  },
  {
   "cell_type": "markdown",
   "metadata": {},
   "source": [
    "### Функция filter()\n",
    "\n",
    "filter(func, iterable)\n",
    "* Вычисляет значение func для всех элементов iterable\n",
    "* Возвращает список элементов, для которых функция вернула True\n",
    "* Как и функция map возвращает итератор (для Python 3)\n",
    "\n",
    "Функция callable() может сказать, является объект функцией или нет (есть ли у него операция \"круглые скобки\"):"
   ]
  },
  {
   "cell_type": "code",
   "execution_count": 2,
   "metadata": {},
   "outputs": [
    {
     "data": {
      "text/plain": [
       "[int, <function abs>]"
      ]
     },
     "execution_count": 2,
     "metadata": {},
     "output_type": "execute_result"
    }
   ],
   "source": [
    "# Только 2 объекта являются функциями, list и tuple не являются функциями:\n",
    "x = filter(callable, [[], int, (), abs])\n",
    "\n",
    "list(x)"
   ]
  },
  {
   "cell_type": "code",
   "execution_count": 3,
   "metadata": {},
   "outputs": [
    {
     "data": {
      "text/plain": [
       "[2, 4, 6]"
      ]
     },
     "execution_count": 3,
     "metadata": {},
     "output_type": "execute_result"
    }
   ],
   "source": [
    "x = filter(lambda x: x%2 == 0, [1, 2, 3, 4, 5, 6])\n",
    "\n",
    "list(x)"
   ]
  },
  {
   "cell_type": "markdown",
   "metadata": {},
   "source": [
    "Аналогичная и лучше читаемая запись (если нужно получить весь список сразу):"
   ]
  },
  {
   "cell_type": "code",
   "execution_count": 4,
   "metadata": {},
   "outputs": [
    {
     "name": "stdout",
     "output_type": "stream",
     "text": [
      "[2, 4, 6]\n"
     ]
    }
   ],
   "source": [
    "x = [x for x in [1, 2, 3, 4, 5, 6] if x%2 == 0]\n",
    "\n",
    "print(x)"
   ]
  },
  {
   "cell_type": "markdown",
   "metadata": {},
   "source": [
    "### Функция reduce()\n",
    "\n",
    "Эта функция устарела для Python 3, лучше использовать цикл `for` для этого:\n",
    "\n",
    "````python\n",
    "x = reduce(lambda x,y: x + y, [1, 2, 3, 4, 5])\n",
    "````"
   ]
  },
  {
   "cell_type": "markdown",
   "metadata": {},
   "source": [
    "## Библиотека itertools (for Python 2)\n",
    "\n",
    "Итераторные аналоги. Возвращают не список, а итератор.  \n",
    "Эти функции для Python 2 !!! В Python 3 функции map, zip, filter возвращают итератор!\n",
    "\n",
    "````python\n",
    "imap(func, iterable)\n",
    "  * Итераторный аналог map\n",
    "  ````\n",
    "  \n",
    "````python\n",
    "izip(p, q, ...)\n",
    "  * Итераторный аналог zip\n",
    "````\n",
    "\n",
    "````python\n",
    "ifilter(func, iterable)\n",
    "  * Итераторный аналог filter\n",
    "````"
   ]
  }
 ],
 "metadata": {
  "kernelspec": {
   "display_name": "Python 3",
   "language": "python",
   "name": "python3"
  },
  "language_info": {
   "codemirror_mode": {
    "name": "ipython",
    "version": 3
   },
   "file_extension": ".py",
   "mimetype": "text/x-python",
   "name": "python",
   "nbconvert_exporter": "python",
   "pygments_lexer": "ipython3",
   "version": "3.6.3"
  }
 },
 "nbformat": 4,
 "nbformat_minor": 2
}
